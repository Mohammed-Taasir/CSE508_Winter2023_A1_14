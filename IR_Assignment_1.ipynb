{
  "nbformat": 4,
  "nbformat_minor": 0,
  "metadata": {
    "colab": {
      "provenance": [],
      "authorship_tag": "ABX9TyORCBDQAW7Glhkk/Kl7WCIP",
      "include_colab_link": true
    },
    "kernelspec": {
      "name": "python3",
      "display_name": "Python 3"
    },
    "language_info": {
      "name": "python"
    }
  },
  "cells": [
    {
      "cell_type": "markdown",
      "metadata": {
        "id": "view-in-github",
        "colab_type": "text"
      },
      "source": [
        "<a href=\"https://colab.research.google.com/github/Mohammed-Taasir/IR_2023-GROUP-14/blob/assignment-1/IR_Assignment_1.ipynb\" target=\"_parent\"><img src=\"https://colab.research.google.com/assets/colab-badge.svg\" alt=\"Open In Colab\"/></a>"
      ]
    },
    {
      "cell_type": "code",
      "execution_count": 1,
      "metadata": {
        "colab": {
          "base_uri": "https://localhost:8080/"
        },
        "id": "CWAYXQ0oSqZ2",
        "outputId": "0b0c3184-9561-40e0-8807-4d517e8c4e2e"
      },
      "outputs": [
        {
          "output_type": "stream",
          "name": "stdout",
          "text": [
            "Mounted at /content/drive\n"
          ]
        }
      ],
      "source": [
        "from google.colab import drive\n",
        "drive.mount('/content/drive')"
      ]
    },
    {
      "cell_type": "code",
      "source": [
        "!cp '/content/drive/MyDrive/IR Assignment-1/CSE508_Winter2023_Dataset.zip' '/content/'\n",
        "!unzip 'CSE508_Winter2023_Dataset.zip' &> /dev/null\n",
        "!rm 'CSE508_Winter2023_Dataset.zip'"
      ],
      "metadata": {
        "id": "ASJxIYUHrJVn"
      },
      "execution_count": 2,
      "outputs": []
    },
    {
      "cell_type": "code",
      "source": [
        "import pandas as pd\n",
        "import os\n",
        "import glob\n",
        "import re\n",
        "\n",
        "/content/CSE508_Winter2023_Dataset"
      ],
      "metadata": {
        "id": "PD1AsTJzSxYQ"
      },
      "execution_count": 3,
      "outputs": []
    },
    {
      "cell_type": "code",
      "source": [
        "outfile_directory = os.path.join('/content', 'CSE508_Winter2023_Dataset')\n",
        "print(outfile_directory)"
      ],
      "metadata": {
        "colab": {
          "base_uri": "https://localhost:8080/"
        },
        "id": "n-HvyHfgTDRC",
        "outputId": "e86603ac-4944-497f-efea-989600d1bab4"
      },
      "execution_count": 7,
      "outputs": [
        {
          "output_type": "stream",
          "name": "stdout",
          "text": [
            "/content/CSE508_Winter2023_Dataset\n"
          ]
        }
      ]
    },
    {
      "cell_type": "code",
      "source": [
        "file_location = os.path.join('/content', 'CSE508_Winter2023_Dataset', 'cranfield*')\n",
        "print(file_location)"
      ],
      "metadata": {
        "colab": {
          "base_uri": "https://localhost:8080/"
        },
        "id": "i-f-2UF3TOWT",
        "outputId": "28e0eb93-7768-4ba0-ae74-2b82b3367020"
      },
      "execution_count": 8,
      "outputs": [
        {
          "output_type": "stream",
          "name": "stdout",
          "text": [
            "/content/CSE508_Winter2023_Dataset/cranfield*\n"
          ]
        }
      ]
    },
    {
      "cell_type": "code",
      "source": [
        "filenames = glob.glob(file_location)\n",
        "print(filenames)\n",
        "print('')\n",
        "print(len(filenames))"
      ],
      "metadata": {
        "colab": {
          "base_uri": "https://localhost:8080/"
        },
        "id": "AGLCIKrsTQxh",
        "outputId": "85a8d701-757b-4a72-fd31-d0b2a2d48df9"
      },
      "execution_count": 9,
      "outputs": [
        {
          "output_type": "stream",
          "name": "stdout",
          "text": [
            "['/content/CSE508_Winter2023_Dataset/cranfield0469', '/content/CSE508_Winter2023_Dataset/cranfield0585', '/content/CSE508_Winter2023_Dataset/cranfield0538', '/content/CSE508_Winter2023_Dataset/cranfield0020', '/content/CSE508_Winter2023_Dataset/cranfield1225', '/content/CSE508_Winter2023_Dataset/cranfield0007', '/content/CSE508_Winter2023_Dataset/cranfield0122', '/content/CSE508_Winter2023_Dataset/cranfield0025', '/content/CSE508_Winter2023_Dataset/cranfield0165', '/content/CSE508_Winter2023_Dataset/cranfield0864', '/content/CSE508_Winter2023_Dataset/cranfield0702', '/content/CSE508_Winter2023_Dataset/cranfield1154', '/content/CSE508_Winter2023_Dataset/cranfield0296', '/content/CSE508_Winter2023_Dataset/cranfield0428', '/content/CSE508_Winter2023_Dataset/cranfield0462', '/content/CSE508_Winter2023_Dataset/cranfield1192', '/content/CSE508_Winter2023_Dataset/cranfield1347', '/content/CSE508_Winter2023_Dataset/cranfield0093', '/content/CSE508_Winter2023_Dataset/cranfield0394', '/content/CSE508_Winter2023_Dataset/cranfield0843', '/content/CSE508_Winter2023_Dataset/cranfield1239', '/content/CSE508_Winter2023_Dataset/cranfield1381', '/content/CSE508_Winter2023_Dataset/cranfield0580', '/content/CSE508_Winter2023_Dataset/cranfield0257', '/content/CSE508_Winter2023_Dataset/cranfield0874', '/content/CSE508_Winter2023_Dataset/cranfield0550', '/content/CSE508_Winter2023_Dataset/cranfield1389', '/content/CSE508_Winter2023_Dataset/cranfield0439', '/content/CSE508_Winter2023_Dataset/cranfield0042', '/content/CSE508_Winter2023_Dataset/cranfield0705', '/content/CSE508_Winter2023_Dataset/cranfield0620', '/content/CSE508_Winter2023_Dataset/cranfield1375', '/content/CSE508_Winter2023_Dataset/cranfield0762', '/content/CSE508_Winter2023_Dataset/cranfield1306', '/content/CSE508_Winter2023_Dataset/cranfield0029', '/content/CSE508_Winter2023_Dataset/cranfield0107', '/content/CSE508_Winter2023_Dataset/cranfield0049', '/content/CSE508_Winter2023_Dataset/cranfield0727', '/content/CSE508_Winter2023_Dataset/cranfield0396', '/content/CSE508_Winter2023_Dataset/cranfield0592', '/content/CSE508_Winter2023_Dataset/cranfield0937', '/content/CSE508_Winter2023_Dataset/cranfield0421', '/content/CSE508_Winter2023_Dataset/cranfield0332', '/content/CSE508_Winter2023_Dataset/cranfield1332', '/content/CSE508_Winter2023_Dataset/cranfield1123', '/content/CSE508_Winter2023_Dataset/cranfield1366', '/content/CSE508_Winter2023_Dataset/cranfield0038', '/content/CSE508_Winter2023_Dataset/cranfield0683', '/content/CSE508_Winter2023_Dataset/cranfield0633', '/content/CSE508_Winter2023_Dataset/cranfield0860', '/content/CSE508_Winter2023_Dataset/cranfield0318', '/content/CSE508_Winter2023_Dataset/cranfield0839', '/content/CSE508_Winter2023_Dataset/cranfield0390', '/content/CSE508_Winter2023_Dataset/cranfield0285', '/content/CSE508_Winter2023_Dataset/cranfield0893', '/content/CSE508_Winter2023_Dataset/cranfield0786', '/content/CSE508_Winter2023_Dataset/cranfield1257', '/content/CSE508_Winter2023_Dataset/cranfield0123', '/content/CSE508_Winter2023_Dataset/cranfield1113', '/content/CSE508_Winter2023_Dataset/cranfield0963', '/content/CSE508_Winter2023_Dataset/cranfield1368', '/content/CSE508_Winter2023_Dataset/cranfield1055', '/content/CSE508_Winter2023_Dataset/cranfield0255', '/content/CSE508_Winter2023_Dataset/cranfield1206', '/content/CSE508_Winter2023_Dataset/cranfield1293', '/content/CSE508_Winter2023_Dataset/cranfield0761', '/content/CSE508_Winter2023_Dataset/cranfield0518', '/content/CSE508_Winter2023_Dataset/cranfield0219', '/content/CSE508_Winter2023_Dataset/cranfield1364', '/content/CSE508_Winter2023_Dataset/cranfield0881', '/content/CSE508_Winter2023_Dataset/cranfield0115', '/content/CSE508_Winter2023_Dataset/cranfield0236', '/content/CSE508_Winter2023_Dataset/cranfield0142', '/content/CSE508_Winter2023_Dataset/cranfield0656', '/content/CSE508_Winter2023_Dataset/cranfield0415', '/content/CSE508_Winter2023_Dataset/cranfield0112', '/content/CSE508_Winter2023_Dataset/cranfield1312', '/content/CSE508_Winter2023_Dataset/cranfield0584', '/content/CSE508_Winter2023_Dataset/cranfield1034', '/content/CSE508_Winter2023_Dataset/cranfield0195', '/content/CSE508_Winter2023_Dataset/cranfield0367', '/content/CSE508_Winter2023_Dataset/cranfield0284', '/content/CSE508_Winter2023_Dataset/cranfield0397', '/content/CSE508_Winter2023_Dataset/cranfield0896', '/content/CSE508_Winter2023_Dataset/cranfield0944', '/content/CSE508_Winter2023_Dataset/cranfield1017', '/content/CSE508_Winter2023_Dataset/cranfield0972', '/content/CSE508_Winter2023_Dataset/cranfield0626', '/content/CSE508_Winter2023_Dataset/cranfield0043', '/content/CSE508_Winter2023_Dataset/cranfield0919', '/content/CSE508_Winter2023_Dataset/cranfield0818', '/content/CSE508_Winter2023_Dataset/cranfield1133', '/content/CSE508_Winter2023_Dataset/cranfield0500', '/content/CSE508_Winter2023_Dataset/cranfield0190', '/content/CSE508_Winter2023_Dataset/cranfield0616', '/content/CSE508_Winter2023_Dataset/cranfield1385', '/content/CSE508_Winter2023_Dataset/cranfield1352', '/content/CSE508_Winter2023_Dataset/cranfield1117', '/content/CSE508_Winter2023_Dataset/cranfield0054', '/content/CSE508_Winter2023_Dataset/cranfield1039', '/content/CSE508_Winter2023_Dataset/cranfield0769', '/content/CSE508_Winter2023_Dataset/cranfield1163', '/content/CSE508_Winter2023_Dataset/cranfield0513', '/content/CSE508_Winter2023_Dataset/cranfield0295', '/content/CSE508_Winter2023_Dataset/cranfield0994', '/content/CSE508_Winter2023_Dataset/cranfield0342', '/content/CSE508_Winter2023_Dataset/cranfield1212', '/content/CSE508_Winter2023_Dataset/cranfield0479', '/content/CSE508_Winter2023_Dataset/cranfield0082', '/content/CSE508_Winter2023_Dataset/cranfield0589', '/content/CSE508_Winter2023_Dataset/cranfield0280', '/content/CSE508_Winter2023_Dataset/cranfield0751', '/content/CSE508_Winter2023_Dataset/cranfield1316', '/content/CSE508_Winter2023_Dataset/cranfield0412', '/content/CSE508_Winter2023_Dataset/cranfield0759', '/content/CSE508_Winter2023_Dataset/cranfield1146', '/content/CSE508_Winter2023_Dataset/cranfield1238', '/content/CSE508_Winter2023_Dataset/cranfield0194', '/content/CSE508_Winter2023_Dataset/cranfield0939', '/content/CSE508_Winter2023_Dataset/cranfield0234', '/content/CSE508_Winter2023_Dataset/cranfield1061', '/content/CSE508_Winter2023_Dataset/cranfield0734', '/content/CSE508_Winter2023_Dataset/cranfield0930', '/content/CSE508_Winter2023_Dataset/cranfield1006', '/content/CSE508_Winter2023_Dataset/cranfield0966', '/content/CSE508_Winter2023_Dataset/cranfield0447', '/content/CSE508_Winter2023_Dataset/cranfield0274', '/content/CSE508_Winter2023_Dataset/cranfield0371', '/content/CSE508_Winter2023_Dataset/cranfield0749', '/content/CSE508_Winter2023_Dataset/cranfield0771', '/content/CSE508_Winter2023_Dataset/cranfield0002', '/content/CSE508_Winter2023_Dataset/cranfield0571', '/content/CSE508_Winter2023_Dataset/cranfield1195', '/content/CSE508_Winter2023_Dataset/cranfield0578', '/content/CSE508_Winter2023_Dataset/cranfield1400', '/content/CSE508_Winter2023_Dataset/cranfield0358', '/content/CSE508_Winter2023_Dataset/cranfield0969', '/content/CSE508_Winter2023_Dataset/cranfield0068', '/content/CSE508_Winter2023_Dataset/cranfield0189', '/content/CSE508_Winter2023_Dataset/cranfield0348', '/content/CSE508_Winter2023_Dataset/cranfield0398', '/content/CSE508_Winter2023_Dataset/cranfield0006', '/content/CSE508_Winter2023_Dataset/cranfield1285', '/content/CSE508_Winter2023_Dataset/cranfield0403', '/content/CSE508_Winter2023_Dataset/cranfield0867', '/content/CSE508_Winter2023_Dataset/cranfield0566', '/content/CSE508_Winter2023_Dataset/cranfield0060', '/content/CSE508_Winter2023_Dataset/cranfield0490', '/content/CSE508_Winter2023_Dataset/cranfield0096', '/content/CSE508_Winter2023_Dataset/cranfield0401', '/content/CSE508_Winter2023_Dataset/cranfield1041', '/content/CSE508_Winter2023_Dataset/cranfield1140', '/content/CSE508_Winter2023_Dataset/cranfield0856', '/content/CSE508_Winter2023_Dataset/cranfield0817', '/content/CSE508_Winter2023_Dataset/cranfield0509', '/content/CSE508_Winter2023_Dataset/cranfield0166', '/content/CSE508_Winter2023_Dataset/cranfield0728', '/content/CSE508_Winter2023_Dataset/cranfield1124', '/content/CSE508_Winter2023_Dataset/cranfield1047', '/content/CSE508_Winter2023_Dataset/cranfield0597', '/content/CSE508_Winter2023_Dataset/cranfield1129', '/content/CSE508_Winter2023_Dataset/cranfield0484', '/content/CSE508_Winter2023_Dataset/cranfield0021', '/content/CSE508_Winter2023_Dataset/cranfield1030', '/content/CSE508_Winter2023_Dataset/cranfield0795', '/content/CSE508_Winter2023_Dataset/cranfield1144', '/content/CSE508_Winter2023_Dataset/cranfield1009', '/content/CSE508_Winter2023_Dataset/cranfield1000', '/content/CSE508_Winter2023_Dataset/cranfield0059', '/content/CSE508_Winter2023_Dataset/cranfield0158', '/content/CSE508_Winter2023_Dataset/cranfield0016', '/content/CSE508_Winter2023_Dataset/cranfield0522', '/content/CSE508_Winter2023_Dataset/cranfield0406', '/content/CSE508_Winter2023_Dataset/cranfield1111', '/content/CSE508_Winter2023_Dataset/cranfield0529', '/content/CSE508_Winter2023_Dataset/cranfield1271', '/content/CSE508_Winter2023_Dataset/cranfield0735', '/content/CSE508_Winter2023_Dataset/cranfield0895', '/content/CSE508_Winter2023_Dataset/cranfield0147', '/content/CSE508_Winter2023_Dataset/cranfield0384', '/content/CSE508_Winter2023_Dataset/cranfield0230', '/content/CSE508_Winter2023_Dataset/cranfield0040', '/content/CSE508_Winter2023_Dataset/cranfield1222', '/content/CSE508_Winter2023_Dataset/cranfield0494', '/content/CSE508_Winter2023_Dataset/cranfield0897', '/content/CSE508_Winter2023_Dataset/cranfield1037', '/content/CSE508_Winter2023_Dataset/cranfield0241', '/content/CSE508_Winter2023_Dataset/cranfield0875', '/content/CSE508_Winter2023_Dataset/cranfield0980', '/content/CSE508_Winter2023_Dataset/cranfield1115', '/content/CSE508_Winter2023_Dataset/cranfield1221', '/content/CSE508_Winter2023_Dataset/cranfield0824', '/content/CSE508_Winter2023_Dataset/cranfield0407', '/content/CSE508_Winter2023_Dataset/cranfield1280', '/content/CSE508_Winter2023_Dataset/cranfield0079', '/content/CSE508_Winter2023_Dataset/cranfield1107', '/content/CSE508_Winter2023_Dataset/cranfield0311', '/content/CSE508_Winter2023_Dataset/cranfield1317', '/content/CSE508_Winter2023_Dataset/cranfield0454', '/content/CSE508_Winter2023_Dataset/cranfield1290', '/content/CSE508_Winter2023_Dataset/cranfield0223', '/content/CSE508_Winter2023_Dataset/cranfield0873', '/content/CSE508_Winter2023_Dataset/cranfield0599', '/content/CSE508_Winter2023_Dataset/cranfield1052', '/content/CSE508_Winter2023_Dataset/cranfield1019', '/content/CSE508_Winter2023_Dataset/cranfield1227', '/content/CSE508_Winter2023_Dataset/cranfield0048', '/content/CSE508_Winter2023_Dataset/cranfield0891', '/content/CSE508_Winter2023_Dataset/cranfield1149', '/content/CSE508_Winter2023_Dataset/cranfield1337', '/content/CSE508_Winter2023_Dataset/cranfield0943', '/content/CSE508_Winter2023_Dataset/cranfield0647', '/content/CSE508_Winter2023_Dataset/cranfield0216', '/content/CSE508_Winter2023_Dataset/cranfield1329', '/content/CSE508_Winter2023_Dataset/cranfield1326', '/content/CSE508_Winter2023_Dataset/cranfield0294', '/content/CSE508_Winter2023_Dataset/cranfield1388', '/content/CSE508_Winter2023_Dataset/cranfield0894', '/content/CSE508_Winter2023_Dataset/cranfield0005', '/content/CSE508_Winter2023_Dataset/cranfield0622', '/content/CSE508_Winter2023_Dataset/cranfield0988', '/content/CSE508_Winter2023_Dataset/cranfield0618', '/content/CSE508_Winter2023_Dataset/cranfield0964', '/content/CSE508_Winter2023_Dataset/cranfield1162', '/content/CSE508_Winter2023_Dataset/cranfield0848', '/content/CSE508_Winter2023_Dataset/cranfield0267', '/content/CSE508_Winter2023_Dataset/cranfield1099', '/content/CSE508_Winter2023_Dataset/cranfield0181', '/content/CSE508_Winter2023_Dataset/cranfield0167', '/content/CSE508_Winter2023_Dataset/cranfield0092', '/content/CSE508_Winter2023_Dataset/cranfield0544', '/content/CSE508_Winter2023_Dataset/cranfield0754', '/content/CSE508_Winter2023_Dataset/cranfield1214', '/content/CSE508_Winter2023_Dataset/cranfield1277', '/content/CSE508_Winter2023_Dataset/cranfield0138', '/content/CSE508_Winter2023_Dataset/cranfield1092', '/content/CSE508_Winter2023_Dataset/cranfield0927', '/content/CSE508_Winter2023_Dataset/cranfield0547', '/content/CSE508_Winter2023_Dataset/cranfield0209', '/content/CSE508_Winter2023_Dataset/cranfield0143', '/content/CSE508_Winter2023_Dataset/cranfield0455', '/content/CSE508_Winter2023_Dataset/cranfield1220', '/content/CSE508_Winter2023_Dataset/cranfield0823', '/content/CSE508_Winter2023_Dataset/cranfield0206', '/content/CSE508_Winter2023_Dataset/cranfield1112', '/content/CSE508_Winter2023_Dataset/cranfield0573', '/content/CSE508_Winter2023_Dataset/cranfield0144', '/content/CSE508_Winter2023_Dataset/cranfield0793', '/content/CSE508_Winter2023_Dataset/cranfield0140', '/content/CSE508_Winter2023_Dataset/cranfield0816', '/content/CSE508_Winter2023_Dataset/cranfield0645', '/content/CSE508_Winter2023_Dataset/cranfield0201', '/content/CSE508_Winter2023_Dataset/cranfield0039', '/content/CSE508_Winter2023_Dataset/cranfield0594', '/content/CSE508_Winter2023_Dataset/cranfield0729', '/content/CSE508_Winter2023_Dataset/cranfield0220', '/content/CSE508_Winter2023_Dataset/cranfield1190', '/content/CSE508_Winter2023_Dataset/cranfield1141', '/content/CSE508_Winter2023_Dataset/cranfield0228', '/content/CSE508_Winter2023_Dataset/cranfield0310', '/content/CSE508_Winter2023_Dataset/cranfield0116', '/content/CSE508_Winter2023_Dataset/cranfield0903', '/content/CSE508_Winter2023_Dataset/cranfield0630', '/content/CSE508_Winter2023_Dataset/cranfield0505', '/content/CSE508_Winter2023_Dataset/cranfield0996', '/content/CSE508_Winter2023_Dataset/cranfield1025', '/content/CSE508_Winter2023_Dataset/cranfield1362', '/content/CSE508_Winter2023_Dataset/cranfield0665', '/content/CSE508_Winter2023_Dataset/cranfield1016', '/content/CSE508_Winter2023_Dataset/cranfield1013', '/content/CSE508_Winter2023_Dataset/cranfield0226', '/content/CSE508_Winter2023_Dataset/cranfield0177', '/content/CSE508_Winter2023_Dataset/cranfield0934', '/content/CSE508_Winter2023_Dataset/cranfield0300', '/content/CSE508_Winter2023_Dataset/cranfield0353', '/content/CSE508_Winter2023_Dataset/cranfield0088', '/content/CSE508_Winter2023_Dataset/cranfield0629', '/content/CSE508_Winter2023_Dataset/cranfield0137', '/content/CSE508_Winter2023_Dataset/cranfield0308', '/content/CSE508_Winter2023_Dataset/cranfield0188', '/content/CSE508_Winter2023_Dataset/cranfield0104', '/content/CSE508_Winter2023_Dataset/cranfield0726', '/content/CSE508_Winter2023_Dataset/cranfield1270', '/content/CSE508_Winter2023_Dataset/cranfield0782', '/content/CSE508_Winter2023_Dataset/cranfield0245', '/content/CSE508_Winter2023_Dataset/cranfield0885', '/content/CSE508_Winter2023_Dataset/cranfield0551', '/content/CSE508_Winter2023_Dataset/cranfield0010', '/content/CSE508_Winter2023_Dataset/cranfield1012', '/content/CSE508_Winter2023_Dataset/cranfield0352', '/content/CSE508_Winter2023_Dataset/cranfield0747', '/content/CSE508_Winter2023_Dataset/cranfield0711', '/content/CSE508_Winter2023_Dataset/cranfield0377', '/content/CSE508_Winter2023_Dataset/cranfield0560', '/content/CSE508_Winter2023_Dataset/cranfield0517', '/content/CSE508_Winter2023_Dataset/cranfield0577', '/content/CSE508_Winter2023_Dataset/cranfield1318', '/content/CSE508_Winter2023_Dataset/cranfield0921', '/content/CSE508_Winter2023_Dataset/cranfield0156', '/content/CSE508_Winter2023_Dataset/cranfield0785', '/content/CSE508_Winter2023_Dataset/cranfield0603', '/content/CSE508_Winter2023_Dataset/cranfield0530', '/content/CSE508_Winter2023_Dataset/cranfield0552', '/content/CSE508_Winter2023_Dataset/cranfield1130', '/content/CSE508_Winter2023_Dataset/cranfield0242', '/content/CSE508_Winter2023_Dataset/cranfield1289', '/content/CSE508_Winter2023_Dataset/cranfield0556', '/content/CSE508_Winter2023_Dataset/cranfield1178', '/content/CSE508_Winter2023_Dataset/cranfield1295', '/content/CSE508_Winter2023_Dataset/cranfield1060', '/content/CSE508_Winter2023_Dataset/cranfield1125', '/content/CSE508_Winter2023_Dataset/cranfield0537', '/content/CSE508_Winter2023_Dataset/cranfield0667', '/content/CSE508_Winter2023_Dataset/cranfield0290', '/content/CSE508_Winter2023_Dataset/cranfield0531', '/content/CSE508_Winter2023_Dataset/cranfield0213', '/content/CSE508_Winter2023_Dataset/cranfield0710', '/content/CSE508_Winter2023_Dataset/cranfield0534', '/content/CSE508_Winter2023_Dataset/cranfield1259', '/content/CSE508_Winter2023_Dataset/cranfield0004', '/content/CSE508_Winter2023_Dataset/cranfield1369', '/content/CSE508_Winter2023_Dataset/cranfield0840', '/content/CSE508_Winter2023_Dataset/cranfield0561', '/content/CSE508_Winter2023_Dataset/cranfield1284', '/content/CSE508_Winter2023_Dataset/cranfield0596', '/content/CSE508_Winter2023_Dataset/cranfield0099', '/content/CSE508_Winter2023_Dataset/cranfield0968', '/content/CSE508_Winter2023_Dataset/cranfield0056', '/content/CSE508_Winter2023_Dataset/cranfield1194', '/content/CSE508_Winter2023_Dataset/cranfield0605', '/content/CSE508_Winter2023_Dataset/cranfield0481', '/content/CSE508_Winter2023_Dataset/cranfield0269', '/content/CSE508_Winter2023_Dataset/cranfield0587', '/content/CSE508_Winter2023_Dataset/cranfield1056', '/content/CSE508_Winter2023_Dataset/cranfield0225', '/content/CSE508_Winter2023_Dataset/cranfield0214', '/content/CSE508_Winter2023_Dataset/cranfield1207', '/content/CSE508_Winter2023_Dataset/cranfield0655', '/content/CSE508_Winter2023_Dataset/cranfield0878', '/content/CSE508_Winter2023_Dataset/cranfield1072', '/content/CSE508_Winter2023_Dataset/cranfield0024', '/content/CSE508_Winter2023_Dataset/cranfield0965', '/content/CSE508_Winter2023_Dataset/cranfield0659', '/content/CSE508_Winter2023_Dataset/cranfield0202', '/content/CSE508_Winter2023_Dataset/cranfield0526', '/content/CSE508_Winter2023_Dataset/cranfield0259', '/content/CSE508_Winter2023_Dataset/cranfield0067', '/content/CSE508_Winter2023_Dataset/cranfield0330', '/content/CSE508_Winter2023_Dataset/cranfield0287', '/content/CSE508_Winter2023_Dataset/cranfield1272', '/content/CSE508_Winter2023_Dataset/cranfield0443', '/content/CSE508_Winter2023_Dataset/cranfield0880', '/content/CSE508_Winter2023_Dataset/cranfield0916', '/content/CSE508_Winter2023_Dataset/cranfield0105', '/content/CSE508_Winter2023_Dataset/cranfield1263', '/content/CSE508_Winter2023_Dataset/cranfield0400', '/content/CSE508_Winter2023_Dataset/cranfield0150', '/content/CSE508_Winter2023_Dataset/cranfield0521', '/content/CSE508_Winter2023_Dataset/cranfield0719', '/content/CSE508_Winter2023_Dataset/cranfield1287', '/content/CSE508_Winter2023_Dataset/cranfield0323', '/content/CSE508_Winter2023_Dataset/cranfield0474', '/content/CSE508_Winter2023_Dataset/cranfield0541', '/content/CSE508_Winter2023_Dataset/cranfield1114', '/content/CSE508_Winter2023_Dataset/cranfield0309', '/content/CSE508_Winter2023_Dataset/cranfield0124', '/content/CSE508_Winter2023_Dataset/cranfield0064', '/content/CSE508_Winter2023_Dataset/cranfield1374', '/content/CSE508_Winter2023_Dataset/cranfield0936', '/content/CSE508_Winter2023_Dataset/cranfield0998', '/content/CSE508_Winter2023_Dataset/cranfield1015', '/content/CSE508_Winter2023_Dataset/cranfield0343', '/content/CSE508_Winter2023_Dataset/cranfield0814', '/content/CSE508_Winter2023_Dataset/cranfield1161', '/content/CSE508_Winter2023_Dataset/cranfield0708', '/content/CSE508_Winter2023_Dataset/cranfield0286', '/content/CSE508_Winter2023_Dataset/cranfield0917', '/content/CSE508_Winter2023_Dataset/cranfield0472', '/content/CSE508_Winter2023_Dataset/cranfield0845', '/content/CSE508_Winter2023_Dataset/cranfield0755', '/content/CSE508_Winter2023_Dataset/cranfield1339', '/content/CSE508_Winter2023_Dataset/cranfield0061', '/content/CSE508_Winter2023_Dataset/cranfield0876', '/content/CSE508_Winter2023_Dataset/cranfield0357', '/content/CSE508_Winter2023_Dataset/cranfield0648', '/content/CSE508_Winter2023_Dataset/cranfield1211', '/content/CSE508_Winter2023_Dataset/cranfield1157', '/content/CSE508_Winter2023_Dataset/cranfield1343', '/content/CSE508_Winter2023_Dataset/cranfield0909', '/content/CSE508_Winter2023_Dataset/cranfield0770', '/content/CSE508_Winter2023_Dataset/cranfield0411', '/content/CSE508_Winter2023_Dataset/cranfield0338', '/content/CSE508_Winter2023_Dataset/cranfield0457', '/content/CSE508_Winter2023_Dataset/cranfield0542', '/content/CSE508_Winter2023_Dataset/cranfield1075', '/content/CSE508_Winter2023_Dataset/cranfield0857', '/content/CSE508_Winter2023_Dataset/cranfield0753', '/content/CSE508_Winter2023_Dataset/cranfield0826', '/content/CSE508_Winter2023_Dataset/cranfield0326', '/content/CSE508_Winter2023_Dataset/cranfield1313', '/content/CSE508_Winter2023_Dataset/cranfield0453', '/content/CSE508_Winter2023_Dataset/cranfield0399', '/content/CSE508_Winter2023_Dataset/cranfield0569', '/content/CSE508_Winter2023_Dataset/cranfield0773', '/content/CSE508_Winter2023_Dataset/cranfield1274', '/content/CSE508_Winter2023_Dataset/cranfield0607', '/content/CSE508_Winter2023_Dataset/cranfield0410', '/content/CSE508_Winter2023_Dataset/cranfield1217', '/content/CSE508_Winter2023_Dataset/cranfield0733', '/content/CSE508_Winter2023_Dataset/cranfield1348', '/content/CSE508_Winter2023_Dataset/cranfield0774', '/content/CSE508_Winter2023_Dataset/cranfield0304', '/content/CSE508_Winter2023_Dataset/cranfield1080', '/content/CSE508_Winter2023_Dataset/cranfield0949', '/content/CSE508_Winter2023_Dataset/cranfield0289', '/content/CSE508_Winter2023_Dataset/cranfield0089', '/content/CSE508_Winter2023_Dataset/cranfield1320', '/content/CSE508_Winter2023_Dataset/cranfield0750', '/content/CSE508_Winter2023_Dataset/cranfield0159', '/content/CSE508_Winter2023_Dataset/cranfield0844', '/content/CSE508_Winter2023_Dataset/cranfield0870', '/content/CSE508_Winter2023_Dataset/cranfield1386', '/content/CSE508_Winter2023_Dataset/cranfield0126', '/content/CSE508_Winter2023_Dataset/cranfield0431', '/content/CSE508_Winter2023_Dataset/cranfield0787', '/content/CSE508_Winter2023_Dataset/cranfield0717', '/content/CSE508_Winter2023_Dataset/cranfield0499', '/content/CSE508_Winter2023_Dataset/cranfield1096', '/content/CSE508_Winter2023_Dataset/cranfield1121', '/content/CSE508_Winter2023_Dataset/cranfield0395', '/content/CSE508_Winter2023_Dataset/cranfield0985', '/content/CSE508_Winter2023_Dataset/cranfield1084', '/content/CSE508_Winter2023_Dataset/cranfield0117', '/content/CSE508_Winter2023_Dataset/cranfield0191', '/content/CSE508_Winter2023_Dataset/cranfield0804', '/content/CSE508_Winter2023_Dataset/cranfield0366', '/content/CSE508_Winter2023_Dataset/cranfield1353', '/content/CSE508_Winter2023_Dataset/cranfield0360', '/content/CSE508_Winter2023_Dataset/cranfield0984', '/content/CSE508_Winter2023_Dataset/cranfield0168', '/content/CSE508_Winter2023_Dataset/cranfield0636', '/content/CSE508_Winter2023_Dataset/cranfield0821', '/content/CSE508_Winter2023_Dataset/cranfield1308', '/content/CSE508_Winter2023_Dataset/cranfield1342', '/content/CSE508_Winter2023_Dataset/cranfield0956', '/content/CSE508_Winter2023_Dataset/cranfield0757', '/content/CSE508_Winter2023_Dataset/cranfield0772', '/content/CSE508_Winter2023_Dataset/cranfield0211', '/content/CSE508_Winter2023_Dataset/cranfield0263', '/content/CSE508_Winter2023_Dataset/cranfield0383', '/content/CSE508_Winter2023_Dataset/cranfield0678', '/content/CSE508_Winter2023_Dataset/cranfield0662', '/content/CSE508_Winter2023_Dataset/cranfield0923', '/content/CSE508_Winter2023_Dataset/cranfield1119', '/content/CSE508_Winter2023_Dataset/cranfield0520', '/content/CSE508_Winter2023_Dataset/cranfield0319', '/content/CSE508_Winter2023_Dataset/cranfield0486', '/content/CSE508_Winter2023_Dataset/cranfield1042', '/content/CSE508_Winter2023_Dataset/cranfield0671', '/content/CSE508_Winter2023_Dataset/cranfield0273', '/content/CSE508_Winter2023_Dataset/cranfield0703', '/content/CSE508_Winter2023_Dataset/cranfield0912', '/content/CSE508_Winter2023_Dataset/cranfield1138', '/content/CSE508_Winter2023_Dataset/cranfield0744', '/content/CSE508_Winter2023_Dataset/cranfield1283', '/content/CSE508_Winter2023_Dataset/cranfield0063', '/content/CSE508_Winter2023_Dataset/cranfield0339', '/content/CSE508_Winter2023_Dataset/cranfield0045', '/content/CSE508_Winter2023_Dataset/cranfield0416', '/content/CSE508_Winter2023_Dataset/cranfield1167', '/content/CSE508_Winter2023_Dataset/cranfield1200', '/content/CSE508_Winter2023_Dataset/cranfield0389', '/content/CSE508_Winter2023_Dataset/cranfield1168', '/content/CSE508_Winter2023_Dataset/cranfield1046', '/content/CSE508_Winter2023_Dataset/cranfield0925', '/content/CSE508_Winter2023_Dataset/cranfield0535', '/content/CSE508_Winter2023_Dataset/cranfield0904', '/content/CSE508_Winter2023_Dataset/cranfield0033', '/content/CSE508_Winter2023_Dataset/cranfield0692', '/content/CSE508_Winter2023_Dataset/cranfield0199', '/content/CSE508_Winter2023_Dataset/cranfield0632', '/content/CSE508_Winter2023_Dataset/cranfield0157', '/content/CSE508_Winter2023_Dataset/cranfield0373', '/content/CSE508_Winter2023_Dataset/cranfield1253', '/content/CSE508_Winter2023_Dataset/cranfield0791', '/content/CSE508_Winter2023_Dataset/cranfield0764', '/content/CSE508_Winter2023_Dataset/cranfield0239', '/content/CSE508_Winter2023_Dataset/cranfield1360', '/content/CSE508_Winter2023_Dataset/cranfield0935', '/content/CSE508_Winter2023_Dataset/cranfield0911', '/content/CSE508_Winter2023_Dataset/cranfield1276', '/content/CSE508_Winter2023_Dataset/cranfield1024', '/content/CSE508_Winter2023_Dataset/cranfield1341', '/content/CSE508_Winter2023_Dataset/cranfield0013', '/content/CSE508_Winter2023_Dataset/cranfield0135', '/content/CSE508_Winter2023_Dataset/cranfield1077', '/content/CSE508_Winter2023_Dataset/cranfield1273', '/content/CSE508_Winter2023_Dataset/cranfield0999', '/content/CSE508_Winter2023_Dataset/cranfield0822', '/content/CSE508_Winter2023_Dataset/cranfield1160', '/content/CSE508_Winter2023_Dataset/cranfield0981', '/content/CSE508_Winter2023_Dataset/cranfield1086', '/content/CSE508_Winter2023_Dataset/cranfield1038', '/content/CSE508_Winter2023_Dataset/cranfield1135', '/content/CSE508_Winter2023_Dataset/cranfield0776', '/content/CSE508_Winter2023_Dataset/cranfield0055', '/content/CSE508_Winter2023_Dataset/cranfield0862', '/content/CSE508_Winter2023_Dataset/cranfield0493', '/content/CSE508_Winter2023_Dataset/cranfield1303', '/content/CSE508_Winter2023_Dataset/cranfield1205', '/content/CSE508_Winter2023_Dataset/cranfield1020', '/content/CSE508_Winter2023_Dataset/cranfield0850', '/content/CSE508_Winter2023_Dataset/cranfield0576', '/content/CSE508_Winter2023_Dataset/cranfield0072', '/content/CSE508_Winter2023_Dataset/cranfield0136', '/content/CSE508_Winter2023_Dataset/cranfield1267', '/content/CSE508_Winter2023_Dataset/cranfield1229', '/content/CSE508_Winter2023_Dataset/cranfield0345', '/content/CSE508_Winter2023_Dataset/cranfield0346', '/content/CSE508_Winter2023_Dataset/cranfield1242', '/content/CSE508_Winter2023_Dataset/cranfield0953', '/content/CSE508_Winter2023_Dataset/cranfield0642', '/content/CSE508_Winter2023_Dataset/cranfield0174', '/content/CSE508_Winter2023_Dataset/cranfield0449', '/content/CSE508_Winter2023_Dataset/cranfield1031', '/content/CSE508_Winter2023_Dataset/cranfield0355', '/content/CSE508_Winter2023_Dataset/cranfield1256', '/content/CSE508_Winter2023_Dataset/cranfield0047', '/content/CSE508_Winter2023_Dataset/cranfield0855', '/content/CSE508_Winter2023_Dataset/cranfield0693', '/content/CSE508_Winter2023_Dataset/cranfield0951', '/content/CSE508_Winter2023_Dataset/cranfield0697', '/content/CSE508_Winter2023_Dataset/cranfield0492', '/content/CSE508_Winter2023_Dataset/cranfield0829', '/content/CSE508_Winter2023_Dataset/cranfield0148', '/content/CSE508_Winter2023_Dataset/cranfield0441', '/content/CSE508_Winter2023_Dataset/cranfield0444', '/content/CSE508_Winter2023_Dataset/cranfield1354', '/content/CSE508_Winter2023_Dataset/cranfield0011', '/content/CSE508_Winter2023_Dataset/cranfield0815', '/content/CSE508_Winter2023_Dataset/cranfield0488', '/content/CSE508_Winter2023_Dataset/cranfield0080', '/content/CSE508_Winter2023_Dataset/cranfield1083', '/content/CSE508_Winter2023_Dataset/cranfield1158', '/content/CSE508_Winter2023_Dataset/cranfield0186', '/content/CSE508_Winter2023_Dataset/cranfield0803', '/content/CSE508_Winter2023_Dataset/cranfield1188', '/content/CSE508_Winter2023_Dataset/cranfield0649', '/content/CSE508_Winter2023_Dataset/cranfield0960', '/content/CSE508_Winter2023_Dataset/cranfield1035', '/content/CSE508_Winter2023_Dataset/cranfield0224', '/content/CSE508_Winter2023_Dataset/cranfield0264', '/content/CSE508_Winter2023_Dataset/cranfield0128', '/content/CSE508_Winter2023_Dataset/cranfield0924', '/content/CSE508_Winter2023_Dataset/cranfield1180', '/content/CSE508_Winter2023_Dataset/cranfield0883', '/content/CSE508_Winter2023_Dataset/cranfield0185', '/content/CSE508_Winter2023_Dataset/cranfield0392', '/content/CSE508_Winter2023_Dataset/cranfield1382', '/content/CSE508_Winter2023_Dataset/cranfield0252', '/content/CSE508_Winter2023_Dataset/cranfield1054', '/content/CSE508_Winter2023_Dataset/cranfield0868', '/content/CSE508_Winter2023_Dataset/cranfield1094', '/content/CSE508_Winter2023_Dataset/cranfield1367', '/content/CSE508_Winter2023_Dataset/cranfield1219', '/content/CSE508_Winter2023_Dataset/cranfield0696', '/content/CSE508_Winter2023_Dataset/cranfield1110', '/content/CSE508_Winter2023_Dataset/cranfield0718', '/content/CSE508_Winter2023_Dataset/cranfield0183', '/content/CSE508_Winter2023_Dataset/cranfield1252', '/content/CSE508_Winter2023_Dataset/cranfield1356', '/content/CSE508_Winter2023_Dataset/cranfield1244', '/content/CSE508_Winter2023_Dataset/cranfield0788', '/content/CSE508_Winter2023_Dataset/cranfield0393', '/content/CSE508_Winter2023_Dataset/cranfield0528', '/content/CSE508_Winter2023_Dataset/cranfield0941', '/content/CSE508_Winter2023_Dataset/cranfield1299', '/content/CSE508_Winter2023_Dataset/cranfield0598', '/content/CSE508_Winter2023_Dataset/cranfield0625', '/content/CSE508_Winter2023_Dataset/cranfield0623', '/content/CSE508_Winter2023_Dataset/cranfield1145', '/content/CSE508_Winter2023_Dataset/cranfield1173', '/content/CSE508_Winter2023_Dataset/cranfield1248', '/content/CSE508_Winter2023_Dataset/cranfield0215', '/content/CSE508_Winter2023_Dataset/cranfield0386', '/content/CSE508_Winter2023_Dataset/cranfield0932', '/content/CSE508_Winter2023_Dataset/cranfield0699', '/content/CSE508_Winter2023_Dataset/cranfield0467', '/content/CSE508_Winter2023_Dataset/cranfield0809', '/content/CSE508_Winter2023_Dataset/cranfield0604', '/content/CSE508_Winter2023_Dataset/cranfield1022', '/content/CSE508_Winter2023_Dataset/cranfield0404', '/content/CSE508_Winter2023_Dataset/cranfield0111', '/content/CSE508_Winter2023_Dataset/cranfield0801', '/content/CSE508_Winter2023_Dataset/cranfield1102', '/content/CSE508_Winter2023_Dataset/cranfield0178', '/content/CSE508_Winter2023_Dataset/cranfield1345', '/content/CSE508_Winter2023_Dataset/cranfield1005', '/content/CSE508_Winter2023_Dataset/cranfield0846', '/content/CSE508_Winter2023_Dataset/cranfield1228', '/content/CSE508_Winter2023_Dataset/cranfield1324', '/content/CSE508_Winter2023_Dataset/cranfield1300', '/content/CSE508_Winter2023_Dataset/cranfield1359', '/content/CSE508_Winter2023_Dataset/cranfield0077', '/content/CSE508_Winter2023_Dataset/cranfield0852', '/content/CSE508_Winter2023_Dataset/cranfield0176', '/content/CSE508_Winter2023_Dataset/cranfield1176', '/content/CSE508_Winter2023_Dataset/cranfield0931', '/content/CSE508_Winter2023_Dataset/cranfield0231', '/content/CSE508_Winter2023_Dataset/cranfield1172', '/content/CSE508_Winter2023_Dataset/cranfield1179', '/content/CSE508_Winter2023_Dataset/cranfield1059', '/content/CSE508_Winter2023_Dataset/cranfield0187', '/content/CSE508_Winter2023_Dataset/cranfield0081', '/content/CSE508_Winter2023_Dataset/cranfield0709', '/content/CSE508_Winter2023_Dataset/cranfield0871', '/content/CSE508_Winter2023_Dataset/cranfield0325', '/content/CSE508_Winter2023_Dataset/cranfield1105', '/content/CSE508_Winter2023_Dataset/cranfield0947', '/content/CSE508_Winter2023_Dataset/cranfield0628', '/content/CSE508_Winter2023_Dataset/cranfield0246', '/content/CSE508_Winter2023_Dataset/cranfield0133', '/content/CSE508_Winter2023_Dataset/cranfield0523', '/content/CSE508_Winter2023_Dataset/cranfield0621', '/content/CSE508_Winter2023_Dataset/cranfield0301', '/content/CSE508_Winter2023_Dataset/cranfield1139', '/content/CSE508_Winter2023_Dataset/cranfield0175', '/content/CSE508_Winter2023_Dataset/cranfield0119', '/content/CSE508_Winter2023_Dataset/cranfield0582', '/content/CSE508_Winter2023_Dataset/cranfield0477', '/content/CSE508_Winter2023_Dataset/cranfield0114', '/content/CSE508_Winter2023_Dataset/cranfield0887', '/content/CSE508_Winter2023_Dataset/cranfield0163', '/content/CSE508_Winter2023_Dataset/cranfield1134', '/content/CSE508_Winter2023_Dataset/cranfield0650', '/content/CSE508_Winter2023_Dataset/cranfield1169', '/content/CSE508_Winter2023_Dataset/cranfield1201', '/content/CSE508_Winter2023_Dataset/cranfield1264', '/content/CSE508_Winter2023_Dataset/cranfield1249', '/content/CSE508_Winter2023_Dataset/cranfield1373', '/content/CSE508_Winter2023_Dataset/cranfield0193', '/content/CSE508_Winter2023_Dataset/cranfield0565', '/content/CSE508_Winter2023_Dataset/cranfield0459', '/content/CSE508_Winter2023_Dataset/cranfield0976', '/content/CSE508_Winter2023_Dataset/cranfield0496', '/content/CSE508_Winter2023_Dataset/cranfield0258', '/content/CSE508_Winter2023_Dataset/cranfield0204', '/content/CSE508_Winter2023_Dataset/cranfield0948', '/content/CSE508_Winter2023_Dataset/cranfield1395', '/content/CSE508_Winter2023_Dataset/cranfield0091', '/content/CSE508_Winter2023_Dataset/cranfield1018', '/content/CSE508_Winter2023_Dataset/cranfield0197', '/content/CSE508_Winter2023_Dataset/cranfield0973', '/content/CSE508_Winter2023_Dataset/cranfield0451', '/content/CSE508_Winter2023_Dataset/cranfield0591', '/content/CSE508_Winter2023_Dataset/cranfield0164', '/content/CSE508_Winter2023_Dataset/cranfield1131', '/content/CSE508_Winter2023_Dataset/cranfield0173', '/content/CSE508_Winter2023_Dataset/cranfield1148', '/content/CSE508_Winter2023_Dataset/cranfield0562', '/content/CSE508_Winter2023_Dataset/cranfield0612', '/content/CSE508_Winter2023_Dataset/cranfield0297', '/content/CSE508_Winter2023_Dataset/cranfield1098', '/content/CSE508_Winter2023_Dataset/cranfield0813', '/content/CSE508_Winter2023_Dataset/cranfield0233', '/content/CSE508_Winter2023_Dataset/cranfield0886', '/content/CSE508_Winter2023_Dataset/cranfield1008', '/content/CSE508_Winter2023_Dataset/cranfield1384', '/content/CSE508_Winter2023_Dataset/cranfield0461', '/content/CSE508_Winter2023_Dataset/cranfield0669', '/content/CSE508_Winter2023_Dataset/cranfield0333', '/content/CSE508_Winter2023_Dataset/cranfield0260', '/content/CSE508_Winter2023_Dataset/cranfield1143', '/content/CSE508_Winter2023_Dataset/cranfield0473', '/content/CSE508_Winter2023_Dataset/cranfield1040', '/content/CSE508_Winter2023_Dataset/cranfield0760', '/content/CSE508_Winter2023_Dataset/cranfield0041', '/content/CSE508_Winter2023_Dataset/cranfield0132', '/content/CSE508_Winter2023_Dataset/cranfield1089', '/content/CSE508_Winter2023_Dataset/cranfield1147', '/content/CSE508_Winter2023_Dataset/cranfield1051', '/content/CSE508_Winter2023_Dataset/cranfield0250', '/content/CSE508_Winter2023_Dataset/cranfield1191', '/content/CSE508_Winter2023_Dataset/cranfield0376', '/content/CSE508_Winter2023_Dataset/cranfield0331', '/content/CSE508_Winter2023_Dataset/cranfield1251', '/content/CSE508_Winter2023_Dataset/cranfield0027', '/content/CSE508_Winter2023_Dataset/cranfield1058', '/content/CSE508_Winter2023_Dataset/cranfield0720', '/content/CSE508_Winter2023_Dataset/cranfield0830', '/content/CSE508_Winter2023_Dataset/cranfield0253', '/content/CSE508_Winter2023_Dataset/cranfield0298', '/content/CSE508_Winter2023_Dataset/cranfield0841', '/content/CSE508_Winter2023_Dataset/cranfield1174', '/content/CSE508_Winter2023_Dataset/cranfield0564', '/content/CSE508_Winter2023_Dataset/cranfield0429', '/content/CSE508_Winter2023_Dataset/cranfield0129', '/content/CSE508_Winter2023_Dataset/cranfield0660', '/content/CSE508_Winter2023_Dataset/cranfield0221', '/content/CSE508_Winter2023_Dataset/cranfield0312', '/content/CSE508_Winter2023_Dataset/cranfield0581', '/content/CSE508_Winter2023_Dataset/cranfield0420', '/content/CSE508_Winter2023_Dataset/cranfield0882', '/content/CSE508_Winter2023_Dataset/cranfield0182', '/content/CSE508_Winter2023_Dataset/cranfield1370', '/content/CSE508_Winter2023_Dataset/cranfield1296', '/content/CSE508_Winter2023_Dataset/cranfield0763', '/content/CSE508_Winter2023_Dataset/cranfield0014', '/content/CSE508_Winter2023_Dataset/cranfield0198', '/content/CSE508_Winter2023_Dataset/cranfield0001', '/content/CSE508_Winter2023_Dataset/cranfield0806', '/content/CSE508_Winter2023_Dataset/cranfield1357', '/content/CSE508_Winter2023_Dataset/cranfield0865', '/content/CSE508_Winter2023_Dataset/cranfield0715', '/content/CSE508_Winter2023_Dataset/cranfield0351', '/content/CSE508_Winter2023_Dataset/cranfield1199', '/content/CSE508_Winter2023_Dataset/cranfield0097', '/content/CSE508_Winter2023_Dataset/cranfield0476', '/content/CSE508_Winter2023_Dataset/cranfield1028', '/content/CSE508_Winter2023_Dataset/cranfield0987', '/content/CSE508_Winter2023_Dataset/cranfield1240', '/content/CSE508_Winter2023_Dataset/cranfield0680', '/content/CSE508_Winter2023_Dataset/cranfield0419', '/content/CSE508_Winter2023_Dataset/cranfield1269', '/content/CSE508_Winter2023_Dataset/cranfield0452', '/content/CSE508_Winter2023_Dataset/cranfield0519', '/content/CSE508_Winter2023_Dataset/cranfield0032', '/content/CSE508_Winter2023_Dataset/cranfield0504', '/content/CSE508_Winter2023_Dataset/cranfield0832', '/content/CSE508_Winter2023_Dataset/cranfield0732', '/content/CSE508_Winter2023_Dataset/cranfield0425', '/content/CSE508_Winter2023_Dataset/cranfield0249', '/content/CSE508_Winter2023_Dataset/cranfield0928', '/content/CSE508_Winter2023_Dataset/cranfield1380', '/content/CSE508_Winter2023_Dataset/cranfield1128', '/content/CSE508_Winter2023_Dataset/cranfield1166', '/content/CSE508_Winter2023_Dataset/cranfield0634', '/content/CSE508_Winter2023_Dataset/cranfield0977', '/content/CSE508_Winter2023_Dataset/cranfield1127', '/content/CSE508_Winter2023_Dataset/cranfield0022', '/content/CSE508_Winter2023_Dataset/cranfield1081', '/content/CSE508_Winter2023_Dataset/cranfield1288', '/content/CSE508_Winter2023_Dataset/cranfield0463', '/content/CSE508_Winter2023_Dataset/cranfield1177', '/content/CSE508_Winter2023_Dataset/cranfield0489', '/content/CSE508_Winter2023_Dataset/cranfield0145', '/content/CSE508_Winter2023_Dataset/cranfield0798', '/content/CSE508_Winter2023_Dataset/cranfield0450', '/content/CSE508_Winter2023_Dataset/cranfield1185', '/content/CSE508_Winter2023_Dataset/cranfield1202', '/content/CSE508_Winter2023_Dataset/cranfield0044', '/content/CSE508_Winter2023_Dataset/cranfield0805', '/content/CSE508_Winter2023_Dataset/cranfield0100', '/content/CSE508_Winter2023_Dataset/cranfield0483', '/content/CSE508_Winter2023_Dataset/cranfield0959', '/content/CSE508_Winter2023_Dataset/cranfield0593', '/content/CSE508_Winter2023_Dataset/cranfield0819', '/content/CSE508_Winter2023_Dataset/cranfield1223', '/content/CSE508_Winter2023_Dataset/cranfield0825', '/content/CSE508_Winter2023_Dataset/cranfield0601', '/content/CSE508_Winter2023_Dataset/cranfield0458', '/content/CSE508_Winter2023_Dataset/cranfield1151', '/content/CSE508_Winter2023_Dataset/cranfield0854', '/content/CSE508_Winter2023_Dataset/cranfield0539', '/content/CSE508_Winter2023_Dataset/cranfield0098', '/content/CSE508_Winter2023_Dataset/cranfield0084', '/content/CSE508_Winter2023_Dataset/cranfield0413', '/content/CSE508_Winter2023_Dataset/cranfield0563', '/content/CSE508_Winter2023_Dataset/cranfield0741', '/content/CSE508_Winter2023_Dataset/cranfield0892', '/content/CSE508_Winter2023_Dataset/cranfield1003', '/content/CSE508_Winter2023_Dataset/cranfield0567', '/content/CSE508_Winter2023_Dataset/cranfield0364', '/content/CSE508_Winter2023_Dataset/cranfield0362', '/content/CSE508_Winter2023_Dataset/cranfield1097', '/content/CSE508_Winter2023_Dataset/cranfield0767', '/content/CSE508_Winter2023_Dataset/cranfield0227', '/content/CSE508_Winter2023_Dataset/cranfield0370', '/content/CSE508_Winter2023_Dataset/cranfield0212', '/content/CSE508_Winter2023_Dataset/cranfield0468', '/content/CSE508_Winter2023_Dataset/cranfield0322', '/content/CSE508_Winter2023_Dataset/cranfield0125', '/content/CSE508_Winter2023_Dataset/cranfield0475', '/content/CSE508_Winter2023_Dataset/cranfield1281', '/content/CSE508_Winter2023_Dataset/cranfield0888', '/content/CSE508_Winter2023_Dataset/cranfield0405', '/content/CSE508_Winter2023_Dataset/cranfield0915', '/content/CSE508_Winter2023_Dataset/cranfield0203', '/content/CSE508_Winter2023_Dataset/cranfield1361', '/content/CSE508_Winter2023_Dataset/cranfield1187', '/content/CSE508_Winter2023_Dataset/cranfield0238', '/content/CSE508_Winter2023_Dataset/cranfield0074', '/content/CSE508_Winter2023_Dataset/cranfield0827', '/content/CSE508_Winter2023_Dataset/cranfield1156', '/content/CSE508_Winter2023_Dataset/cranfield0706', '/content/CSE508_Winter2023_Dataset/cranfield0465', '/content/CSE508_Winter2023_Dataset/cranfield0992', '/content/CSE508_Winter2023_Dataset/cranfield0247', '/content/CSE508_Winter2023_Dataset/cranfield1297', '/content/CSE508_Winter2023_Dataset/cranfield0271', '/content/CSE508_Winter2023_Dataset/cranfield0572', '/content/CSE508_Winter2023_Dataset/cranfield1153', '/content/CSE508_Winter2023_Dataset/cranfield1305', '/content/CSE508_Winter2023_Dataset/cranfield1108', '/content/CSE508_Winter2023_Dataset/cranfield0408', '/content/CSE508_Winter2023_Dataset/cranfield0414', '/content/CSE508_Winter2023_Dataset/cranfield0796', '/content/CSE508_Winter2023_Dataset/cranfield1397', '/content/CSE508_Winter2023_Dataset/cranfield0745', '/content/CSE508_Winter2023_Dataset/cranfield0430', '/content/CSE508_Winter2023_Dataset/cranfield0030', '/content/CSE508_Winter2023_Dataset/cranfield0275', '/content/CSE508_Winter2023_Dataset/cranfield0050', '/content/CSE508_Winter2023_Dataset/cranfield0506', '/content/CSE508_Winter2023_Dataset/cranfield0731', '/content/CSE508_Winter2023_Dataset/cranfield0324', '/content/CSE508_Winter2023_Dataset/cranfield0646', '/content/CSE508_Winter2023_Dataset/cranfield0321', '/content/CSE508_Winter2023_Dataset/cranfield0235', '/content/CSE508_Winter2023_Dataset/cranfield1301', '/content/CSE508_Winter2023_Dataset/cranfield0076', '/content/CSE508_Winter2023_Dataset/cranfield1074', '/content/CSE508_Winter2023_Dataset/cranfield0914', '/content/CSE508_Winter2023_Dataset/cranfield0990', '/content/CSE508_Winter2023_Dataset/cranfield1266', '/content/CSE508_Winter2023_Dataset/cranfield0134', '/content/CSE508_Winter2023_Dataset/cranfield0073', '/content/CSE508_Winter2023_Dataset/cranfield0374', '/content/CSE508_Winter2023_Dataset/cranfield0890', '/content/CSE508_Winter2023_Dataset/cranfield0512', '/content/CSE508_Winter2023_Dataset/cranfield0478', '/content/CSE508_Winter2023_Dataset/cranfield1203', '/content/CSE508_Winter2023_Dataset/cranfield0053', '/content/CSE508_Winter2023_Dataset/cranfield1363', '/content/CSE508_Winter2023_Dataset/cranfield1392', '/content/CSE508_Winter2023_Dataset/cranfield0141', '/content/CSE508_Winter2023_Dataset/cranfield0631', '/content/CSE508_Winter2023_Dataset/cranfield0075', '/content/CSE508_Winter2023_Dataset/cranfield1331', '/content/CSE508_Winter2023_Dataset/cranfield0687', '/content/CSE508_Winter2023_Dataset/cranfield0153', '/content/CSE508_Winter2023_Dataset/cranfield0359', '/content/CSE508_Winter2023_Dataset/cranfield0205', '/content/CSE508_Winter2023_Dataset/cranfield1247', '/content/CSE508_Winter2023_Dataset/cranfield0781', '/content/CSE508_Winter2023_Dataset/cranfield0307', '/content/CSE508_Winter2023_Dataset/cranfield1377', '/content/CSE508_Winter2023_Dataset/cranfield0723', '/content/CSE508_Winter2023_Dataset/cranfield0986', '/content/CSE508_Winter2023_Dataset/cranfield1093', '/content/CSE508_Winter2023_Dataset/cranfield0638', '/content/CSE508_Winter2023_Dataset/cranfield1184', '/content/CSE508_Winter2023_Dataset/cranfield0381', '/content/CSE508_Winter2023_Dataset/cranfield0497', '/content/CSE508_Winter2023_Dataset/cranfield0643', '/content/CSE508_Winter2023_Dataset/cranfield0675', '/content/CSE508_Winter2023_Dataset/cranfield0778', '/content/CSE508_Winter2023_Dataset/cranfield1224', '/content/CSE508_Winter2023_Dataset/cranfield1100', '/content/CSE508_Winter2023_Dataset/cranfield0222', '/content/CSE508_Winter2023_Dataset/cranfield0961', '/content/CSE508_Winter2023_Dataset/cranfield1241', '/content/CSE508_Winter2023_Dataset/cranfield1325', '/content/CSE508_Winter2023_Dataset/cranfield1321', '/content/CSE508_Winter2023_Dataset/cranfield0849', '/content/CSE508_Winter2023_Dataset/cranfield0681', '/content/CSE508_Winter2023_Dataset/cranfield1311', '/content/CSE508_Winter2023_Dataset/cranfield1309', '/content/CSE508_Winter2023_Dataset/cranfield0344', '/content/CSE508_Winter2023_Dataset/cranfield1026', '/content/CSE508_Winter2023_Dataset/cranfield0087', '/content/CSE508_Winter2023_Dataset/cranfield0009', '/content/CSE508_Winter2023_Dataset/cranfield0668', '/content/CSE508_Winter2023_Dataset/cranfield0315', '/content/CSE508_Winter2023_Dataset/cranfield0365', '/content/CSE508_Winter2023_Dataset/cranfield0501', '/content/CSE508_Winter2023_Dataset/cranfield0487', '/content/CSE508_Winter2023_Dataset/cranfield0507', '/content/CSE508_Winter2023_Dataset/cranfield0057', '/content/CSE508_Winter2023_Dataset/cranfield0730', '/content/CSE508_Winter2023_Dataset/cranfield1010', '/content/CSE508_Winter2023_Dataset/cranfield0320', '/content/CSE508_Winter2023_Dataset/cranfield0035', '/content/CSE508_Winter2023_Dataset/cranfield0908', '/content/CSE508_Winter2023_Dataset/cranfield1182', '/content/CSE508_Winter2023_Dataset/cranfield0847', '/content/CSE508_Winter2023_Dataset/cranfield0993', '/content/CSE508_Winter2023_Dataset/cranfield0095', '/content/CSE508_Winter2023_Dataset/cranfield0433', '/content/CSE508_Winter2023_Dataset/cranfield0102', '/content/CSE508_Winter2023_Dataset/cranfield0712', '/content/CSE508_Winter2023_Dataset/cranfield0292', '/content/CSE508_Winter2023_Dataset/cranfield1328', '/content/CSE508_Winter2023_Dataset/cranfield0765', '/content/CSE508_Winter2023_Dataset/cranfield0570', '/content/CSE508_Winter2023_Dataset/cranfield0026', '/content/CSE508_Winter2023_Dataset/cranfield1152', '/content/CSE508_Winter2023_Dataset/cranfield1043', '/content/CSE508_Winter2023_Dataset/cranfield0243', '/content/CSE508_Winter2023_Dataset/cranfield0831', '/content/CSE508_Winter2023_Dataset/cranfield1216', '/content/CSE508_Winter2023_Dataset/cranfield0368', '/content/CSE508_Winter2023_Dataset/cranfield1071', '/content/CSE508_Winter2023_Dataset/cranfield0958', '/content/CSE508_Winter2023_Dataset/cranfield0378', '/content/CSE508_Winter2023_Dataset/cranfield1258', '/content/CSE508_Winter2023_Dataset/cranfield0737', '/content/CSE508_Winter2023_Dataset/cranfield1390', '/content/CSE508_Winter2023_Dataset/cranfield0283', '/content/CSE508_Winter2023_Dataset/cranfield0288', '/content/CSE508_Winter2023_Dataset/cranfield1282', '/content/CSE508_Winter2023_Dataset/cranfield1066', '/content/CSE508_Winter2023_Dataset/cranfield1304', '/content/CSE508_Winter2023_Dataset/cranfield1310', '/content/CSE508_Winter2023_Dataset/cranfield1050', '/content/CSE508_Winter2023_Dataset/cranfield0254', '/content/CSE508_Winter2023_Dataset/cranfield1226', '/content/CSE508_Winter2023_Dataset/cranfield0752', '/content/CSE508_Winter2023_Dataset/cranfield1106', '/content/CSE508_Winter2023_Dataset/cranfield0442', '/content/CSE508_Winter2023_Dataset/cranfield0372', '/content/CSE508_Winter2023_Dataset/cranfield0017', '/content/CSE508_Winter2023_Dataset/cranfield0276', '/content/CSE508_Winter2023_Dataset/cranfield0974', '/content/CSE508_Winter2023_Dataset/cranfield0388', '/content/CSE508_Winter2023_Dataset/cranfield0015', '/content/CSE508_Winter2023_Dataset/cranfield0672', '/content/CSE508_Winter2023_Dataset/cranfield1391', '/content/CSE508_Winter2023_Dataset/cranfield0861', '/content/CSE508_Winter2023_Dataset/cranfield0051', '/content/CSE508_Winter2023_Dataset/cranfield0217', '/content/CSE508_Winter2023_Dataset/cranfield0991', '/content/CSE508_Winter2023_Dataset/cranfield1069', '/content/CSE508_Winter2023_Dataset/cranfield0152', '/content/CSE508_Winter2023_Dataset/cranfield0422', '/content/CSE508_Winter2023_Dataset/cranfield0583', '/content/CSE508_Winter2023_Dataset/cranfield0336', '/content/CSE508_Winter2023_Dataset/cranfield1307', '/content/CSE508_Winter2023_Dataset/cranfield0955', '/content/CSE508_Winter2023_Dataset/cranfield0341', '/content/CSE508_Winter2023_Dataset/cranfield0609', '/content/CSE508_Winter2023_Dataset/cranfield0559', '/content/CSE508_Winter2023_Dataset/cranfield0807', '/content/CSE508_Winter2023_Dataset/cranfield1235', '/content/CSE508_Winter2023_Dataset/cranfield0023', '/content/CSE508_Winter2023_Dataset/cranfield0615', '/content/CSE508_Winter2023_Dataset/cranfield1315', '/content/CSE508_Winter2023_Dataset/cranfield0835', '/content/CSE508_Winter2023_Dataset/cranfield0812', '/content/CSE508_Winter2023_Dataset/cranfield1243', '/content/CSE508_Winter2023_Dataset/cranfield0261', '/content/CSE508_Winter2023_Dataset/cranfield0154', '/content/CSE508_Winter2023_Dataset/cranfield0962', '/content/CSE508_Winter2023_Dataset/cranfield1209', '/content/CSE508_Winter2023_Dataset/cranfield0317', '/content/CSE508_Winter2023_Dataset/cranfield0380', '/content/CSE508_Winter2023_Dataset/cranfield0495', '/content/CSE508_Winter2023_Dataset/cranfield0391', '/content/CSE508_Winter2023_Dataset/cranfield1261', '/content/CSE508_Winter2023_Dataset/cranfield1068', '/content/CSE508_Winter2023_Dataset/cranfield0644', '/content/CSE508_Winter2023_Dataset/cranfield1029', '/content/CSE508_Winter2023_Dataset/cranfield0514', '/content/CSE508_Winter2023_Dataset/cranfield0725', '/content/CSE508_Winter2023_Dataset/cranfield0836', '/content/CSE508_Winter2023_Dataset/cranfield0281', '/content/CSE508_Winter2023_Dataset/cranfield1314', '/content/CSE508_Winter2023_Dataset/cranfield0172', '/content/CSE508_Winter2023_Dataset/cranfield0673', '/content/CSE508_Winter2023_Dataset/cranfield0954', '/content/CSE508_Winter2023_Dataset/cranfield0666', '/content/CSE508_Winter2023_Dataset/cranfield1398', '/content/CSE508_Winter2023_Dataset/cranfield0995', '/content/CSE508_Winter2023_Dataset/cranfield0361', '/content/CSE508_Winter2023_Dataset/cranfield0446', '/content/CSE508_Winter2023_Dataset/cranfield0698', '/content/CSE508_Winter2023_Dataset/cranfield0218', '/content/CSE508_Winter2023_Dataset/cranfield1159', '/content/CSE508_Winter2023_Dataset/cranfield0525', '/content/CSE508_Winter2023_Dataset/cranfield1002', '/content/CSE508_Winter2023_Dataset/cranfield0837', '/content/CSE508_Winter2023_Dataset/cranfield0595', '/content/CSE508_Winter2023_Dataset/cranfield0738', '/content/CSE508_Winter2023_Dataset/cranfield0086', '/content/CSE508_Winter2023_Dataset/cranfield0456', '/content/CSE508_Winter2023_Dataset/cranfield0306', '/content/CSE508_Winter2023_Dataset/cranfield0354', '/content/CSE508_Winter2023_Dataset/cranfield0327', '/content/CSE508_Winter2023_Dataset/cranfield0028', '/content/CSE508_Winter2023_Dataset/cranfield0101', '/content/CSE508_Winter2023_Dataset/cranfield1021', '/content/CSE508_Winter2023_Dataset/cranfield0299', '/content/CSE508_Winter2023_Dataset/cranfield0640', '/content/CSE508_Winter2023_Dataset/cranfield1233', '/content/CSE508_Winter2023_Dataset/cranfield0103', '/content/CSE508_Winter2023_Dataset/cranfield1198', '/content/CSE508_Winter2023_Dataset/cranfield1088', '/content/CSE508_Winter2023_Dataset/cranfield0003', '/content/CSE508_Winter2023_Dataset/cranfield0437', '/content/CSE508_Winter2023_Dataset/cranfield0018', '/content/CSE508_Winter2023_Dataset/cranfield0282', '/content/CSE508_Winter2023_Dataset/cranfield1007', '/content/CSE508_Winter2023_Dataset/cranfield0978', '/content/CSE508_Winter2023_Dataset/cranfield1085', '/content/CSE508_Winter2023_Dataset/cranfield0833', '/content/CSE508_Winter2023_Dataset/cranfield0834', '/content/CSE508_Winter2023_Dataset/cranfield0448', '/content/CSE508_Winter2023_Dataset/cranfield1137', '/content/CSE508_Winter2023_Dataset/cranfield1101', '/content/CSE508_Winter2023_Dataset/cranfield0200', '/content/CSE508_Winter2023_Dataset/cranfield1076', '/content/CSE508_Winter2023_Dataset/cranfield0780', '/content/CSE508_Winter2023_Dataset/cranfield0858', '/content/CSE508_Winter2023_Dataset/cranfield0328', '/content/CSE508_Winter2023_Dataset/cranfield1197', '/content/CSE508_Winter2023_Dataset/cranfield0423', '/content/CSE508_Winter2023_Dataset/cranfield0169', '/content/CSE508_Winter2023_Dataset/cranfield0952', '/content/CSE508_Winter2023_Dataset/cranfield0884', '/content/CSE508_Winter2023_Dataset/cranfield0922', '/content/CSE508_Winter2023_Dataset/cranfield1218', '/content/CSE508_Winter2023_Dataset/cranfield0161', '/content/CSE508_Winter2023_Dataset/cranfield0863', '/content/CSE508_Winter2023_Dataset/cranfield0516', '/content/CSE508_Winter2023_Dataset/cranfield0434', '/content/CSE508_Winter2023_Dataset/cranfield0316', '/content/CSE508_Winter2023_Dataset/cranfield0470', '/content/CSE508_Winter2023_Dataset/cranfield0586', '/content/CSE508_Winter2023_Dataset/cranfield0913', '/content/CSE508_Winter2023_Dataset/cranfield1164', '/content/CSE508_Winter2023_Dataset/cranfield0820', '/content/CSE508_Winter2023_Dataset/cranfield0606', '/content/CSE508_Winter2023_Dataset/cranfield1351', '/content/CSE508_Winter2023_Dataset/cranfield0065', '/content/CSE508_Winter2023_Dataset/cranfield0440', '/content/CSE508_Winter2023_Dataset/cranfield0180', '/content/CSE508_Winter2023_Dataset/cranfield0766', '/content/CSE508_Winter2023_Dataset/cranfield0385', '/content/CSE508_Winter2023_Dataset/cranfield1340', '/content/CSE508_Winter2023_Dataset/cranfield0464', '/content/CSE508_Winter2023_Dataset/cranfield1189', '/content/CSE508_Winter2023_Dataset/cranfield0149', '/content/CSE508_Winter2023_Dataset/cranfield0756', '/content/CSE508_Winter2023_Dataset/cranfield0842', '/content/CSE508_Winter2023_Dataset/cranfield0498', '/content/CSE508_Winter2023_Dataset/cranfield1294', '/content/CSE508_Winter2023_Dataset/cranfield1132', '/content/CSE508_Winter2023_Dataset/cranfield0266', '/content/CSE508_Winter2023_Dataset/cranfield0685', '/content/CSE508_Winter2023_Dataset/cranfield0701', '/content/CSE508_Winter2023_Dataset/cranfield0639', '/content/CSE508_Winter2023_Dataset/cranfield1186', '/content/CSE508_Winter2023_Dataset/cranfield0052', '/content/CSE508_Winter2023_Dataset/cranfield1065', '/content/CSE508_Winter2023_Dataset/cranfield0305', '/content/CSE508_Winter2023_Dataset/cranfield0524', '/content/CSE508_Winter2023_Dataset/cranfield0736', '/content/CSE508_Winter2023_Dataset/cranfield1116', '/content/CSE508_Winter2023_Dataset/cranfield0898', '/content/CSE508_Winter2023_Dataset/cranfield0277', '/content/CSE508_Winter2023_Dataset/cranfield0058', '/content/CSE508_Winter2023_Dataset/cranfield1292', '/content/CSE508_Winter2023_Dataset/cranfield0664', '/content/CSE508_Winter2023_Dataset/cranfield0155', '/content/CSE508_Winter2023_Dataset/cranfield0929', '/content/CSE508_Winter2023_Dataset/cranfield0933', '/content/CSE508_Winter2023_Dataset/cranfield0724', '/content/CSE508_Winter2023_Dataset/cranfield1082', '/content/CSE508_Winter2023_Dataset/cranfield0777', '/content/CSE508_Winter2023_Dataset/cranfield1265', '/content/CSE508_Winter2023_Dataset/cranfield0575', '/content/CSE508_Winter2023_Dataset/cranfield0555', '/content/CSE508_Winter2023_Dataset/cranfield0784', '/content/CSE508_Winter2023_Dataset/cranfield0739', '/content/CSE508_Winter2023_Dataset/cranfield1394', '/content/CSE508_Winter2023_Dataset/cranfield0743', '/content/CSE508_Winter2023_Dataset/cranfield1298', '/content/CSE508_Winter2023_Dataset/cranfield0554', '/content/CSE508_Winter2023_Dataset/cranfield0700', '/content/CSE508_Winter2023_Dataset/cranfield1260', '/content/CSE508_Winter2023_Dataset/cranfield0303', '/content/CSE508_Winter2023_Dataset/cranfield0409', '/content/CSE508_Winter2023_Dataset/cranfield0691', '/content/CSE508_Winter2023_Dataset/cranfield0907', '/content/CSE508_Winter2023_Dataset/cranfield0859', '/content/CSE508_Winter2023_Dataset/cranfield0905', '/content/CSE508_Winter2023_Dataset/cranfield0108', '/content/CSE508_Winter2023_Dataset/cranfield0677', '/content/CSE508_Winter2023_Dataset/cranfield0196', '/content/CSE508_Winter2023_Dataset/cranfield0375', '/content/CSE508_Winter2023_Dataset/cranfield0302', '/content/CSE508_Winter2023_Dataset/cranfield0910', '/content/CSE508_Winter2023_Dataset/cranfield0265', '/content/CSE508_Winter2023_Dataset/cranfield0627', '/content/CSE508_Winter2023_Dataset/cranfield0997', '/content/CSE508_Winter2023_Dataset/cranfield1049', '/content/CSE508_Winter2023_Dataset/cranfield1344', '/content/CSE508_Winter2023_Dataset/cranfield0279', '/content/CSE508_Winter2023_Dataset/cranfield1330', '/content/CSE508_Winter2023_Dataset/cranfield0402', '/content/CSE508_Winter2023_Dataset/cranfield1236', '/content/CSE508_Winter2023_Dataset/cranfield1204', '/content/CSE508_Winter2023_Dataset/cranfield1230', '/content/CSE508_Winter2023_Dataset/cranfield1232', '/content/CSE508_Winter2023_Dataset/cranfield1365', '/content/CSE508_Winter2023_Dataset/cranfield0902', '/content/CSE508_Winter2023_Dataset/cranfield0810', '/content/CSE508_Winter2023_Dataset/cranfield0207', '/content/CSE508_Winter2023_Dataset/cranfield0877', '/content/CSE508_Winter2023_Dataset/cranfield0471', '/content/CSE508_Winter2023_Dataset/cranfield0340', '/content/CSE508_Winter2023_Dataset/cranfield1396', '/content/CSE508_Winter2023_Dataset/cranfield0113', '/content/CSE508_Winter2023_Dataset/cranfield0918', '/content/CSE508_Winter2023_Dataset/cranfield1291', '/content/CSE508_Winter2023_Dataset/cranfield0979', '/content/CSE508_Winter2023_Dataset/cranfield0436', '/content/CSE508_Winter2023_Dataset/cranfield0037', '/content/CSE508_Winter2023_Dataset/cranfield0532', '/content/CSE508_Winter2023_Dataset/cranfield0799', '/content/CSE508_Winter2023_Dataset/cranfield1333', '/content/CSE508_Winter2023_Dataset/cranfield1371', '/content/CSE508_Winter2023_Dataset/cranfield1278', '/content/CSE508_Winter2023_Dataset/cranfield0901', '/content/CSE508_Winter2023_Dataset/cranfield0062', '/content/CSE508_Winter2023_Dataset/cranfield1376', '/content/CSE508_Winter2023_Dataset/cranfield1073', '/content/CSE508_Winter2023_Dataset/cranfield0251', '/content/CSE508_Winter2023_Dataset/cranfield0661', '/content/CSE508_Winter2023_Dataset/cranfield1104', '/content/CSE508_Winter2023_Dataset/cranfield0790', '/content/CSE508_Winter2023_Dataset/cranfield0349', '/content/CSE508_Winter2023_Dataset/cranfield0510', '/content/CSE508_Winter2023_Dataset/cranfield1255', '/content/CSE508_Winter2023_Dataset/cranfield0617', '/content/CSE508_Winter2023_Dataset/cranfield0721', '/content/CSE508_Winter2023_Dataset/cranfield1078', '/content/CSE508_Winter2023_Dataset/cranfield1045', '/content/CSE508_Winter2023_Dataset/cranfield1379', '/content/CSE508_Winter2023_Dataset/cranfield0146', '/content/CSE508_Winter2023_Dataset/cranfield1036', '/content/CSE508_Winter2023_Dataset/cranfield0034', '/content/CSE508_Winter2023_Dataset/cranfield1120', '/content/CSE508_Winter2023_Dataset/cranfield0684', '/content/CSE508_Winter2023_Dataset/cranfield0608', '/content/CSE508_Winter2023_Dataset/cranfield0568', '/content/CSE508_Winter2023_Dataset/cranfield1023', '/content/CSE508_Winter2023_Dataset/cranfield0426', '/content/CSE508_Winter2023_Dataset/cranfield0900', '/content/CSE508_Winter2023_Dataset/cranfield0557', '/content/CSE508_Winter2023_Dataset/cranfield0120', '/content/CSE508_Winter2023_Dataset/cranfield0624', '/content/CSE508_Winter2023_Dataset/cranfield1011', '/content/CSE508_Winter2023_Dataset/cranfield1014', '/content/CSE508_Winter2023_Dataset/cranfield0066', '/content/CSE508_Winter2023_Dataset/cranfield0382', '/content/CSE508_Winter2023_Dataset/cranfield0654', '/content/CSE508_Winter2023_Dataset/cranfield0179', '/content/CSE508_Winter2023_Dataset/cranfield1336', '/content/CSE508_Winter2023_Dataset/cranfield0210', '/content/CSE508_Winter2023_Dataset/cranfield0989', '/content/CSE508_Winter2023_Dataset/cranfield1335', '/content/CSE508_Winter2023_Dataset/cranfield0970', '/content/CSE508_Winter2023_Dataset/cranfield0427', '/content/CSE508_Winter2023_Dataset/cranfield0553', '/content/CSE508_Winter2023_Dataset/cranfield1171', '/content/CSE508_Winter2023_Dataset/cranfield1334', '/content/CSE508_Winter2023_Dataset/cranfield1103', '/content/CSE508_Winter2023_Dataset/cranfield0704', '/content/CSE508_Winter2023_Dataset/cranfield0334', '/content/CSE508_Winter2023_Dataset/cranfield1079', '/content/CSE508_Winter2023_Dataset/cranfield1327', '/content/CSE508_Winter2023_Dataset/cranfield1196', '/content/CSE508_Winter2023_Dataset/cranfield1358', '/content/CSE508_Winter2023_Dataset/cranfield0611', '/content/CSE508_Winter2023_Dataset/cranfield0579', '/content/CSE508_Winter2023_Dataset/cranfield0466', '/content/CSE508_Winter2023_Dataset/cranfield0083', '/content/CSE508_Winter2023_Dataset/cranfield0208', '/content/CSE508_Winter2023_Dataset/cranfield0240', '/content/CSE508_Winter2023_Dataset/cranfield0663', '/content/CSE508_Winter2023_Dataset/cranfield1393', '/content/CSE508_Winter2023_Dataset/cranfield1001', '/content/CSE508_Winter2023_Dataset/cranfield1250', '/content/CSE508_Winter2023_Dataset/cranfield0811', '/content/CSE508_Winter2023_Dataset/cranfield0546', '/content/CSE508_Winter2023_Dataset/cranfield1262', '/content/CSE508_Winter2023_Dataset/cranfield0192', '/content/CSE508_Winter2023_Dataset/cranfield1004', '/content/CSE508_Winter2023_Dataset/cranfield0069', '/content/CSE508_Winter2023_Dataset/cranfield0162', '/content/CSE508_Winter2023_Dataset/cranfield1355', '/content/CSE508_Winter2023_Dataset/cranfield0938', '/content/CSE508_Winter2023_Dataset/cranfield1183', '/content/CSE508_Winter2023_Dataset/cranfield0109', '/content/CSE508_Winter2023_Dataset/cranfield0792', '/content/CSE508_Winter2023_Dataset/cranfield0789', '/content/CSE508_Winter2023_Dataset/cranfield1279', '/content/CSE508_Winter2023_Dataset/cranfield0670', '/content/CSE508_Winter2023_Dataset/cranfield0046', '/content/CSE508_Winter2023_Dataset/cranfield0503', '/content/CSE508_Winter2023_Dataset/cranfield0694', '/content/CSE508_Winter2023_Dataset/cranfield1122', '/content/CSE508_Winter2023_Dataset/cranfield1231', '/content/CSE508_Winter2023_Dataset/cranfield0942', '/content/CSE508_Winter2023_Dataset/cranfield1215', '/content/CSE508_Winter2023_Dataset/cranfield0614', '/content/CSE508_Winter2023_Dataset/cranfield0131', '/content/CSE508_Winter2023_Dataset/cranfield1234', '/content/CSE508_Winter2023_Dataset/cranfield0872', '/content/CSE508_Winter2023_Dataset/cranfield0851', '/content/CSE508_Winter2023_Dataset/cranfield0171', '/content/CSE508_Winter2023_Dataset/cranfield0130', '/content/CSE508_Winter2023_Dataset/cranfield0106', '/content/CSE508_Winter2023_Dataset/cranfield0071', '/content/CSE508_Winter2023_Dataset/cranfield0515', '/content/CSE508_Winter2023_Dataset/cranfield0686', '/content/CSE508_Winter2023_Dataset/cranfield1126', '/content/CSE508_Winter2023_Dataset/cranfield0548', '/content/CSE508_Winter2023_Dataset/cranfield1319', '/content/CSE508_Winter2023_Dataset/cranfield0866', '/content/CSE508_Winter2023_Dataset/cranfield0967', '/content/CSE508_Winter2023_Dataset/cranfield0031', '/content/CSE508_Winter2023_Dataset/cranfield0347', '/content/CSE508_Winter2023_Dataset/cranfield0527', '/content/CSE508_Winter2023_Dataset/cranfield0946', '/content/CSE508_Winter2023_Dataset/cranfield1032', '/content/CSE508_Winter2023_Dataset/cranfield0707', '/content/CSE508_Winter2023_Dataset/cranfield0229', '/content/CSE508_Winter2023_Dataset/cranfield0244', '/content/CSE508_Winter2023_Dataset/cranfield0482', '/content/CSE508_Winter2023_Dataset/cranfield0350', '/content/CSE508_Winter2023_Dataset/cranfield1142', '/content/CSE508_Winter2023_Dataset/cranfield1053', '/content/CSE508_Winter2023_Dataset/cranfield0019', '/content/CSE508_Winter2023_Dataset/cranfield0480', '/content/CSE508_Winter2023_Dataset/cranfield0716', '/content/CSE508_Winter2023_Dataset/cranfield0783', '/content/CSE508_Winter2023_Dataset/cranfield1323', '/content/CSE508_Winter2023_Dataset/cranfield0314', '/content/CSE508_Winter2023_Dataset/cranfield0078', '/content/CSE508_Winter2023_Dataset/cranfield1350', '/content/CSE508_Winter2023_Dataset/cranfield0879', '/content/CSE508_Winter2023_Dataset/cranfield0653', '/content/CSE508_Winter2023_Dataset/cranfield0118', '/content/CSE508_Winter2023_Dataset/cranfield0248', '/content/CSE508_Winter2023_Dataset/cranfield1070', '/content/CSE508_Winter2023_Dataset/cranfield0491', '/content/CSE508_Winter2023_Dataset/cranfield1286', '/content/CSE508_Winter2023_Dataset/cranfield0722', '/content/CSE508_Winter2023_Dataset/cranfield0853', '/content/CSE508_Winter2023_Dataset/cranfield0335', '/content/CSE508_Winter2023_Dataset/cranfield0869', '/content/CSE508_Winter2023_Dataset/cranfield0610', '/content/CSE508_Winter2023_Dataset/cranfield0676', '/content/CSE508_Winter2023_Dataset/cranfield1067', '/content/CSE508_Winter2023_Dataset/cranfield1349', '/content/CSE508_Winter2023_Dataset/cranfield0641', '/content/CSE508_Winter2023_Dataset/cranfield1044', '/content/CSE508_Winter2023_Dataset/cranfield0272', '/content/CSE508_Winter2023_Dataset/cranfield1155', '/content/CSE508_Winter2023_Dataset/cranfield0502', '/content/CSE508_Winter2023_Dataset/cranfield0800', '/content/CSE508_Winter2023_Dataset/cranfield0127', '/content/CSE508_Winter2023_Dataset/cranfield1275', '/content/CSE508_Winter2023_Dataset/cranfield1064', '/content/CSE508_Winter2023_Dataset/cranfield0838', '/content/CSE508_Winter2023_Dataset/cranfield1057', '/content/CSE508_Winter2023_Dataset/cranfield0485', '/content/CSE508_Winter2023_Dataset/cranfield0679', '/content/CSE508_Winter2023_Dataset/cranfield1387', '/content/CSE508_Winter2023_Dataset/cranfield0779', '/content/CSE508_Winter2023_Dataset/cranfield0689', '/content/CSE508_Winter2023_Dataset/cranfield0797', '/content/CSE508_Winter2023_Dataset/cranfield0971', '/content/CSE508_Winter2023_Dataset/cranfield0748', '/content/CSE508_Winter2023_Dataset/cranfield1208', '/content/CSE508_Winter2023_Dataset/cranfield0270', '/content/CSE508_Winter2023_Dataset/cranfield0740', '/content/CSE508_Winter2023_Dataset/cranfield0511', '/content/CSE508_Winter2023_Dataset/cranfield0768', '/content/CSE508_Winter2023_Dataset/cranfield1091', '/content/CSE508_Winter2023_Dataset/cranfield0543', '/content/CSE508_Winter2023_Dataset/cranfield0268', '/content/CSE508_Winter2023_Dataset/cranfield0926', '/content/CSE508_Winter2023_Dataset/cranfield0460', '/content/CSE508_Winter2023_Dataset/cranfield0657', '/content/CSE508_Winter2023_Dataset/cranfield0590', '/content/CSE508_Winter2023_Dataset/cranfield0256', '/content/CSE508_Winter2023_Dataset/cranfield0121', '/content/CSE508_Winter2023_Dataset/cranfield1193', '/content/CSE508_Winter2023_Dataset/cranfield0291', '/content/CSE508_Winter2023_Dataset/cranfield0775', '/content/CSE508_Winter2023_Dataset/cranfield0906', '/content/CSE508_Winter2023_Dataset/cranfield1378', '/content/CSE508_Winter2023_Dataset/cranfield1033', '/content/CSE508_Winter2023_Dataset/cranfield0808', '/content/CSE508_Winter2023_Dataset/cranfield0758', '/content/CSE508_Winter2023_Dataset/cranfield1268', '/content/CSE508_Winter2023_Dataset/cranfield0094', '/content/CSE508_Winter2023_Dataset/cranfield0160', '/content/CSE508_Winter2023_Dataset/cranfield0438', '/content/CSE508_Winter2023_Dataset/cranfield0637', '/content/CSE508_Winter2023_Dataset/cranfield0151', '/content/CSE508_Winter2023_Dataset/cranfield0619', '/content/CSE508_Winter2023_Dataset/cranfield1087', '/content/CSE508_Winter2023_Dataset/cranfield1254', '/content/CSE508_Winter2023_Dataset/cranfield1372', '/content/CSE508_Winter2023_Dataset/cranfield1165', '/content/CSE508_Winter2023_Dataset/cranfield1246', '/content/CSE508_Winter2023_Dataset/cranfield0742', '/content/CSE508_Winter2023_Dataset/cranfield0387', '/content/CSE508_Winter2023_Dataset/cranfield0549', '/content/CSE508_Winter2023_Dataset/cranfield0746', '/content/CSE508_Winter2023_Dataset/cranfield1090', '/content/CSE508_Winter2023_Dataset/cranfield0369', '/content/CSE508_Winter2023_Dataset/cranfield1338', '/content/CSE508_Winter2023_Dataset/cranfield0713', '/content/CSE508_Winter2023_Dataset/cranfield1150', '/content/CSE508_Winter2023_Dataset/cranfield1063', '/content/CSE508_Winter2023_Dataset/cranfield0652', '/content/CSE508_Winter2023_Dataset/cranfield0682', '/content/CSE508_Winter2023_Dataset/cranfield0540', '/content/CSE508_Winter2023_Dataset/cranfield1062', '/content/CSE508_Winter2023_Dataset/cranfield0070', '/content/CSE508_Winter2023_Dataset/cranfield1213', '/content/CSE508_Winter2023_Dataset/cranfield0945', '/content/CSE508_Winter2023_Dataset/cranfield0690', '/content/CSE508_Winter2023_Dataset/cranfield0012', '/content/CSE508_Winter2023_Dataset/cranfield0424', '/content/CSE508_Winter2023_Dataset/cranfield0975', '/content/CSE508_Winter2023_Dataset/cranfield0110', '/content/CSE508_Winter2023_Dataset/cranfield0533', '/content/CSE508_Winter2023_Dataset/cranfield0337', '/content/CSE508_Winter2023_Dataset/cranfield0658', '/content/CSE508_Winter2023_Dataset/cranfield1302', '/content/CSE508_Winter2023_Dataset/cranfield0558', '/content/CSE508_Winter2023_Dataset/cranfield0794', '/content/CSE508_Winter2023_Dataset/cranfield0232', '/content/CSE508_Winter2023_Dataset/cranfield0445', '/content/CSE508_Winter2023_Dataset/cranfield0600', '/content/CSE508_Winter2023_Dataset/cranfield1237', '/content/CSE508_Winter2023_Dataset/cranfield0674', '/content/CSE508_Winter2023_Dataset/cranfield0950', '/content/CSE508_Winter2023_Dataset/cranfield1322', '/content/CSE508_Winter2023_Dataset/cranfield0899', '/content/CSE508_Winter2023_Dataset/cranfield0695', '/content/CSE508_Winter2023_Dataset/cranfield1175', '/content/CSE508_Winter2023_Dataset/cranfield1210', '/content/CSE508_Winter2023_Dataset/cranfield0920', '/content/CSE508_Winter2023_Dataset/cranfield0139', '/content/CSE508_Winter2023_Dataset/cranfield0278', '/content/CSE508_Winter2023_Dataset/cranfield0184', '/content/CSE508_Winter2023_Dataset/cranfield0940', '/content/CSE508_Winter2023_Dataset/cranfield1109', '/content/CSE508_Winter2023_Dataset/cranfield1170', '/content/CSE508_Winter2023_Dataset/cranfield0432', '/content/CSE508_Winter2023_Dataset/cranfield0688', '/content/CSE508_Winter2023_Dataset/cranfield0802', '/content/CSE508_Winter2023_Dataset/cranfield1118', '/content/CSE508_Winter2023_Dataset/cranfield0508', '/content/CSE508_Winter2023_Dataset/cranfield0417', '/content/CSE508_Winter2023_Dataset/cranfield0983', '/content/CSE508_Winter2023_Dataset/cranfield0262', '/content/CSE508_Winter2023_Dataset/cranfield0170', '/content/CSE508_Winter2023_Dataset/cranfield0602', '/content/CSE508_Winter2023_Dataset/cranfield1136', '/content/CSE508_Winter2023_Dataset/cranfield1095', '/content/CSE508_Winter2023_Dataset/cranfield0536', '/content/CSE508_Winter2023_Dataset/cranfield0313', '/content/CSE508_Winter2023_Dataset/cranfield0237', '/content/CSE508_Winter2023_Dataset/cranfield0651', '/content/CSE508_Winter2023_Dataset/cranfield0356', '/content/CSE508_Winter2023_Dataset/cranfield0008', '/content/CSE508_Winter2023_Dataset/cranfield0085', '/content/CSE508_Winter2023_Dataset/cranfield0545', '/content/CSE508_Winter2023_Dataset/cranfield1399', '/content/CSE508_Winter2023_Dataset/cranfield0363', '/content/CSE508_Winter2023_Dataset/cranfield0613', '/content/CSE508_Winter2023_Dataset/cranfield0418', '/content/CSE508_Winter2023_Dataset/cranfield0379', '/content/CSE508_Winter2023_Dataset/cranfield0329', '/content/CSE508_Winter2023_Dataset/cranfield0828', '/content/CSE508_Winter2023_Dataset/cranfield0036', '/content/CSE508_Winter2023_Dataset/cranfield1383', '/content/CSE508_Winter2023_Dataset/cranfield1027', '/content/CSE508_Winter2023_Dataset/cranfield0293', '/content/CSE508_Winter2023_Dataset/cranfield0889', '/content/CSE508_Winter2023_Dataset/cranfield0588', '/content/CSE508_Winter2023_Dataset/cranfield0982', '/content/CSE508_Winter2023_Dataset/cranfield1048', '/content/CSE508_Winter2023_Dataset/cranfield0435', '/content/CSE508_Winter2023_Dataset/cranfield0957', '/content/CSE508_Winter2023_Dataset/cranfield0635', '/content/CSE508_Winter2023_Dataset/cranfield0714', '/content/CSE508_Winter2023_Dataset/cranfield1181', '/content/CSE508_Winter2023_Dataset/cranfield1346', '/content/CSE508_Winter2023_Dataset/cranfield0090', '/content/CSE508_Winter2023_Dataset/cranfield1245', '/content/CSE508_Winter2023_Dataset/cranfield0574']\n",
            "\n",
            "1400\n"
          ]
        }
      ]
    },
    {
      "cell_type": "code",
      "source": [
        "c=0;\n",
        "\n",
        "for f in filenames:\n",
        "    outfile = open(f,'r')\n",
        "    doc = outfile.read()\n",
        "    print('Document: '+str(c+1))\n",
        "    print(doc)\n",
        "    print('------------------------------------------------')\n",
        "    print('')\n",
        "    c+=1;\n",
        "    if c==5 : break\n",
        "\n",
        "outfile.close()"
      ],
      "metadata": {
        "colab": {
          "base_uri": "https://localhost:8080/"
        },
        "id": "VXqli2-UTTWL",
        "outputId": "06ae06f1-32de-484e-dc8c-ed48da6625c2"
      },
      "execution_count": 14,
      "outputs": [
        {
          "output_type": "stream",
          "name": "stdout",
          "text": [
            "Document: 1\n",
            "<DOC>\n",
            "<DOCNO>\n",
            "469\n",
            "</DOCNO>\n",
            "<TITLE>\n",
            "linearised transonic flow about slender bodies at zero\n",
            "angle of attack .\n",
            "</TITLE>\n",
            "<AUTHOR>\n",
            "maeder,p.f. and thommen,h.u.\n",
            "</AUTHOR>\n",
            "<BIBLIO>\n",
            "asme trans. j.app.mech. 28, 1961.\n",
            "</BIBLIO>\n",
            "<TEXT>\n",
            "  the simple linearized transonic flow theory\n",
            "as originally proposed by oswatitsch and\n",
            "keune(1) and by the present authors (2)\n",
            "is improved by considering and partially\n",
            "correcting its error .  in this manner a theory\n",
            "which is easy to apply and which should\n",
            "be valid for a great number of smooth bodies\n",
            "is obtained .  this improved theory predicts\n",
            "shock waves in the lower transonic regions .\n",
            "it is applied to a number of significant\n",
            "body and airfoil shapes and its predictions are\n",
            "compared with experiments and results\n",
            "of other theoretical investigations .\n",
            "</TEXT>\n",
            "</DOC>\n",
            "\n",
            "------------------------------------------------\n",
            "\n",
            "Document: 2\n",
            "<DOC>\n",
            "<DOCNO>\n",
            "585\n",
            "</DOCNO>\n",
            "<TITLE>\n",
            "nonlinear heat transfer problem .\n",
            "</TITLE>\n",
            "<AUTHOR>\n",
            "chambre,p.l.\n",
            "</AUTHOR>\n",
            "<BIBLIO>\n",
            "j. app. phys. 30, 1959, 1683.\n",
            "</BIBLIO>\n",
            "<TEXT>\n",
            "  a study has been made of the time-dependent heat\n",
            "conduction in a semi-infinite medium subject to a\n",
            "boundary condition which can involve the temperature\n",
            "in a nonlinear manner .  a formulation for the\n",
            "determination of the surface temperature, which is often\n",
            "of greatest physical interest, leads to a nonlinear\n",
            "volterra integral equation .  a simple iterative solution\n",
            "method, with an accuracy suitable for many practical\n",
            "purposes is presented .  as an example, the problem\n",
            "of the time-dependent surface temperature of a body\n",
            "receiving heat according to the stefan-boltzmann law\n",
            "is treated .  the analysis is also applicable to physical\n",
            "adsorption or chemisorption processes which occur at\n",
            "the boundary .\n",
            "</TEXT>\n",
            "</DOC>\n",
            "\n",
            "------------------------------------------------\n",
            "\n",
            "Document: 3\n",
            "<DOC>\n",
            "<DOCNO>\n",
            "538\n",
            "</DOCNO>\n",
            "<TITLE>\n",
            "the conpressibility transformation and the turbulent\n",
            "boundary layer equations .\n",
            "</TITLE>\n",
            "<AUTHOR>\n",
            "burgraf,o.r.\n",
            "</AUTHOR>\n",
            "<BIBLIO>\n",
            "j. ae. scs. 19, 1962.\n",
            "</BIBLIO>\n",
            "<TEXT>\n",
            "  the compressibility transformation first introduced by dorodnitzyn\n",
            "has been applied in this paper to the equations of the turbulent\n",
            "boundary layer on a flat plate, considering heat transfer\n",
            "and arbitrary prandtl numbers .  assuming the shear distribution\n",
            "to be invariant under the transformation, the stream function\n",
            "and the momentum equation take the proper form for incompressible\n",
            "flow, allowing the use of incompressible velocity\n",
            "profiles in the transformed coordinates .  application of crocco's\n",
            "method to the transformed energy equation permits integration\n",
            "of the energy equation resulting in a formulism remarkably\n",
            "similar to that proposed by eckert .  finally, the reference condition\n",
            "was chosen to correspond to the edge of the sublayer from\n",
            "considerations of the assumptions made regarding the shearstress\n",
            "distribution .  with this choice, the reference enthalpy is in\n",
            "good agreement with eckert's formula over the ordinary range of\n",
            "test conditions .  in view of these results, the analysis may be\n",
            "considered to provide a theoretical basis for the referenceenthalpy\n",
            "method .\n",
            "</TEXT>\n",
            "</DOC>\n",
            "\n",
            "------------------------------------------------\n",
            "\n",
            "Document: 4\n",
            "<DOC>\n",
            "<DOCNO>\n",
            "20\n",
            "</DOCNO>\n",
            "<TITLE>\n",
            "generalised-newtonian theory .\n",
            "</TITLE>\n",
            "<AUTHOR>\n",
            "love,e.s.\n",
            "</AUTHOR>\n",
            "<BIBLIO>\n",
            "j. ae. scs. 26, 1959, 314.\n",
            "</BIBLIO>\n",
            "<TEXT>\n",
            "  author generalizes lees's (amr 10(1957), rev. 2601) modification\n",
            "of newtonian theory for blunt-nose bodies to apply to pointednose\n",
            "bodies as well .  the result is expressed by\n",
            "sin where is the local inclination of the body surface\n",
            "and the subscript /max/ refers to the maximum local inclination\n",
            "and pressure coefficient .  for blunt-nose bodies\n",
            "and the generalized theory reverts to lees's blunt-nose modification\n",
            "with given by normal shock relations .  author shows,\n",
            "by comparison of newtonian and generalized-newtonian theory\n",
            "with exact solutions, the superiority of generalized-newtonian\n",
            "theory .  he also shows that both two-dimensional and axisymmetric\n",
            "shapes are correlated by this generalization .  results are\n",
            "presented in two figures that support author's generalization and\n",
            "indicate the independence of the correlation from variations in\n",
            "both the hypersonic similarity parameter k = m(d1) and the ratio\n",
            "of specific heats y .\n",
            "  reviewer believes this generalization should be of interest to\n",
            "those engaged in development of hypersonic hardware as well as\n",
            "theory .\n",
            "</TEXT>\n",
            "</DOC>\n",
            "\n",
            "------------------------------------------------\n",
            "\n",
            "Document: 5\n",
            "<DOC>\n",
            "<DOCNO>\n",
            "1225\n",
            "</DOCNO>\n",
            "<TITLE>\n",
            "the effect of adverse pressure gradients on the characteristics of\n",
            "turbulent boundary layers in supersonic streams .\n",
            "</TITLE>\n",
            "<AUTHOR>\n",
            "george h. mclafferty and robert e. barber\n",
            "</AUTHOR>\n",
            "<BIBLIO>\n",
            "united aircraft corporation research laboratories\n",
            "</BIBLIO>\n",
            "<TEXT>\n",
            "tests were conducted at mach numbers from 2.0 to 3.5 to determine\n",
            "the thickness and profile shape characteristics of turbulent boundary\n",
            "layers on two-dimensional and axisymmetric curved-surface models\n",
            "having adverse pressure gradients .  the magnitude of the gradients\n",
            "relative to the boundary-layer thickness at the beginning of the\n",
            "gradient was varied by employing models having different radii of\n",
            "curvature and by changing the boundary-layer thickness at the beginning\n",
            "of the gradient .  the overall pressure rise in most cases was\n",
            "greater than the value which would cause a turbulent boundary layer\n",
            "to separate if the pressure rise were created by an oblique shock wave .\n",
            "an analytical investigation was also conducted so that the results of\n",
            "the experimental investigation could be applied to the prediction of\n",
            "cases outside the range of the experiments .\n",
            "it is shown that boundary-layer momentum thickness can be predicted\n",
            "from the von karman boundary-layer momentum equation, but that measured\n",
            "values of boundary-layer profile shape are in poor agreement with\n",
            "values computed from procedures derived by extending conventional\n",
            "methods for predicting profile shape in subsonic flow .  a new procedure\n",
            "for calculating boundary-layer profile shapes, developed in this\n",
            "paper, is shown to provide a good correlation between experimental\n",
            "and calculated values of boundary-layer profile shapes in adverse\n",
            "pressure gradients created by curved surfaces .  this procedure is based\n",
            "on the experimental observation that the station at which high-energy\n",
            "free-stream flow actually mixes into a turbulent boundary layer in\n",
            "an adverse pressure gradient is well downstream of the station at\n",
            "which flow would have to mix in order to maintain a flat-plate profile .\n",
            "</TEXT>\n",
            "</DOC>\n",
            "\n",
            "------------------------------------------------\n",
            "\n"
          ]
        }
      ]
    },
    {
      "cell_type": "code",
      "source": [
        "for f in filenames:\n",
        "    outfile = open(f,'r')\n",
        "    doc = outfile.read()\n",
        "\n",
        "    # initializing string\n",
        "    test_str = doc\n",
        "\n",
        "    # initializing tags\n",
        "    tag1 = \"TITLE\"\n",
        "    tag2 = \"TEXT\"\n",
        "\n",
        "    # regex to extract required strings\n",
        "    reg_str1 = \"<\"+tag1+\">(.*?)</\"+tag1+\">\"\n",
        "    res1 = re.findall(reg_str1, test_str, re.DOTALL)\n",
        "\n",
        "    reg_str2 = \"<\"+tag2+\">(.*?)</\"+tag2+\">\"\n",
        "    res2 = re.findall(reg_str2, test_str, re.DOTALL)\n",
        "\n",
        "    #Combining contents of TITLE and TEXT\n",
        "    res = res1+res2\n",
        "    \n",
        "    s = res\n",
        "\n",
        "    # using list comprehension\n",
        "    listToStr = ' '.join([str(elem) for elem in s])\n",
        "\n",
        "    writeFile = open(f, 'w')\n",
        "    L = listToStr\n",
        "\n",
        "    writeFile.write(L)\n",
        "    writeFile.close()\n",
        "\n",
        "    outfile.close()"
      ],
      "metadata": {
        "id": "PXTrLt_nvgF9"
      },
      "execution_count": 15,
      "outputs": []
    },
    {
      "cell_type": "code",
      "source": [
        "c=0;\n",
        "\n",
        "for f in filenames:\n",
        "    outfile = open(f,'r')\n",
        "    doc = outfile.read()\n",
        "    print('Document: '+str(c+1))\n",
        "    print(doc)\n",
        "    print('------------------------------------------------')\n",
        "    print('')\n",
        "    c+=1;\n",
        "    if c==5 : break\n",
        "\n",
        "outfile.close()"
      ],
      "metadata": {
        "colab": {
          "base_uri": "https://localhost:8080/"
        },
        "id": "oFmFOi6Hwsz2",
        "outputId": "859448f0-76dd-4119-f019-bf5cc556e2e3"
      },
      "execution_count": 16,
      "outputs": [
        {
          "output_type": "stream",
          "name": "stdout",
          "text": [
            "Document: 1\n",
            "\n",
            "linearised transonic flow about slender bodies at zero\n",
            "angle of attack .\n",
            " \n",
            "  the simple linearized transonic flow theory\n",
            "as originally proposed by oswatitsch and\n",
            "keune(1) and by the present authors (2)\n",
            "is improved by considering and partially\n",
            "correcting its error .  in this manner a theory\n",
            "which is easy to apply and which should\n",
            "be valid for a great number of smooth bodies\n",
            "is obtained .  this improved theory predicts\n",
            "shock waves in the lower transonic regions .\n",
            "it is applied to a number of significant\n",
            "body and airfoil shapes and its predictions are\n",
            "compared with experiments and results\n",
            "of other theoretical investigations .\n",
            "\n",
            "------------------------------------------------\n",
            "\n",
            "Document: 2\n",
            "\n",
            "nonlinear heat transfer problem .\n",
            " \n",
            "  a study has been made of the time-dependent heat\n",
            "conduction in a semi-infinite medium subject to a\n",
            "boundary condition which can involve the temperature\n",
            "in a nonlinear manner .  a formulation for the\n",
            "determination of the surface temperature, which is often\n",
            "of greatest physical interest, leads to a nonlinear\n",
            "volterra integral equation .  a simple iterative solution\n",
            "method, with an accuracy suitable for many practical\n",
            "purposes is presented .  as an example, the problem\n",
            "of the time-dependent surface temperature of a body\n",
            "receiving heat according to the stefan-boltzmann law\n",
            "is treated .  the analysis is also applicable to physical\n",
            "adsorption or chemisorption processes which occur at\n",
            "the boundary .\n",
            "\n",
            "------------------------------------------------\n",
            "\n",
            "Document: 3\n",
            "\n",
            "the conpressibility transformation and the turbulent\n",
            "boundary layer equations .\n",
            " \n",
            "  the compressibility transformation first introduced by dorodnitzyn\n",
            "has been applied in this paper to the equations of the turbulent\n",
            "boundary layer on a flat plate, considering heat transfer\n",
            "and arbitrary prandtl numbers .  assuming the shear distribution\n",
            "to be invariant under the transformation, the stream function\n",
            "and the momentum equation take the proper form for incompressible\n",
            "flow, allowing the use of incompressible velocity\n",
            "profiles in the transformed coordinates .  application of crocco's\n",
            "method to the transformed energy equation permits integration\n",
            "of the energy equation resulting in a formulism remarkably\n",
            "similar to that proposed by eckert .  finally, the reference condition\n",
            "was chosen to correspond to the edge of the sublayer from\n",
            "considerations of the assumptions made regarding the shearstress\n",
            "distribution .  with this choice, the reference enthalpy is in\n",
            "good agreement with eckert's formula over the ordinary range of\n",
            "test conditions .  in view of these results, the analysis may be\n",
            "considered to provide a theoretical basis for the referenceenthalpy\n",
            "method .\n",
            "\n",
            "------------------------------------------------\n",
            "\n",
            "Document: 4\n",
            "\n",
            "generalised-newtonian theory .\n",
            " \n",
            "  author generalizes lees's (amr 10(1957), rev. 2601) modification\n",
            "of newtonian theory for blunt-nose bodies to apply to pointednose\n",
            "bodies as well .  the result is expressed by\n",
            "sin where is the local inclination of the body surface\n",
            "and the subscript /max/ refers to the maximum local inclination\n",
            "and pressure coefficient .  for blunt-nose bodies\n",
            "and the generalized theory reverts to lees's blunt-nose modification\n",
            "with given by normal shock relations .  author shows,\n",
            "by comparison of newtonian and generalized-newtonian theory\n",
            "with exact solutions, the superiority of generalized-newtonian\n",
            "theory .  he also shows that both two-dimensional and axisymmetric\n",
            "shapes are correlated by this generalization .  results are\n",
            "presented in two figures that support author's generalization and\n",
            "indicate the independence of the correlation from variations in\n",
            "both the hypersonic similarity parameter k = m(d1) and the ratio\n",
            "of specific heats y .\n",
            "  reviewer believes this generalization should be of interest to\n",
            "those engaged in development of hypersonic hardware as well as\n",
            "theory .\n",
            "\n",
            "------------------------------------------------\n",
            "\n",
            "Document: 5\n",
            "\n",
            "the effect of adverse pressure gradients on the characteristics of\n",
            "turbulent boundary layers in supersonic streams .\n",
            " \n",
            "tests were conducted at mach numbers from 2.0 to 3.5 to determine\n",
            "the thickness and profile shape characteristics of turbulent boundary\n",
            "layers on two-dimensional and axisymmetric curved-surface models\n",
            "having adverse pressure gradients .  the magnitude of the gradients\n",
            "relative to the boundary-layer thickness at the beginning of the\n",
            "gradient was varied by employing models having different radii of\n",
            "curvature and by changing the boundary-layer thickness at the beginning\n",
            "of the gradient .  the overall pressure rise in most cases was\n",
            "greater than the value which would cause a turbulent boundary layer\n",
            "to separate if the pressure rise were created by an oblique shock wave .\n",
            "an analytical investigation was also conducted so that the results of\n",
            "the experimental investigation could be applied to the prediction of\n",
            "cases outside the range of the experiments .\n",
            "it is shown that boundary-layer momentum thickness can be predicted\n",
            "from the von karman boundary-layer momentum equation, but that measured\n",
            "values of boundary-layer profile shape are in poor agreement with\n",
            "values computed from procedures derived by extending conventional\n",
            "methods for predicting profile shape in subsonic flow .  a new procedure\n",
            "for calculating boundary-layer profile shapes, developed in this\n",
            "paper, is shown to provide a good correlation between experimental\n",
            "and calculated values of boundary-layer profile shapes in adverse\n",
            "pressure gradients created by curved surfaces .  this procedure is based\n",
            "on the experimental observation that the station at which high-energy\n",
            "free-stream flow actually mixes into a turbulent boundary layer in\n",
            "an adverse pressure gradient is well downstream of the station at\n",
            "which flow would have to mix in order to maintain a flat-plate profile .\n",
            "\n",
            "------------------------------------------------\n",
            "\n"
          ]
        }
      ]
    },
    {
      "cell_type": "code",
      "source": [],
      "metadata": {
        "id": "w1xf4TgUxEDH"
      },
      "execution_count": null,
      "outputs": []
    }
  ]
}