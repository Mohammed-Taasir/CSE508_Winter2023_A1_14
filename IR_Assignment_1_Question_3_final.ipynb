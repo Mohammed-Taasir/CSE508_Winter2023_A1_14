{
  "nbformat": 4,
  "nbformat_minor": 0,
  "metadata": {
    "colab": {
      "provenance": [],
      "include_colab_link": true
    },
    "kernelspec": {
      "name": "python3",
      "display_name": "Python 3"
    },
    "language_info": {
      "name": "python"
    }
  },
  "cells": [
    {
      "cell_type": "markdown",
      "metadata": {
        "id": "view-in-github",
        "colab_type": "text"
      },
      "source": [
        "<a href=\"https://colab.research.google.com/github/Mohammed-Taasir/IR_2023-GROUP-14/blob/assignment-1/IR_Assignment_1_Question_3_final.ipynb\" target=\"_parent\"><img src=\"https://colab.research.google.com/assets/colab-badge.svg\" alt=\"Open In Colab\"/></a>"
      ]
    },
    {
      "cell_type": "code",
      "source": [
        "from google.colab import drive\n",
        "drive.mount('/content/drive')"
      ],
      "metadata": {
        "colab": {
          "base_uri": "https://localhost:8080/"
        },
        "id": "DEuzfIdQ9Edl",
        "outputId": "19981e41-0bf6-41b6-bf83-491cc82c3784"
      },
      "execution_count": null,
      "outputs": [
        {
          "output_type": "stream",
          "name": "stdout",
          "text": [
            "Mounted at /content/drive\n"
          ]
        }
      ]
    },
    {
      "cell_type": "code",
      "source": [
        "!cp '/content/drive/MyDrive/IR Assignment-1/CSE508_Winter2023_Dataset.zip' '/content/'\n",
        "!unzip 'CSE508_Winter2023_Dataset.zip' &> /dev/null\n",
        "!rm 'CSE508_Winter2023_Dataset.zip'"
      ],
      "metadata": {
        "id": "EtcInnCQ9Eb9"
      },
      "execution_count": null,
      "outputs": []
    },
    {
      "cell_type": "code",
      "source": [
        "path = '/content/CSE508_Winter2023_Dataset/'"
      ],
      "metadata": {
        "id": "1HeUqmvp9EQv"
      },
      "execution_count": null,
      "outputs": []
    },
    {
      "cell_type": "code",
      "source": [
        "import glob\n",
        "import pandas as pd\n",
        "import numpy as np\n",
        "import string\n",
        "import os\n",
        "import re\n",
        "import pickle\n",
        "import nltk\n",
        "from sortedcontainers import SortedDict, SortedList, SortedSet\n",
        "from nltk.tokenize import word_tokenize\n",
        "from nltk.corpus import stopwords\n",
        "from nltk.corpus import PlaintextCorpusReader \n",
        "from nltk.stem.wordnet import WordNetLemmatizer"
      ],
      "metadata": {
        "id": "6jI22ep79EPG"
      },
      "execution_count": null,
      "outputs": []
    },
    {
      "cell_type": "code",
      "source": [
        "nltk.download('punkt')\n",
        "nltk.download('stopwords')"
      ],
      "metadata": {
        "colab": {
          "base_uri": "https://localhost:8080/"
        },
        "id": "rZxIOOsi9ED7",
        "outputId": "ee3ab1ae-5dcc-4a75-e1c8-b0f6f5a35805"
      },
      "execution_count": null,
      "outputs": [
        {
          "output_type": "stream",
          "name": "stderr",
          "text": [
            "[nltk_data] Downloading package punkt to /root/nltk_data...\n",
            "[nltk_data]   Unzipping tokenizers/punkt.zip.\n",
            "[nltk_data] Downloading package stopwords to /root/nltk_data...\n",
            "[nltk_data]   Unzipping corpora/stopwords.zip.\n"
          ]
        },
        {
          "output_type": "execute_result",
          "data": {
            "text/plain": [
              "True"
            ]
          },
          "metadata": {},
          "execution_count": 5
        }
      ]
    },
    {
      "cell_type": "code",
      "source": [
        "def getListOfFiles(directory):\n",
        "\n",
        "    # Parameters: directory: type(string)        \n",
        "    # returns: list of all files in directory with the full path of file\n",
        "    \n",
        "    list_of_files = []\n",
        "\n",
        "    for i in range(len(filenames)):\n",
        "      fi = \"/content/CSE508_Winter2023_Dataset/\"+filenames[i]\n",
        "      list_of_files.append(fi)\n",
        "    \n",
        "    return list_of_files"
      ],
      "metadata": {
        "id": "Vl_baKlC9ECW"
      },
      "execution_count": null,
      "outputs": []
    },
    {
      "cell_type": "code",
      "source": [
        "def lowercase(data):\n",
        "\n",
        "    # Parameters: data: type(string)\n",
        "    # returns: lowercase of data   \n",
        "     \n",
        "    return data.lower()\n",
        "\n",
        "def perform_word_tokenize(corpus):\n",
        "  \n",
        "    # Parameters:corpus: type(string)   \n",
        "    # returns word-level tokenization of corpus\n",
        "\n",
        "    return word_tokenize(corpus)\n",
        "\n",
        "def remove_stopwords_from_tokens(tokens, stopwords_set):\n",
        "  \n",
        "    # Parameters: tokens: type(list)\n",
        "    #             stopwords_set: type(set)\n",
        "    # returns: tokens without stopwords\n",
        "\n",
        "    tokens_sans_stopwords = [x for x in tokens if x not in stopwords_set] \n",
        "    return tokens_sans_stopwords\n",
        "\n",
        "def remove_punctuation_from_tokens(tokens):\n",
        "\n",
        "    # Parameters: tokens: type(list)\n",
        "    # returns: tokens without punctuation\n",
        "\n",
        "    tokens_sans_punctuation = [x.translate(str.maketrans('', '', string.punctuation)) for x in tokens]\n",
        "    return tokens_sans_punctuation\n",
        "\n",
        "def remove_blank_space_tokens(tokens):\n",
        "    \n",
        "    #Parameters: tokens: type(list)\n",
        "    #returns: tokens without blank tokens\n",
        "\n",
        "    tokens_sans_blank_space = [x for x in tokens if x!='']  \n",
        "    return tokens_sans_blank_space"
      ],
      "metadata": {
        "id": "VK44G1qQ-A2g"
      },
      "execution_count": null,
      "outputs": []
    },
    {
      "cell_type": "code",
      "source": [
        "def preprocess(corpus, stopwords_set, preprocess_type):\n",
        "    # Convert the text to lower case\n",
        "    lowercase_corpus = lowercase(corpus)\n",
        "    \n",
        "    # Perform word tokenization (word_tokenize also takes care of whitespace)\n",
        "    word_tokens = perform_word_tokenize(lowercase_corpus)\n",
        "    \n",
        "    # Remove stopwords from tokens\n",
        "    word_tokens_sans_stopwords = remove_stopwords_from_tokens(word_tokens, stopwords_set)\n",
        "    \n",
        "    # Remove punctuation marks from tokens\n",
        "    word_tokens_sans_punctuation = remove_punctuation_from_tokens(word_tokens_sans_stopwords)\n",
        "    \n",
        "    # Remove blank space tokens\n",
        "    word_tokens_sans_blank_tokens = remove_blank_space_tokens(word_tokens_sans_punctuation)\n",
        "  \n",
        "    \n",
        "    if preprocess_type=='query':\n",
        "        return word_tokens_sans_blank_tokens                              # if its a query return tokens in the same order\n",
        "    return sorted(list(dict.fromkeys(word_tokens_sans_blank_tokens)))     # if its a whole document then return tokens in sorted manner"
      ],
      "metadata": {
        "id": "Tpw6Y63t-A01"
      },
      "execution_count": null,
      "outputs": []
    },
    {
      "cell_type": "code",
      "source": [
        "def create_file_dictionary(list_of_files):\n",
        "    \n",
        "    # Paramteres: list_of_files: type(string)\n",
        "    # returns: file_dictionary with integer key and path_of_file as value\n",
        "  \n",
        "    file_dictionary = {}\n",
        "    for i in range(len(list_of_files)):\n",
        "        file_dictionary[i] = list_of_files[i]\n",
        "    \n",
        "    return file_dictionary"
      ],
      "metadata": {
        "id": "jU3PlZD6-Axa"
      },
      "execution_count": null,
      "outputs": []
    },
    {
      "cell_type": "code",
      "source": [
        "corpus_root='/content/CSE508_Winter2023_Dataset/'\n",
        "corpus=PlaintextCorpusReader(corpus_root,'.*')"
      ],
      "metadata": {
        "id": "gGBHemjE-AvX"
      },
      "execution_count": null,
      "outputs": []
    },
    {
      "cell_type": "code",
      "source": [
        "# Printing names of all files\n",
        "\n",
        "filenames=corpus.fileids()\n",
        "print(filenames)"
      ],
      "metadata": {
        "colab": {
          "base_uri": "https://localhost:8080/"
        },
        "id": "QGjkMQx_-As9",
        "outputId": "e1500477-553c-4b47-9b07-d857b7fa74f9"
      },
      "execution_count": null,
      "outputs": [
        {
          "output_type": "stream",
          "name": "stdout",
          "text": [
            "['cranfield0001', 'cranfield0002', 'cranfield0003', 'cranfield0004', 'cranfield0005', 'cranfield0006', 'cranfield0007', 'cranfield0008', 'cranfield0009', 'cranfield0010', 'cranfield0011', 'cranfield0012', 'cranfield0013', 'cranfield0014', 'cranfield0015', 'cranfield0016', 'cranfield0017', 'cranfield0018', 'cranfield0019', 'cranfield0020', 'cranfield0021', 'cranfield0022', 'cranfield0023', 'cranfield0024', 'cranfield0025', 'cranfield0026', 'cranfield0027', 'cranfield0028', 'cranfield0029', 'cranfield0030', 'cranfield0031', 'cranfield0032', 'cranfield0033', 'cranfield0034', 'cranfield0035', 'cranfield0036', 'cranfield0037', 'cranfield0038', 'cranfield0039', 'cranfield0040', 'cranfield0041', 'cranfield0042', 'cranfield0043', 'cranfield0044', 'cranfield0045', 'cranfield0046', 'cranfield0047', 'cranfield0048', 'cranfield0049', 'cranfield0050', 'cranfield0051', 'cranfield0052', 'cranfield0053', 'cranfield0054', 'cranfield0055', 'cranfield0056', 'cranfield0057', 'cranfield0058', 'cranfield0059', 'cranfield0060', 'cranfield0061', 'cranfield0062', 'cranfield0063', 'cranfield0064', 'cranfield0065', 'cranfield0066', 'cranfield0067', 'cranfield0068', 'cranfield0069', 'cranfield0070', 'cranfield0071', 'cranfield0072', 'cranfield0073', 'cranfield0074', 'cranfield0075', 'cranfield0076', 'cranfield0077', 'cranfield0078', 'cranfield0079', 'cranfield0080', 'cranfield0081', 'cranfield0082', 'cranfield0083', 'cranfield0084', 'cranfield0085', 'cranfield0086', 'cranfield0087', 'cranfield0088', 'cranfield0089', 'cranfield0090', 'cranfield0091', 'cranfield0092', 'cranfield0093', 'cranfield0094', 'cranfield0095', 'cranfield0096', 'cranfield0097', 'cranfield0098', 'cranfield0099', 'cranfield0100', 'cranfield0101', 'cranfield0102', 'cranfield0103', 'cranfield0104', 'cranfield0105', 'cranfield0106', 'cranfield0107', 'cranfield0108', 'cranfield0109', 'cranfield0110', 'cranfield0111', 'cranfield0112', 'cranfield0113', 'cranfield0114', 'cranfield0115', 'cranfield0116', 'cranfield0117', 'cranfield0118', 'cranfield0119', 'cranfield0120', 'cranfield0121', 'cranfield0122', 'cranfield0123', 'cranfield0124', 'cranfield0125', 'cranfield0126', 'cranfield0127', 'cranfield0128', 'cranfield0129', 'cranfield0130', 'cranfield0131', 'cranfield0132', 'cranfield0133', 'cranfield0134', 'cranfield0135', 'cranfield0136', 'cranfield0137', 'cranfield0138', 'cranfield0139', 'cranfield0140', 'cranfield0141', 'cranfield0142', 'cranfield0143', 'cranfield0144', 'cranfield0145', 'cranfield0146', 'cranfield0147', 'cranfield0148', 'cranfield0149', 'cranfield0150', 'cranfield0151', 'cranfield0152', 'cranfield0153', 'cranfield0154', 'cranfield0155', 'cranfield0156', 'cranfield0157', 'cranfield0158', 'cranfield0159', 'cranfield0160', 'cranfield0161', 'cranfield0162', 'cranfield0163', 'cranfield0164', 'cranfield0165', 'cranfield0166', 'cranfield0167', 'cranfield0168', 'cranfield0169', 'cranfield0170', 'cranfield0171', 'cranfield0172', 'cranfield0173', 'cranfield0174', 'cranfield0175', 'cranfield0176', 'cranfield0177', 'cranfield0178', 'cranfield0179', 'cranfield0180', 'cranfield0181', 'cranfield0182', 'cranfield0183', 'cranfield0184', 'cranfield0185', 'cranfield0186', 'cranfield0187', 'cranfield0188', 'cranfield0189', 'cranfield0190', 'cranfield0191', 'cranfield0192', 'cranfield0193', 'cranfield0194', 'cranfield0195', 'cranfield0196', 'cranfield0197', 'cranfield0198', 'cranfield0199', 'cranfield0200', 'cranfield0201', 'cranfield0202', 'cranfield0203', 'cranfield0204', 'cranfield0205', 'cranfield0206', 'cranfield0207', 'cranfield0208', 'cranfield0209', 'cranfield0210', 'cranfield0211', 'cranfield0212', 'cranfield0213', 'cranfield0214', 'cranfield0215', 'cranfield0216', 'cranfield0217', 'cranfield0218', 'cranfield0219', 'cranfield0220', 'cranfield0221', 'cranfield0222', 'cranfield0223', 'cranfield0224', 'cranfield0225', 'cranfield0226', 'cranfield0227', 'cranfield0228', 'cranfield0229', 'cranfield0230', 'cranfield0231', 'cranfield0232', 'cranfield0233', 'cranfield0234', 'cranfield0235', 'cranfield0236', 'cranfield0237', 'cranfield0238', 'cranfield0239', 'cranfield0240', 'cranfield0241', 'cranfield0242', 'cranfield0243', 'cranfield0244', 'cranfield0245', 'cranfield0246', 'cranfield0247', 'cranfield0248', 'cranfield0249', 'cranfield0250', 'cranfield0251', 'cranfield0252', 'cranfield0253', 'cranfield0254', 'cranfield0255', 'cranfield0256', 'cranfield0257', 'cranfield0258', 'cranfield0259', 'cranfield0260', 'cranfield0261', 'cranfield0262', 'cranfield0263', 'cranfield0264', 'cranfield0265', 'cranfield0266', 'cranfield0267', 'cranfield0268', 'cranfield0269', 'cranfield0270', 'cranfield0271', 'cranfield0272', 'cranfield0273', 'cranfield0274', 'cranfield0275', 'cranfield0276', 'cranfield0277', 'cranfield0278', 'cranfield0279', 'cranfield0280', 'cranfield0281', 'cranfield0282', 'cranfield0283', 'cranfield0284', 'cranfield0285', 'cranfield0286', 'cranfield0287', 'cranfield0288', 'cranfield0289', 'cranfield0290', 'cranfield0291', 'cranfield0292', 'cranfield0293', 'cranfield0294', 'cranfield0295', 'cranfield0296', 'cranfield0297', 'cranfield0298', 'cranfield0299', 'cranfield0300', 'cranfield0301', 'cranfield0302', 'cranfield0303', 'cranfield0304', 'cranfield0305', 'cranfield0306', 'cranfield0307', 'cranfield0308', 'cranfield0309', 'cranfield0310', 'cranfield0311', 'cranfield0312', 'cranfield0313', 'cranfield0314', 'cranfield0315', 'cranfield0316', 'cranfield0317', 'cranfield0318', 'cranfield0319', 'cranfield0320', 'cranfield0321', 'cranfield0322', 'cranfield0323', 'cranfield0324', 'cranfield0325', 'cranfield0326', 'cranfield0327', 'cranfield0328', 'cranfield0329', 'cranfield0330', 'cranfield0331', 'cranfield0332', 'cranfield0333', 'cranfield0334', 'cranfield0335', 'cranfield0336', 'cranfield0337', 'cranfield0338', 'cranfield0339', 'cranfield0340', 'cranfield0341', 'cranfield0342', 'cranfield0343', 'cranfield0344', 'cranfield0345', 'cranfield0346', 'cranfield0347', 'cranfield0348', 'cranfield0349', 'cranfield0350', 'cranfield0351', 'cranfield0352', 'cranfield0353', 'cranfield0354', 'cranfield0355', 'cranfield0356', 'cranfield0357', 'cranfield0358', 'cranfield0359', 'cranfield0360', 'cranfield0361', 'cranfield0362', 'cranfield0363', 'cranfield0364', 'cranfield0365', 'cranfield0366', 'cranfield0367', 'cranfield0368', 'cranfield0369', 'cranfield0370', 'cranfield0371', 'cranfield0372', 'cranfield0373', 'cranfield0374', 'cranfield0375', 'cranfield0376', 'cranfield0377', 'cranfield0378', 'cranfield0379', 'cranfield0380', 'cranfield0381', 'cranfield0382', 'cranfield0383', 'cranfield0384', 'cranfield0385', 'cranfield0386', 'cranfield0387', 'cranfield0388', 'cranfield0389', 'cranfield0390', 'cranfield0391', 'cranfield0392', 'cranfield0393', 'cranfield0394', 'cranfield0395', 'cranfield0396', 'cranfield0397', 'cranfield0398', 'cranfield0399', 'cranfield0400', 'cranfield0401', 'cranfield0402', 'cranfield0403', 'cranfield0404', 'cranfield0405', 'cranfield0406', 'cranfield0407', 'cranfield0408', 'cranfield0409', 'cranfield0410', 'cranfield0411', 'cranfield0412', 'cranfield0413', 'cranfield0414', 'cranfield0415', 'cranfield0416', 'cranfield0417', 'cranfield0418', 'cranfield0419', 'cranfield0420', 'cranfield0421', 'cranfield0422', 'cranfield0423', 'cranfield0424', 'cranfield0425', 'cranfield0426', 'cranfield0427', 'cranfield0428', 'cranfield0429', 'cranfield0430', 'cranfield0431', 'cranfield0432', 'cranfield0433', 'cranfield0434', 'cranfield0435', 'cranfield0436', 'cranfield0437', 'cranfield0438', 'cranfield0439', 'cranfield0440', 'cranfield0441', 'cranfield0442', 'cranfield0443', 'cranfield0444', 'cranfield0445', 'cranfield0446', 'cranfield0447', 'cranfield0448', 'cranfield0449', 'cranfield0450', 'cranfield0451', 'cranfield0452', 'cranfield0453', 'cranfield0454', 'cranfield0455', 'cranfield0456', 'cranfield0457', 'cranfield0458', 'cranfield0459', 'cranfield0460', 'cranfield0461', 'cranfield0462', 'cranfield0463', 'cranfield0464', 'cranfield0465', 'cranfield0466', 'cranfield0467', 'cranfield0468', 'cranfield0469', 'cranfield0470', 'cranfield0471', 'cranfield0472', 'cranfield0473', 'cranfield0474', 'cranfield0475', 'cranfield0476', 'cranfield0477', 'cranfield0478', 'cranfield0479', 'cranfield0480', 'cranfield0481', 'cranfield0482', 'cranfield0483', 'cranfield0484', 'cranfield0485', 'cranfield0486', 'cranfield0487', 'cranfield0488', 'cranfield0489', 'cranfield0490', 'cranfield0491', 'cranfield0492', 'cranfield0493', 'cranfield0494', 'cranfield0495', 'cranfield0496', 'cranfield0497', 'cranfield0498', 'cranfield0499', 'cranfield0500', 'cranfield0501', 'cranfield0502', 'cranfield0503', 'cranfield0504', 'cranfield0505', 'cranfield0506', 'cranfield0507', 'cranfield0508', 'cranfield0509', 'cranfield0510', 'cranfield0511', 'cranfield0512', 'cranfield0513', 'cranfield0514', 'cranfield0515', 'cranfield0516', 'cranfield0517', 'cranfield0518', 'cranfield0519', 'cranfield0520', 'cranfield0521', 'cranfield0522', 'cranfield0523', 'cranfield0524', 'cranfield0525', 'cranfield0526', 'cranfield0527', 'cranfield0528', 'cranfield0529', 'cranfield0530', 'cranfield0531', 'cranfield0532', 'cranfield0533', 'cranfield0534', 'cranfield0535', 'cranfield0536', 'cranfield0537', 'cranfield0538', 'cranfield0539', 'cranfield0540', 'cranfield0541', 'cranfield0542', 'cranfield0543', 'cranfield0544', 'cranfield0545', 'cranfield0546', 'cranfield0547', 'cranfield0548', 'cranfield0549', 'cranfield0550', 'cranfield0551', 'cranfield0552', 'cranfield0553', 'cranfield0554', 'cranfield0555', 'cranfield0556', 'cranfield0557', 'cranfield0558', 'cranfield0559', 'cranfield0560', 'cranfield0561', 'cranfield0562', 'cranfield0563', 'cranfield0564', 'cranfield0565', 'cranfield0566', 'cranfield0567', 'cranfield0568', 'cranfield0569', 'cranfield0570', 'cranfield0571', 'cranfield0572', 'cranfield0573', 'cranfield0574', 'cranfield0575', 'cranfield0576', 'cranfield0577', 'cranfield0578', 'cranfield0579', 'cranfield0580', 'cranfield0581', 'cranfield0582', 'cranfield0583', 'cranfield0584', 'cranfield0585', 'cranfield0586', 'cranfield0587', 'cranfield0588', 'cranfield0589', 'cranfield0590', 'cranfield0591', 'cranfield0592', 'cranfield0593', 'cranfield0594', 'cranfield0595', 'cranfield0596', 'cranfield0597', 'cranfield0598', 'cranfield0599', 'cranfield0600', 'cranfield0601', 'cranfield0602', 'cranfield0603', 'cranfield0604', 'cranfield0605', 'cranfield0606', 'cranfield0607', 'cranfield0608', 'cranfield0609', 'cranfield0610', 'cranfield0611', 'cranfield0612', 'cranfield0613', 'cranfield0614', 'cranfield0615', 'cranfield0616', 'cranfield0617', 'cranfield0618', 'cranfield0619', 'cranfield0620', 'cranfield0621', 'cranfield0622', 'cranfield0623', 'cranfield0624', 'cranfield0625', 'cranfield0626', 'cranfield0627', 'cranfield0628', 'cranfield0629', 'cranfield0630', 'cranfield0631', 'cranfield0632', 'cranfield0633', 'cranfield0634', 'cranfield0635', 'cranfield0636', 'cranfield0637', 'cranfield0638', 'cranfield0639', 'cranfield0640', 'cranfield0641', 'cranfield0642', 'cranfield0643', 'cranfield0644', 'cranfield0645', 'cranfield0646', 'cranfield0647', 'cranfield0648', 'cranfield0649', 'cranfield0650', 'cranfield0651', 'cranfield0652', 'cranfield0653', 'cranfield0654', 'cranfield0655', 'cranfield0656', 'cranfield0657', 'cranfield0658', 'cranfield0659', 'cranfield0660', 'cranfield0661', 'cranfield0662', 'cranfield0663', 'cranfield0664', 'cranfield0665', 'cranfield0666', 'cranfield0667', 'cranfield0668', 'cranfield0669', 'cranfield0670', 'cranfield0671', 'cranfield0672', 'cranfield0673', 'cranfield0674', 'cranfield0675', 'cranfield0676', 'cranfield0677', 'cranfield0678', 'cranfield0679', 'cranfield0680', 'cranfield0681', 'cranfield0682', 'cranfield0683', 'cranfield0684', 'cranfield0685', 'cranfield0686', 'cranfield0687', 'cranfield0688', 'cranfield0689', 'cranfield0690', 'cranfield0691', 'cranfield0692', 'cranfield0693', 'cranfield0694', 'cranfield0695', 'cranfield0696', 'cranfield0697', 'cranfield0698', 'cranfield0699', 'cranfield0700', 'cranfield0701', 'cranfield0702', 'cranfield0703', 'cranfield0704', 'cranfield0705', 'cranfield0706', 'cranfield0707', 'cranfield0708', 'cranfield0709', 'cranfield0710', 'cranfield0711', 'cranfield0712', 'cranfield0713', 'cranfield0714', 'cranfield0715', 'cranfield0716', 'cranfield0717', 'cranfield0718', 'cranfield0719', 'cranfield0720', 'cranfield0721', 'cranfield0722', 'cranfield0723', 'cranfield0724', 'cranfield0725', 'cranfield0726', 'cranfield0727', 'cranfield0728', 'cranfield0729', 'cranfield0730', 'cranfield0731', 'cranfield0732', 'cranfield0733', 'cranfield0734', 'cranfield0735', 'cranfield0736', 'cranfield0737', 'cranfield0738', 'cranfield0739', 'cranfield0740', 'cranfield0741', 'cranfield0742', 'cranfield0743', 'cranfield0744', 'cranfield0745', 'cranfield0746', 'cranfield0747', 'cranfield0748', 'cranfield0749', 'cranfield0750', 'cranfield0751', 'cranfield0752', 'cranfield0753', 'cranfield0754', 'cranfield0755', 'cranfield0756', 'cranfield0757', 'cranfield0758', 'cranfield0759', 'cranfield0760', 'cranfield0761', 'cranfield0762', 'cranfield0763', 'cranfield0764', 'cranfield0765', 'cranfield0766', 'cranfield0767', 'cranfield0768', 'cranfield0769', 'cranfield0770', 'cranfield0771', 'cranfield0772', 'cranfield0773', 'cranfield0774', 'cranfield0775', 'cranfield0776', 'cranfield0777', 'cranfield0778', 'cranfield0779', 'cranfield0780', 'cranfield0781', 'cranfield0782', 'cranfield0783', 'cranfield0784', 'cranfield0785', 'cranfield0786', 'cranfield0787', 'cranfield0788', 'cranfield0789', 'cranfield0790', 'cranfield0791', 'cranfield0792', 'cranfield0793', 'cranfield0794', 'cranfield0795', 'cranfield0796', 'cranfield0797', 'cranfield0798', 'cranfield0799', 'cranfield0800', 'cranfield0801', 'cranfield0802', 'cranfield0803', 'cranfield0804', 'cranfield0805', 'cranfield0806', 'cranfield0807', 'cranfield0808', 'cranfield0809', 'cranfield0810', 'cranfield0811', 'cranfield0812', 'cranfield0813', 'cranfield0814', 'cranfield0815', 'cranfield0816', 'cranfield0817', 'cranfield0818', 'cranfield0819', 'cranfield0820', 'cranfield0821', 'cranfield0822', 'cranfield0823', 'cranfield0824', 'cranfield0825', 'cranfield0826', 'cranfield0827', 'cranfield0828', 'cranfield0829', 'cranfield0830', 'cranfield0831', 'cranfield0832', 'cranfield0833', 'cranfield0834', 'cranfield0835', 'cranfield0836', 'cranfield0837', 'cranfield0838', 'cranfield0839', 'cranfield0840', 'cranfield0841', 'cranfield0842', 'cranfield0843', 'cranfield0844', 'cranfield0845', 'cranfield0846', 'cranfield0847', 'cranfield0848', 'cranfield0849', 'cranfield0850', 'cranfield0851', 'cranfield0852', 'cranfield0853', 'cranfield0854', 'cranfield0855', 'cranfield0856', 'cranfield0857', 'cranfield0858', 'cranfield0859', 'cranfield0860', 'cranfield0861', 'cranfield0862', 'cranfield0863', 'cranfield0864', 'cranfield0865', 'cranfield0866', 'cranfield0867', 'cranfield0868', 'cranfield0869', 'cranfield0870', 'cranfield0871', 'cranfield0872', 'cranfield0873', 'cranfield0874', 'cranfield0875', 'cranfield0876', 'cranfield0877', 'cranfield0878', 'cranfield0879', 'cranfield0880', 'cranfield0881', 'cranfield0882', 'cranfield0883', 'cranfield0884', 'cranfield0885', 'cranfield0886', 'cranfield0887', 'cranfield0888', 'cranfield0889', 'cranfield0890', 'cranfield0891', 'cranfield0892', 'cranfield0893', 'cranfield0894', 'cranfield0895', 'cranfield0896', 'cranfield0897', 'cranfield0898', 'cranfield0899', 'cranfield0900', 'cranfield0901', 'cranfield0902', 'cranfield0903', 'cranfield0904', 'cranfield0905', 'cranfield0906', 'cranfield0907', 'cranfield0908', 'cranfield0909', 'cranfield0910', 'cranfield0911', 'cranfield0912', 'cranfield0913', 'cranfield0914', 'cranfield0915', 'cranfield0916', 'cranfield0917', 'cranfield0918', 'cranfield0919', 'cranfield0920', 'cranfield0921', 'cranfield0922', 'cranfield0923', 'cranfield0924', 'cranfield0925', 'cranfield0926', 'cranfield0927', 'cranfield0928', 'cranfield0929', 'cranfield0930', 'cranfield0931', 'cranfield0932', 'cranfield0933', 'cranfield0934', 'cranfield0935', 'cranfield0936', 'cranfield0937', 'cranfield0938', 'cranfield0939', 'cranfield0940', 'cranfield0941', 'cranfield0942', 'cranfield0943', 'cranfield0944', 'cranfield0945', 'cranfield0946', 'cranfield0947', 'cranfield0948', 'cranfield0949', 'cranfield0950', 'cranfield0951', 'cranfield0952', 'cranfield0953', 'cranfield0954', 'cranfield0955', 'cranfield0956', 'cranfield0957', 'cranfield0958', 'cranfield0959', 'cranfield0960', 'cranfield0961', 'cranfield0962', 'cranfield0963', 'cranfield0964', 'cranfield0965', 'cranfield0966', 'cranfield0967', 'cranfield0968', 'cranfield0969', 'cranfield0970', 'cranfield0971', 'cranfield0972', 'cranfield0973', 'cranfield0974', 'cranfield0975', 'cranfield0976', 'cranfield0977', 'cranfield0978', 'cranfield0979', 'cranfield0980', 'cranfield0981', 'cranfield0982', 'cranfield0983', 'cranfield0984', 'cranfield0985', 'cranfield0986', 'cranfield0987', 'cranfield0988', 'cranfield0989', 'cranfield0990', 'cranfield0991', 'cranfield0992', 'cranfield0993', 'cranfield0994', 'cranfield0995', 'cranfield0996', 'cranfield0997', 'cranfield0998', 'cranfield0999', 'cranfield1000', 'cranfield1001', 'cranfield1002', 'cranfield1003', 'cranfield1004', 'cranfield1005', 'cranfield1006', 'cranfield1007', 'cranfield1008', 'cranfield1009', 'cranfield1010', 'cranfield1011', 'cranfield1012', 'cranfield1013', 'cranfield1014', 'cranfield1015', 'cranfield1016', 'cranfield1017', 'cranfield1018', 'cranfield1019', 'cranfield1020', 'cranfield1021', 'cranfield1022', 'cranfield1023', 'cranfield1024', 'cranfield1025', 'cranfield1026', 'cranfield1027', 'cranfield1028', 'cranfield1029', 'cranfield1030', 'cranfield1031', 'cranfield1032', 'cranfield1033', 'cranfield1034', 'cranfield1035', 'cranfield1036', 'cranfield1037', 'cranfield1038', 'cranfield1039', 'cranfield1040', 'cranfield1041', 'cranfield1042', 'cranfield1043', 'cranfield1044', 'cranfield1045', 'cranfield1046', 'cranfield1047', 'cranfield1048', 'cranfield1049', 'cranfield1050', 'cranfield1051', 'cranfield1052', 'cranfield1053', 'cranfield1054', 'cranfield1055', 'cranfield1056', 'cranfield1057', 'cranfield1058', 'cranfield1059', 'cranfield1060', 'cranfield1061', 'cranfield1062', 'cranfield1063', 'cranfield1064', 'cranfield1065', 'cranfield1066', 'cranfield1067', 'cranfield1068', 'cranfield1069', 'cranfield1070', 'cranfield1071', 'cranfield1072', 'cranfield1073', 'cranfield1074', 'cranfield1075', 'cranfield1076', 'cranfield1077', 'cranfield1078', 'cranfield1079', 'cranfield1080', 'cranfield1081', 'cranfield1082', 'cranfield1083', 'cranfield1084', 'cranfield1085', 'cranfield1086', 'cranfield1087', 'cranfield1088', 'cranfield1089', 'cranfield1090', 'cranfield1091', 'cranfield1092', 'cranfield1093', 'cranfield1094', 'cranfield1095', 'cranfield1096', 'cranfield1097', 'cranfield1098', 'cranfield1099', 'cranfield1100', 'cranfield1101', 'cranfield1102', 'cranfield1103', 'cranfield1104', 'cranfield1105', 'cranfield1106', 'cranfield1107', 'cranfield1108', 'cranfield1109', 'cranfield1110', 'cranfield1111', 'cranfield1112', 'cranfield1113', 'cranfield1114', 'cranfield1115', 'cranfield1116', 'cranfield1117', 'cranfield1118', 'cranfield1119', 'cranfield1120', 'cranfield1121', 'cranfield1122', 'cranfield1123', 'cranfield1124', 'cranfield1125', 'cranfield1126', 'cranfield1127', 'cranfield1128', 'cranfield1129', 'cranfield1130', 'cranfield1131', 'cranfield1132', 'cranfield1133', 'cranfield1134', 'cranfield1135', 'cranfield1136', 'cranfield1137', 'cranfield1138', 'cranfield1139', 'cranfield1140', 'cranfield1141', 'cranfield1142', 'cranfield1143', 'cranfield1144', 'cranfield1145', 'cranfield1146', 'cranfield1147', 'cranfield1148', 'cranfield1149', 'cranfield1150', 'cranfield1151', 'cranfield1152', 'cranfield1153', 'cranfield1154', 'cranfield1155', 'cranfield1156', 'cranfield1157', 'cranfield1158', 'cranfield1159', 'cranfield1160', 'cranfield1161', 'cranfield1162', 'cranfield1163', 'cranfield1164', 'cranfield1165', 'cranfield1166', 'cranfield1167', 'cranfield1168', 'cranfield1169', 'cranfield1170', 'cranfield1171', 'cranfield1172', 'cranfield1173', 'cranfield1174', 'cranfield1175', 'cranfield1176', 'cranfield1177', 'cranfield1178', 'cranfield1179', 'cranfield1180', 'cranfield1181', 'cranfield1182', 'cranfield1183', 'cranfield1184', 'cranfield1185', 'cranfield1186', 'cranfield1187', 'cranfield1188', 'cranfield1189', 'cranfield1190', 'cranfield1191', 'cranfield1192', 'cranfield1193', 'cranfield1194', 'cranfield1195', 'cranfield1196', 'cranfield1197', 'cranfield1198', 'cranfield1199', 'cranfield1200', 'cranfield1201', 'cranfield1202', 'cranfield1203', 'cranfield1204', 'cranfield1205', 'cranfield1206', 'cranfield1207', 'cranfield1208', 'cranfield1209', 'cranfield1210', 'cranfield1211', 'cranfield1212', 'cranfield1213', 'cranfield1214', 'cranfield1215', 'cranfield1216', 'cranfield1217', 'cranfield1218', 'cranfield1219', 'cranfield1220', 'cranfield1221', 'cranfield1222', 'cranfield1223', 'cranfield1224', 'cranfield1225', 'cranfield1226', 'cranfield1227', 'cranfield1228', 'cranfield1229', 'cranfield1230', 'cranfield1231', 'cranfield1232', 'cranfield1233', 'cranfield1234', 'cranfield1235', 'cranfield1236', 'cranfield1237', 'cranfield1238', 'cranfield1239', 'cranfield1240', 'cranfield1241', 'cranfield1242', 'cranfield1243', 'cranfield1244', 'cranfield1245', 'cranfield1246', 'cranfield1247', 'cranfield1248', 'cranfield1249', 'cranfield1250', 'cranfield1251', 'cranfield1252', 'cranfield1253', 'cranfield1254', 'cranfield1255', 'cranfield1256', 'cranfield1257', 'cranfield1258', 'cranfield1259', 'cranfield1260', 'cranfield1261', 'cranfield1262', 'cranfield1263', 'cranfield1264', 'cranfield1265', 'cranfield1266', 'cranfield1267', 'cranfield1268', 'cranfield1269', 'cranfield1270', 'cranfield1271', 'cranfield1272', 'cranfield1273', 'cranfield1274', 'cranfield1275', 'cranfield1276', 'cranfield1277', 'cranfield1278', 'cranfield1279', 'cranfield1280', 'cranfield1281', 'cranfield1282', 'cranfield1283', 'cranfield1284', 'cranfield1285', 'cranfield1286', 'cranfield1287', 'cranfield1288', 'cranfield1289', 'cranfield1290', 'cranfield1291', 'cranfield1292', 'cranfield1293', 'cranfield1294', 'cranfield1295', 'cranfield1296', 'cranfield1297', 'cranfield1298', 'cranfield1299', 'cranfield1300', 'cranfield1301', 'cranfield1302', 'cranfield1303', 'cranfield1304', 'cranfield1305', 'cranfield1306', 'cranfield1307', 'cranfield1308', 'cranfield1309', 'cranfield1310', 'cranfield1311', 'cranfield1312', 'cranfield1313', 'cranfield1314', 'cranfield1315', 'cranfield1316', 'cranfield1317', 'cranfield1318', 'cranfield1319', 'cranfield1320', 'cranfield1321', 'cranfield1322', 'cranfield1323', 'cranfield1324', 'cranfield1325', 'cranfield1326', 'cranfield1327', 'cranfield1328', 'cranfield1329', 'cranfield1330', 'cranfield1331', 'cranfield1332', 'cranfield1333', 'cranfield1334', 'cranfield1335', 'cranfield1336', 'cranfield1337', 'cranfield1338', 'cranfield1339', 'cranfield1340', 'cranfield1341', 'cranfield1342', 'cranfield1343', 'cranfield1344', 'cranfield1345', 'cranfield1346', 'cranfield1347', 'cranfield1348', 'cranfield1349', 'cranfield1350', 'cranfield1351', 'cranfield1352', 'cranfield1353', 'cranfield1354', 'cranfield1355', 'cranfield1356', 'cranfield1357', 'cranfield1358', 'cranfield1359', 'cranfield1360', 'cranfield1361', 'cranfield1362', 'cranfield1363', 'cranfield1364', 'cranfield1365', 'cranfield1366', 'cranfield1367', 'cranfield1368', 'cranfield1369', 'cranfield1370', 'cranfield1371', 'cranfield1372', 'cranfield1373', 'cranfield1374', 'cranfield1375', 'cranfield1376', 'cranfield1377', 'cranfield1378', 'cranfield1379', 'cranfield1380', 'cranfield1381', 'cranfield1382', 'cranfield1383', 'cranfield1384', 'cranfield1385', 'cranfield1386', 'cranfield1387', 'cranfield1388', 'cranfield1389', 'cranfield1390', 'cranfield1391', 'cranfield1392', 'cranfield1393', 'cranfield1394', 'cranfield1395', 'cranfield1396', 'cranfield1397', 'cranfield1398', 'cranfield1399', 'cranfield1400']\n"
          ]
        }
      ]
    },
    {
      "cell_type": "code",
      "source": [
        "print(type(filenames))\n",
        "print(len(filenames))"
      ],
      "metadata": {
        "colab": {
          "base_uri": "https://localhost:8080/"
        },
        "id": "sNuoRyoa-Aq4",
        "outputId": "00516cff-252d-4cd1-eba6-7b44af480035"
      },
      "execution_count": null,
      "outputs": [
        {
          "output_type": "stream",
          "name": "stdout",
          "text": [
            "<class 'list'>\n",
            "1400\n"
          ]
        }
      ]
    },
    {
      "cell_type": "code",
      "source": [
        "for i in range(len(filenames)):\n",
        "    outfile = open('/content/CSE508_Winter2023_Dataset/'+filenames[i], 'r')\n",
        "    doc = outfile.read()\n",
        "\n",
        "    # initializing string\n",
        "    test_str = doc\n",
        "\n",
        "    # initializing tags\n",
        "    tag1 = \"TITLE\"\n",
        "    tag2 = \"TEXT\"\n",
        "\n",
        "    # regex to extract required strings\n",
        "    reg_str1 = \"<\"+tag1+\">(.*?)</\"+tag1+\">\"\n",
        "    res1 = re.findall(reg_str1, test_str, re.DOTALL)\n",
        "\n",
        "    reg_str2 = \"<\"+tag2+\">(.*?)</\"+tag2+\">\"\n",
        "    res2 = re.findall(reg_str2, test_str, re.DOTALL)\n",
        "\n",
        "    #Combining contents of TITLE and TEXT\n",
        "    res = res1+res2\n",
        "    \n",
        "    s = res\n",
        "\n",
        "    # using list comprehension\n",
        "    listToStr = ' '.join([str(elem) for elem in s])\n",
        "\n",
        "    writeFile = open('/content/CSE508_Winter2023_Dataset/'+filenames[i], 'w')\n",
        "    L = listToStr\n",
        "\n",
        "    writeFile.write(L)\n",
        "    writeFile.close()\n",
        "\n",
        "    outfile.close()"
      ],
      "metadata": {
        "id": "pf-MZYgB-Am6"
      },
      "execution_count": null,
      "outputs": []
    },
    {
      "cell_type": "code",
      "source": [
        "stopwords_set = set(stopwords.words('english'))"
      ],
      "metadata": {
        "id": "wWmv52MUhREU"
      },
      "execution_count": null,
      "outputs": []
    },
    {
      "cell_type": "code",
      "source": [
        "newfiles=[]"
      ],
      "metadata": {
        "id": "eQr8lnp3-wy6"
      },
      "execution_count": null,
      "outputs": []
    },
    {
      "cell_type": "code",
      "source": [
        "#adding all docs in a list\n",
        "for i in range(len(filenames)):\n",
        "  fileind=open('/content/CSE508_Winter2023_Dataset/'+filenames[i], 'r')\n",
        "  filedata=fileind.read()\n",
        "  filedata=lowercase(filedata)\n",
        "  newfiles.append(filedata)\n",
        "print(len(newfiles))"
      ],
      "metadata": {
        "colab": {
          "base_uri": "https://localhost:8080/"
        },
        "id": "D04c1o0z-wvo",
        "outputId": "39493f15-0bc2-4010-bac8-f6ed0b01380c"
      },
      "execution_count": null,
      "outputs": [
        {
          "output_type": "stream",
          "name": "stdout",
          "text": [
            "1400\n"
          ]
        }
      ]
    },
    {
      "cell_type": "code",
      "source": [
        "#adding all docs after preprocessing in a list\n",
        "for i in range(len(newfiles)):\n",
        "  filedata=newfiles[i]\n",
        "  filedata=perform_word_tokenize(filedata)\n",
        "  tokens_sans_stopwords = remove_stopwords_from_tokens(filedata, stopwords_set)\n",
        "  tokens_sans_punctuation = remove_punctuation_from_tokens(tokens_sans_stopwords)\n",
        "  tokens_sans_blank_space = remove_blank_space_tokens(tokens_sans_punctuation)\n",
        "  newfiles[i] = tokens_sans_blank_space\n",
        "print(len(newfiles))"
      ],
      "metadata": {
        "colab": {
          "base_uri": "https://localhost:8080/"
        },
        "id": "1kFiLi5t-wrS",
        "outputId": "e172778d-ab51-45e5-aca1-7de0d24b621c"
      },
      "execution_count": null,
      "outputs": [
        {
          "output_type": "stream",
          "name": "stdout",
          "text": [
            "1400\n"
          ]
        }
      ]
    },
    {
      "cell_type": "code",
      "source": [
        "fileData = newfiles"
      ],
      "metadata": {
        "id": "d-sNeFpJ_Gb4"
      },
      "execution_count": null,
      "outputs": []
    },
    {
      "cell_type": "code",
      "source": [
        "# for i in range(len(newfiles)):\n",
        "#   print('File : '+str(i+1)+' ', end='')\n",
        "#   print(newfiles[i])"
      ],
      "metadata": {
        "id": "IKofU3La_GZ7"
      },
      "execution_count": null,
      "outputs": []
    },
    {
      "cell_type": "code",
      "source": [
        "def create_unigram_inverted_index(file_dictionary, stopwords_set):\n",
        "    # initialize unigram inverted index\n",
        "    unigram_inverted_index = {}\n",
        "    \n",
        "    # unigram inverted index\n",
        "    for doc_ID in range(len(file_dictionary)):\n",
        "        file = open(file_dictionary[doc_ID], 'r', encoding='utf-8', errors='ignore')\n",
        "        file_corpus = file.read()\n",
        "        file.close()\n",
        "        doc_tokens = preprocess(file_corpus, stopwords_set, 'doc')\n",
        "        for token in doc_tokens:\n",
        "            if token in unigram_inverted_index:\n",
        "                unigram_inverted_index[token][0] += 1               # stores doc_frequency\n",
        "                unigram_inverted_index[token][1].append(doc_ID)     # appending docs in which that term occurs\n",
        "            else:\n",
        "                unigram_inverted_index[token] = []\n",
        "                unigram_inverted_index[token].append(1)\n",
        "                unigram_inverted_index[token].append([doc_ID])      # initializing if this token appears for first time\n",
        "    \n",
        "    # Saving unigram inverted index using pickle module  \n",
        "    uii_file = open('unigram_inverted_index_pickle_file', 'wb')\n",
        "    pickle.dump(unigram_inverted_index, uii_file)\n",
        "    uii_file.close()\n",
        "\n",
        "    return unigram_inverted_index\n",
        "\n",
        "stopwords_set = set(stopwords.words('english')) #getting all stopwords\n",
        "\n",
        "list_of_files = getListOfFiles('/content/CSE508_Winter2023_Dataset/')\n",
        "uni = create_unigram_inverted_index(list_of_files,stopwords_set)"
      ],
      "metadata": {
        "id": "lefneA5f-wi0"
      },
      "execution_count": null,
      "outputs": []
    },
    {
      "cell_type": "code",
      "source": [
        "uii_file = open('unigram_inverted_index_pickle_file', 'rb') #loading pickle model\n",
        "unigram_inverted_index = pickle.load(uii_file)\n",
        "uii_file.close()"
      ],
      "metadata": {
        "id": "Tu5bfmMV-AlM"
      },
      "execution_count": null,
      "outputs": []
    },
    {
      "cell_type": "code",
      "source": [
        "print(len(unigram_inverted_index))"
      ],
      "metadata": {
        "colab": {
          "base_uri": "https://localhost:8080/"
        },
        "id": "t2WmZdI-9D-4",
        "outputId": "b37477f9-9a69-4c5a-acba-62f9ba014e1e"
      },
      "execution_count": null,
      "outputs": [
        {
          "output_type": "stream",
          "name": "stdout",
          "text": [
            "8996\n"
          ]
        }
      ]
    },
    {
      "cell_type": "markdown",
      "source": [
        "# (QUESTION 3) PHRASE QUERIES"
      ],
      "metadata": {
        "id": "LnRDHrl56kNP"
      }
    },
    {
      "cell_type": "markdown",
      "source": [
        "### (i) Bigram inverted index [30 Marks]\n",
        "1. Create a bigram inverted index (from scratch; No library allowed) of the dataset obtained\n",
        "from Q1.\n",
        "2. Use Python’s pickle module to save and load the bigram inverted index."
      ],
      "metadata": {
        "id": "9ER5fLpu6xVv"
      }
    },
    {
      "cell_type": "code",
      "source": [
        "newlist=[]\n",
        "newlist=newfiles\n",
        "\n",
        "for i in range(len(newfiles)):\n",
        "   for j in range(len(newfiles[i])-1):\n",
        "       temp1=newfiles[i][j]\n",
        "       temp2=newfiles[i][j+1]\n",
        "       temp=temp1+' '+temp2\n",
        "       newlist[i][j]=temp\n",
        "   newlist[i].pop()\n",
        "\n",
        "bigram_inverted_index = {}\n",
        "for i in range(len(newlist)):\n",
        "    doc_tokens = newlist[i]\n",
        "    for token in doc_tokens:\n",
        "        if token in bigram_inverted_index:\n",
        "            bigram_inverted_index[token][0] += 1   # stores doc_frequency\n",
        "            if( i not in bigram_inverted_index[token][1]):\n",
        "              bigram_inverted_index[token][1].append(i)    # appending docs in which that term occurs\n",
        "              \n",
        "        else:\n",
        "            bigram_inverted_index[token] = []\n",
        "            bigram_inverted_index[token].append(1)\n",
        "            bigram_inverted_index[token].append([i])    # initializing if this token appears for first time'\n",
        "\n",
        "pi_file = open('bigram_inverted_index_pickle_file', 'wb') #saving the model\n",
        "pickle.dump(bigram_inverted_index, pi_file)\n",
        "pi_file.close()"
      ],
      "metadata": {
        "id": "dhfiCeIhHHDI"
      },
      "execution_count": null,
      "outputs": []
    },
    {
      "cell_type": "code",
      "source": [
        "bigram_file = open('bigram_inverted_index_pickle_file', 'rb')\n",
        "bigram_inverted_index = pickle.load(bigram_file)\n",
        "bigram_file.close()"
      ],
      "metadata": {
        "id": "L3txIWWQ6duk"
      },
      "execution_count": null,
      "outputs": []
    },
    {
      "cell_type": "code",
      "source": [
        "len(bigram_inverted_index)"
      ],
      "metadata": {
        "colab": {
          "base_uri": "https://localhost:8080/"
        },
        "id": "0RazGMdMWqyL",
        "outputId": "9e0b9f04-6e04-43a5-cd1d-f8951dfdc173"
      },
      "execution_count": null,
      "outputs": [
        {
          "output_type": "execute_result",
          "data": {
            "text/plain": [
              "85209"
            ]
          },
          "metadata": {},
          "execution_count": 25
        }
      ]
    },
    {
      "cell_type": "code",
      "source": [
        "uii_file = open('unigram_inverted_index_pickle_file', 'rb')\n",
        "unigram_inverted_index = pickle.load(uii_file)\n",
        "uii_file.close()"
      ],
      "metadata": {
        "id": "ALdQx6HI6dv1"
      },
      "execution_count": null,
      "outputs": []
    },
    {
      "cell_type": "code",
      "source": [
        "  # create set of stop words for preprocessing\n",
        "stopwords_set = set(stopwords.words('english'))\n",
        "\n",
        "  # Get List of Files in Dataset\n",
        "list_of_files = getListOfFiles('/content/CSE508_Winter2023_Dataset/')\n",
        "\n",
        "  # create dictionary of file with docID (integer) as key and full_path of file as value\n",
        "file_dictionary = create_file_dictionary(list_of_files)"
      ],
      "metadata": {
        "id": "2XypOr5wXRw5"
      },
      "execution_count": null,
      "outputs": []
    },
    {
      "cell_type": "code",
      "source": [
        "def search_bigram(query,q):\n",
        "          res = len(query.split())\n",
        "          if(res>5):\n",
        "            print(\"bigram invalid query \"+str(q)+\" -> Length of input sequence has to be <=5\\n\")\n",
        "            return\n",
        "                     \n",
        "          sanitized_query = preprocess(query, stopwords_set, 'query')\n",
        "\n",
        "          flag = 0\n",
        "          if(len(sanitized_query) == 0):\n",
        "            print(\"bigram invalid query \"+str(q)+\" -> you had entered stopwords in your query\\n\")\n",
        "            return\n",
        "\n",
        "          if(len(sanitized_query) == 1):\n",
        "            print(\"bigram invalid query \"+str(q)+\" -> length of your query is 1, for bigram creation length of input query has to be atleast 2\\n\")\n",
        "            return\n",
        "\n",
        "          flag = 0\n",
        "          for token in sanitized_query:\n",
        "            if(token not in unigram_inverted_index):\n",
        "              print(\"bigram invalid query \"+str(q)+\" -> given token \"+token+\" is not present in our unigram_inverted_index hence no corresponding bigram_inverted_index entry will be found.\\n\")\n",
        "              return \n",
        "\n",
        "          result = []\n",
        "          for i in range(len(sanitized_query)-1):\n",
        "            biword = str(sanitized_query[i] + \" \" + sanitized_query[i+1])\n",
        "            if(biword not in bigram_inverted_index):\n",
        "              print(\"bigram invalid query \"+str(q)+\" -> biword \"+biword+\" is not present in our bigram_inverted_index.\\n\")\n",
        "              break\n",
        "            if i==0:\n",
        "              result = bigram_inverted_index[biword][1]\n",
        "            else:\n",
        "              result = intersection(result, bigram_inverted_index[biword][1])\n",
        "          \n",
        "          if(len(result)  == 0):\n",
        "            print(\"No document found in bigram_inverted_index.\\n\")\n",
        "            return\n",
        "            \n",
        "          print('Number of documents retrieved for query {} using bigram inverted index : {}'.format(q,len(result)))\n",
        "          print('Name of documents retrieved for query {} using bigram inverted index : '.format(q), end='')\n",
        "\n",
        "          output = []\n",
        "          for res_doc in result:\n",
        "            output.append(list_of_files[res_doc])\n",
        "          print(output)"
      ],
      "metadata": {
        "id": "QIAsccGg7toN"
      },
      "execution_count": null,
      "outputs": []
    },
    {
      "cell_type": "markdown",
      "source": [
        "### (ii) Positional index [35 Marks]\n",
        "1. Create a positional index (from scratch; No library allowed) of the dataset obtained from\n",
        "Q1.\n",
        "2. Use Python’s pickle module to save and load the positional index."
      ],
      "metadata": {
        "id": "139ZAZVL7V0S"
      }
    },
    {
      "cell_type": "code",
      "source": [
        "newfiles=[]"
      ],
      "metadata": {
        "id": "X2JPwM87kpR9"
      },
      "execution_count": null,
      "outputs": []
    },
    {
      "cell_type": "code",
      "source": [
        "for i in range(len(filenames)):\n",
        "  fileind=open('/content/CSE508_Winter2023_Dataset/'+filenames[i], 'r')\n",
        "  filedata=fileind.read()\n",
        "  filedata=lowercase(filedata)\n",
        "  newfiles.append(filedata)\n",
        "print(len(newfiles))"
      ],
      "metadata": {
        "colab": {
          "base_uri": "https://localhost:8080/"
        },
        "outputId": "a093060c-de70-4971-a9c8-11d6c898e8eb",
        "id": "rRMZo0NlkpR9"
      },
      "execution_count": null,
      "outputs": [
        {
          "output_type": "stream",
          "name": "stdout",
          "text": [
            "1400\n"
          ]
        }
      ]
    },
    {
      "cell_type": "code",
      "source": [
        "for i in range(len(newfiles)):\n",
        "  filedata=newfiles[i]\n",
        "  filedata=perform_word_tokenize(filedata)\n",
        "  tokens_sans_stopwords = remove_stopwords_from_tokens(filedata, stopwords_set)\n",
        "  tokens_sans_punctuation = remove_punctuation_from_tokens(tokens_sans_stopwords)\n",
        "  tokens_sans_blank_space = remove_blank_space_tokens(tokens_sans_punctuation)\n",
        "  newfiles[i] = tokens_sans_blank_space\n",
        "print(len(newfiles))"
      ],
      "metadata": {
        "colab": {
          "base_uri": "https://localhost:8080/"
        },
        "outputId": "4754b76d-4371-423c-fb2e-b528185a0d8b",
        "id": "ytK0su76kpR9"
      },
      "execution_count": null,
      "outputs": [
        {
          "output_type": "stream",
          "name": "stdout",
          "text": [
            "1400\n"
          ]
        }
      ]
    },
    {
      "cell_type": "code",
      "source": [
        "len(newfiles)"
      ],
      "metadata": {
        "colab": {
          "base_uri": "https://localhost:8080/"
        },
        "id": "gSKSX-gF6dzi",
        "outputId": "0217fb18-c475-4b69-de1f-ff640b8aa5ab"
      },
      "execution_count": null,
      "outputs": [
        {
          "output_type": "execute_result",
          "data": {
            "text/plain": [
              "1400"
            ]
          },
          "metadata": {},
          "execution_count": 32
        }
      ]
    },
    {
      "cell_type": "code",
      "source": [
        "import os\n",
        "import pickle\n",
        "\n",
        "def create_positional_index(newfiles):\n",
        "    positional_index = {}\n",
        "    for i in range(len(newfiles)):\n",
        "        tokens = newfiles[i]\n",
        "        for j, word in enumerate(tokens):\n",
        "            if(word in positional_index):\n",
        "                if(i in positional_index[word]):\n",
        "                    positional_index[word][i].append(j)\n",
        "                else:\n",
        "                    positional_index[word][i] = [j]\n",
        "            else:\n",
        "                positional_index[word] = {i:[j]}\n",
        "    \n",
        "    pi_file = open('positional_index_pickle_file', 'wb')\n",
        "    pickle.dump(positional_index, pi_file)\n",
        "    pi_file.close()\n",
        "\n",
        "    return positional_index"
      ],
      "metadata": {
        "id": "WZ1vx1aG6d1C"
      },
      "execution_count": null,
      "outputs": []
    },
    {
      "cell_type": "code",
      "source": [
        "positional_index = create_positional_index(newfiles)\n",
        "pi_file = open('positional_index_pickle_file', 'rb')\n",
        "positional_index = pickle.load(pi_file)\n",
        "pi_file.close()"
      ],
      "metadata": {
        "id": "EZdzzo1O6d4l"
      },
      "execution_count": null,
      "outputs": []
    },
    {
      "cell_type": "code",
      "source": [
        "def intersection(lst1, lst2): \n",
        "    # Use of hybrid method\n",
        "    temp = set(lst2)\n",
        "    lst3 = [value for value in lst1 if value in temp]\n",
        "    return lst3"
      ],
      "metadata": {
        "id": "Uf_Wp8vi6d6D"
      },
      "execution_count": null,
      "outputs": []
    },
    {
      "cell_type": "code",
      "source": [
        "def difference_within_k(pos1,pos2,k):\n",
        "  for i in pos1:\n",
        "    for j in pos2:\n",
        "      if( i<j and abs(j - i) == k):\n",
        "        return 1;\n",
        "  return 0;"
      ],
      "metadata": {
        "id": "16s4Z84f6d9f"
      },
      "execution_count": null,
      "outputs": []
    },
    {
      "cell_type": "code",
      "source": [
        "def search_positional(query,q):\n",
        "          res = len(query.split())\n",
        "          if(res>5):\n",
        "              print(\"positional invalid query \"+str(q)+\" -> Length of input sequence has to be <=5\\n\")\n",
        "              return\n",
        "          \n",
        "          afterPreprocessQuery = preprocess(query, stopwords_set, 'query')\n",
        "         \n",
        "          if(len(afterPreprocessQuery) == 0):\n",
        "            print(\"positional invalid query \"+str(q)+\" -> you had entered stopwords in your query\\n\")\n",
        "            return\n",
        "        \n",
        "          pair_wise_list = []\n",
        "          pair = ()\n",
        "          words = afterPreprocessQuery\n",
        "          \n",
        "          for token in words:\n",
        "            if(token not in unigram_inverted_index):\n",
        "              print(\"positional invalid query \"+str(q)+\" -> given token \"+token+\" is not present in our positional index\\n\")\n",
        "              return\n",
        "          \n",
        "          if(len(words) == 1):\n",
        "              documents = unigram_inverted_index[words[0]][1]\n",
        "              print('Number of documents retrieved for query {} using positional inverted index : {}'.format(q,len(documents)))\n",
        "              print('Name of documents retrieved for query {} using positional inverted index : '.format(q), end='')\n",
        "\n",
        "              out = []\n",
        "              for res_doc in documents:\n",
        "                out.append(list_of_files[res_doc])\n",
        "              print(out)\n",
        "              return\n",
        "              \n",
        "        \n",
        "          first_token =  words[0]\n",
        "          result = unigram_inverted_index[first_token][1]\n",
        "          for i in range(1,len(words)):\n",
        "            token = unigram_inverted_index[words[i]][1]\n",
        "            result = intersection(result,token)\n",
        "\n",
        "          if(len(result) == 0):\n",
        "              print(\"No document found in our positional index.\\n\")\n",
        "              return        \n",
        "        \n",
        "          for i, word in enumerate(words[:-1]):\n",
        "            pair = (word, words[i+1])\n",
        "            pair_wise_list.append(pair)\n",
        "          temp = (words[0],words[-1])\n",
        "          pair_wise_list.append(temp)\n",
        "\n",
        "        \n",
        "          result_documents = []\n",
        "          count = 0\n",
        "          for doc_id in result:\n",
        "            for pair in pair_wise_list:\n",
        "              if(pair == pair_wise_list[-1]):\n",
        "                continue\n",
        "              position_tk1 = positional_index[pair[0]][doc_id]\n",
        "              position_tk2 = positional_index[pair[1]][doc_id]\n",
        "\n",
        "              if(difference_within_k(position_tk1,position_tk2,1)):\n",
        "                count = count + 1\n",
        "            \n",
        "            k = len(words) - 1\n",
        "            pair = pair_wise_list[-1]\n",
        " \n",
        "            if(difference_within_k(positional_index[pair[0]][doc_id],positional_index[pair[1]][doc_id],k)):\n",
        "              count = count + 1\n",
        "            if(count == len(pair_wise_list)-1 and len(words) == 2):\n",
        "              result_documents.append(doc_id)\n",
        "            if(count == len(pair_wise_list) and len(words)> 2):\n",
        "              result_documents.append(doc_id)\n",
        "            count = 0\n",
        "\n",
        "          print('Number of documents retrieved for query {} using positional inverted index : {}'.format(q,len(result_documents)))\n",
        "          print('Name of documents retrieved for query {} using positional inverted index : '.format(q), end='')\n",
        "\n",
        "          output = []\n",
        "          for res_doc in result_documents:\n",
        "            output.append(list_of_files[res_doc])\n",
        "          print(output)\n"
      ],
      "metadata": {
        "id": "oirSkcpw6d_B"
      },
      "execution_count": null,
      "outputs": []
    },
    {
      "cell_type": "markdown",
      "source": [
        "### (iii) Compare and comment on your results using (i) and (ii). [5 Marks]\n",
        "1. Input Format:<br>\n",
        "a. The first line contains N denoting the number of queries to execute<br>\n",
        "b. The next N lines contain phrase queries<br>\n",
        "2. Output Format:<br>\n",
        "a. 4N lines consisting of the results in the following format:<br>\n",
        "&ensp;i. Number of documents retrieved for query X using bigram inverted index<br>\n",
        "&ensp;ii. Names of documents retrieved for query X using bigram inverted index<br>\n",
        "&ensp;iii. Number of documents retrieved for query X using positional index<br>\n",
        "&ensp;iv. Names of documents retrieved for query X using positional index<br>\n",
        "3. Perform preprocessing steps (from Q1) on the input sequence as well. Assume the length of the input sequence to be <=5."
      ],
      "metadata": {
        "id": "qnjZb1Kl8Azy"
      }
    },
    {
      "cell_type": "code",
      "source": [
        "def search_query():\n",
        "    # create set of stop words for preprocessing\n",
        "    stopwords_set = set(stopwords.words('english'))\n",
        "    \n",
        "    N = int(input(\"Enter number of phrase queries : \")) #input your query\n",
        "    inputs = []\n",
        "    for q in range(N):\n",
        "        input_query = input(\"Enter query \"+str(q+1)+\" : \")\n",
        "        inputs.append(input_query)\n",
        "\n",
        "    print('\\n')\n",
        "\n",
        "    count = 1\n",
        "    for query in inputs:\n",
        "        search_bigram(query,count)\n",
        "        # print('\\n')\n",
        "        search_positional(query,count)\n",
        "        count = count +  1\n",
        "        print('\\n')"
      ],
      "metadata": {
        "id": "mx_1mnhO6eCa"
      },
      "execution_count": null,
      "outputs": []
    },
    {
      "cell_type": "code",
      "source": [
        "a = search_query()"
      ],
      "metadata": {
        "colab": {
          "base_uri": "https://localhost:8080/"
        },
        "id": "7zo-AbAQ6eEb",
        "outputId": "0e1d8f39-2e79-4c16-c24c-3f8b0bb22afd"
      },
      "execution_count": null,
      "outputs": [
        {
          "output_type": "stream",
          "name": "stdout",
          "text": [
            "Enter number of phrase queries : 1\n",
            "Enter query 1 : experimental\n",
            "\n",
            "\n",
            "bigram invalid query -> length of your query is 1 for bigram creation length of input query has to be atleast 2\n",
            "Number of documents retrieved for query 1 using positional inverted index : 316\n",
            "Name of documents retrieved for query 1 using positional inverted index : ['/content/CSE508_Winter2023_Dataset/cranfield0001', '/content/CSE508_Winter2023_Dataset/cranfield0011', '/content/CSE508_Winter2023_Dataset/cranfield0012', '/content/CSE508_Winter2023_Dataset/cranfield0017', '/content/CSE508_Winter2023_Dataset/cranfield0019', '/content/CSE508_Winter2023_Dataset/cranfield0025', '/content/CSE508_Winter2023_Dataset/cranfield0029', '/content/CSE508_Winter2023_Dataset/cranfield0030', '/content/CSE508_Winter2023_Dataset/cranfield0035', '/content/CSE508_Winter2023_Dataset/cranfield0041', '/content/CSE508_Winter2023_Dataset/cranfield0047', '/content/CSE508_Winter2023_Dataset/cranfield0052', '/content/CSE508_Winter2023_Dataset/cranfield0053', '/content/CSE508_Winter2023_Dataset/cranfield0058', '/content/CSE508_Winter2023_Dataset/cranfield0069', '/content/CSE508_Winter2023_Dataset/cranfield0070', '/content/CSE508_Winter2023_Dataset/cranfield0074', '/content/CSE508_Winter2023_Dataset/cranfield0078', '/content/CSE508_Winter2023_Dataset/cranfield0084', '/content/CSE508_Winter2023_Dataset/cranfield0099', '/content/CSE508_Winter2023_Dataset/cranfield0101', '/content/CSE508_Winter2023_Dataset/cranfield0103', '/content/CSE508_Winter2023_Dataset/cranfield0112', '/content/CSE508_Winter2023_Dataset/cranfield0115', '/content/CSE508_Winter2023_Dataset/cranfield0121', '/content/CSE508_Winter2023_Dataset/cranfield0123', '/content/CSE508_Winter2023_Dataset/cranfield0137', '/content/CSE508_Winter2023_Dataset/cranfield0140', '/content/CSE508_Winter2023_Dataset/cranfield0142', '/content/CSE508_Winter2023_Dataset/cranfield0154', '/content/CSE508_Winter2023_Dataset/cranfield0156', '/content/CSE508_Winter2023_Dataset/cranfield0168', '/content/CSE508_Winter2023_Dataset/cranfield0170', '/content/CSE508_Winter2023_Dataset/cranfield0171', '/content/CSE508_Winter2023_Dataset/cranfield0173', '/content/CSE508_Winter2023_Dataset/cranfield0176', '/content/CSE508_Winter2023_Dataset/cranfield0179', '/content/CSE508_Winter2023_Dataset/cranfield0183', '/content/CSE508_Winter2023_Dataset/cranfield0184', '/content/CSE508_Winter2023_Dataset/cranfield0186', '/content/CSE508_Winter2023_Dataset/cranfield0187', '/content/CSE508_Winter2023_Dataset/cranfield0188', '/content/CSE508_Winter2023_Dataset/cranfield0189', '/content/CSE508_Winter2023_Dataset/cranfield0191', '/content/CSE508_Winter2023_Dataset/cranfield0195', '/content/CSE508_Winter2023_Dataset/cranfield0197', '/content/CSE508_Winter2023_Dataset/cranfield0202', '/content/CSE508_Winter2023_Dataset/cranfield0203', '/content/CSE508_Winter2023_Dataset/cranfield0206', '/content/CSE508_Winter2023_Dataset/cranfield0207', '/content/CSE508_Winter2023_Dataset/cranfield0212', '/content/CSE508_Winter2023_Dataset/cranfield0216', '/content/CSE508_Winter2023_Dataset/cranfield0220', '/content/CSE508_Winter2023_Dataset/cranfield0222', '/content/CSE508_Winter2023_Dataset/cranfield0225', '/content/CSE508_Winter2023_Dataset/cranfield0227', '/content/CSE508_Winter2023_Dataset/cranfield0230', '/content/CSE508_Winter2023_Dataset/cranfield0234', '/content/CSE508_Winter2023_Dataset/cranfield0245', '/content/CSE508_Winter2023_Dataset/cranfield0251', '/content/CSE508_Winter2023_Dataset/cranfield0256', '/content/CSE508_Winter2023_Dataset/cranfield0257', '/content/CSE508_Winter2023_Dataset/cranfield0262', '/content/CSE508_Winter2023_Dataset/cranfield0271', '/content/CSE508_Winter2023_Dataset/cranfield0273', '/content/CSE508_Winter2023_Dataset/cranfield0277', '/content/CSE508_Winter2023_Dataset/cranfield0282', '/content/CSE508_Winter2023_Dataset/cranfield0283', '/content/CSE508_Winter2023_Dataset/cranfield0286', '/content/CSE508_Winter2023_Dataset/cranfield0294', '/content/CSE508_Winter2023_Dataset/cranfield0295', '/content/CSE508_Winter2023_Dataset/cranfield0304', '/content/CSE508_Winter2023_Dataset/cranfield0307', '/content/CSE508_Winter2023_Dataset/cranfield0329', '/content/CSE508_Winter2023_Dataset/cranfield0330', '/content/CSE508_Winter2023_Dataset/cranfield0334', '/content/CSE508_Winter2023_Dataset/cranfield0338', '/content/CSE508_Winter2023_Dataset/cranfield0339', '/content/CSE508_Winter2023_Dataset/cranfield0344', '/content/CSE508_Winter2023_Dataset/cranfield0345', '/content/CSE508_Winter2023_Dataset/cranfield0346', '/content/CSE508_Winter2023_Dataset/cranfield0347', '/content/CSE508_Winter2023_Dataset/cranfield0354', '/content/CSE508_Winter2023_Dataset/cranfield0360', '/content/CSE508_Winter2023_Dataset/cranfield0369', '/content/CSE508_Winter2023_Dataset/cranfield0370', '/content/CSE508_Winter2023_Dataset/cranfield0372', '/content/CSE508_Winter2023_Dataset/cranfield0377', '/content/CSE508_Winter2023_Dataset/cranfield0397', '/content/CSE508_Winter2023_Dataset/cranfield0409', '/content/CSE508_Winter2023_Dataset/cranfield0411', '/content/CSE508_Winter2023_Dataset/cranfield0413', '/content/CSE508_Winter2023_Dataset/cranfield0418', '/content/CSE508_Winter2023_Dataset/cranfield0420', '/content/CSE508_Winter2023_Dataset/cranfield0421', '/content/CSE508_Winter2023_Dataset/cranfield0423', '/content/CSE508_Winter2023_Dataset/cranfield0427', '/content/CSE508_Winter2023_Dataset/cranfield0435', '/content/CSE508_Winter2023_Dataset/cranfield0439', '/content/CSE508_Winter2023_Dataset/cranfield0441', '/content/CSE508_Winter2023_Dataset/cranfield0442', '/content/CSE508_Winter2023_Dataset/cranfield0453', '/content/CSE508_Winter2023_Dataset/cranfield0455', '/content/CSE508_Winter2023_Dataset/cranfield0462', '/content/CSE508_Winter2023_Dataset/cranfield0464', '/content/CSE508_Winter2023_Dataset/cranfield0467', '/content/CSE508_Winter2023_Dataset/cranfield0484', '/content/CSE508_Winter2023_Dataset/cranfield0494', '/content/CSE508_Winter2023_Dataset/cranfield0496', '/content/CSE508_Winter2023_Dataset/cranfield0497', '/content/CSE508_Winter2023_Dataset/cranfield0498', '/content/CSE508_Winter2023_Dataset/cranfield0501', '/content/CSE508_Winter2023_Dataset/cranfield0503', '/content/CSE508_Winter2023_Dataset/cranfield0504', '/content/CSE508_Winter2023_Dataset/cranfield0505', '/content/CSE508_Winter2023_Dataset/cranfield0511', '/content/CSE508_Winter2023_Dataset/cranfield0518', '/content/CSE508_Winter2023_Dataset/cranfield0520', '/content/CSE508_Winter2023_Dataset/cranfield0522', '/content/CSE508_Winter2023_Dataset/cranfield0536', '/content/CSE508_Winter2023_Dataset/cranfield0540', '/content/CSE508_Winter2023_Dataset/cranfield0544', '/content/CSE508_Winter2023_Dataset/cranfield0549', '/content/CSE508_Winter2023_Dataset/cranfield0552', '/content/CSE508_Winter2023_Dataset/cranfield0553', '/content/CSE508_Winter2023_Dataset/cranfield0558', '/content/CSE508_Winter2023_Dataset/cranfield0563', '/content/CSE508_Winter2023_Dataset/cranfield0567', '/content/CSE508_Winter2023_Dataset/cranfield0569', '/content/CSE508_Winter2023_Dataset/cranfield0572', '/content/CSE508_Winter2023_Dataset/cranfield0576', '/content/CSE508_Winter2023_Dataset/cranfield0588', '/content/CSE508_Winter2023_Dataset/cranfield0595', '/content/CSE508_Winter2023_Dataset/cranfield0600', '/content/CSE508_Winter2023_Dataset/cranfield0606', '/content/CSE508_Winter2023_Dataset/cranfield0610', '/content/CSE508_Winter2023_Dataset/cranfield0632', '/content/CSE508_Winter2023_Dataset/cranfield0634', '/content/CSE508_Winter2023_Dataset/cranfield0635', '/content/CSE508_Winter2023_Dataset/cranfield0636', '/content/CSE508_Winter2023_Dataset/cranfield0644', '/content/CSE508_Winter2023_Dataset/cranfield0645', '/content/CSE508_Winter2023_Dataset/cranfield0649', '/content/CSE508_Winter2023_Dataset/cranfield0662', '/content/CSE508_Winter2023_Dataset/cranfield0663', '/content/CSE508_Winter2023_Dataset/cranfield0666', '/content/CSE508_Winter2023_Dataset/cranfield0670', '/content/CSE508_Winter2023_Dataset/cranfield0675', '/content/CSE508_Winter2023_Dataset/cranfield0678', '/content/CSE508_Winter2023_Dataset/cranfield0679', '/content/CSE508_Winter2023_Dataset/cranfield0685', '/content/CSE508_Winter2023_Dataset/cranfield0688', '/content/CSE508_Winter2023_Dataset/cranfield0689', '/content/CSE508_Winter2023_Dataset/cranfield0694', '/content/CSE508_Winter2023_Dataset/cranfield0704', '/content/CSE508_Winter2023_Dataset/cranfield0712', '/content/CSE508_Winter2023_Dataset/cranfield0713', '/content/CSE508_Winter2023_Dataset/cranfield0717', '/content/CSE508_Winter2023_Dataset/cranfield0720', '/content/CSE508_Winter2023_Dataset/cranfield0728', '/content/CSE508_Winter2023_Dataset/cranfield0729', '/content/CSE508_Winter2023_Dataset/cranfield0739', '/content/CSE508_Winter2023_Dataset/cranfield0740', '/content/CSE508_Winter2023_Dataset/cranfield0743', '/content/CSE508_Winter2023_Dataset/cranfield0753', '/content/CSE508_Winter2023_Dataset/cranfield0760', '/content/CSE508_Winter2023_Dataset/cranfield0766', '/content/CSE508_Winter2023_Dataset/cranfield0767', '/content/CSE508_Winter2023_Dataset/cranfield0772', '/content/CSE508_Winter2023_Dataset/cranfield0781', '/content/CSE508_Winter2023_Dataset/cranfield0790', '/content/CSE508_Winter2023_Dataset/cranfield0801', '/content/CSE508_Winter2023_Dataset/cranfield0802', '/content/CSE508_Winter2023_Dataset/cranfield0806', '/content/CSE508_Winter2023_Dataset/cranfield0816', '/content/CSE508_Winter2023_Dataset/cranfield0820', '/content/CSE508_Winter2023_Dataset/cranfield0823', '/content/CSE508_Winter2023_Dataset/cranfield0825', '/content/CSE508_Winter2023_Dataset/cranfield0827', '/content/CSE508_Winter2023_Dataset/cranfield0830', '/content/CSE508_Winter2023_Dataset/cranfield0836', '/content/CSE508_Winter2023_Dataset/cranfield0844', '/content/CSE508_Winter2023_Dataset/cranfield0845', '/content/CSE508_Winter2023_Dataset/cranfield0846', '/content/CSE508_Winter2023_Dataset/cranfield0847', '/content/CSE508_Winter2023_Dataset/cranfield0856', '/content/CSE508_Winter2023_Dataset/cranfield0857', '/content/CSE508_Winter2023_Dataset/cranfield0858', '/content/CSE508_Winter2023_Dataset/cranfield0863', '/content/CSE508_Winter2023_Dataset/cranfield0866', '/content/CSE508_Winter2023_Dataset/cranfield0867', '/content/CSE508_Winter2023_Dataset/cranfield0869', '/content/CSE508_Winter2023_Dataset/cranfield0878', '/content/CSE508_Winter2023_Dataset/cranfield0881', '/content/CSE508_Winter2023_Dataset/cranfield0887', '/content/CSE508_Winter2023_Dataset/cranfield0891', '/content/CSE508_Winter2023_Dataset/cranfield0907', '/content/CSE508_Winter2023_Dataset/cranfield0911', '/content/CSE508_Winter2023_Dataset/cranfield0912', '/content/CSE508_Winter2023_Dataset/cranfield0923', '/content/CSE508_Winter2023_Dataset/cranfield0924', '/content/CSE508_Winter2023_Dataset/cranfield0927', '/content/CSE508_Winter2023_Dataset/cranfield0928', '/content/CSE508_Winter2023_Dataset/cranfield0932', '/content/CSE508_Winter2023_Dataset/cranfield0935', '/content/CSE508_Winter2023_Dataset/cranfield0946', '/content/CSE508_Winter2023_Dataset/cranfield0950', '/content/CSE508_Winter2023_Dataset/cranfield0951', '/content/CSE508_Winter2023_Dataset/cranfield0954', '/content/CSE508_Winter2023_Dataset/cranfield0955', '/content/CSE508_Winter2023_Dataset/cranfield0959', '/content/CSE508_Winter2023_Dataset/cranfield0961', '/content/CSE508_Winter2023_Dataset/cranfield0964', '/content/CSE508_Winter2023_Dataset/cranfield0965', '/content/CSE508_Winter2023_Dataset/cranfield0974', '/content/CSE508_Winter2023_Dataset/cranfield0984', '/content/CSE508_Winter2023_Dataset/cranfield0986', '/content/CSE508_Winter2023_Dataset/cranfield0996', '/content/CSE508_Winter2023_Dataset/cranfield0997', '/content/CSE508_Winter2023_Dataset/cranfield0999', '/content/CSE508_Winter2023_Dataset/cranfield1006', '/content/CSE508_Winter2023_Dataset/cranfield1008', '/content/CSE508_Winter2023_Dataset/cranfield1016', '/content/CSE508_Winter2023_Dataset/cranfield1019', '/content/CSE508_Winter2023_Dataset/cranfield1028', '/content/CSE508_Winter2023_Dataset/cranfield1039', '/content/CSE508_Winter2023_Dataset/cranfield1040', '/content/CSE508_Winter2023_Dataset/cranfield1045', '/content/CSE508_Winter2023_Dataset/cranfield1046', '/content/CSE508_Winter2023_Dataset/cranfield1049', '/content/CSE508_Winter2023_Dataset/cranfield1051', '/content/CSE508_Winter2023_Dataset/cranfield1062', '/content/CSE508_Winter2023_Dataset/cranfield1066', '/content/CSE508_Winter2023_Dataset/cranfield1069', '/content/CSE508_Winter2023_Dataset/cranfield1070', '/content/CSE508_Winter2023_Dataset/cranfield1074', '/content/CSE508_Winter2023_Dataset/cranfield1075', '/content/CSE508_Winter2023_Dataset/cranfield1076', '/content/CSE508_Winter2023_Dataset/cranfield1078', '/content/CSE508_Winter2023_Dataset/cranfield1080', '/content/CSE508_Winter2023_Dataset/cranfield1081', '/content/CSE508_Winter2023_Dataset/cranfield1082', '/content/CSE508_Winter2023_Dataset/cranfield1083', '/content/CSE508_Winter2023_Dataset/cranfield1092', '/content/CSE508_Winter2023_Dataset/cranfield1097', '/content/CSE508_Winter2023_Dataset/cranfield1098', '/content/CSE508_Winter2023_Dataset/cranfield1112', '/content/CSE508_Winter2023_Dataset/cranfield1118', '/content/CSE508_Winter2023_Dataset/cranfield1122', '/content/CSE508_Winter2023_Dataset/cranfield1125', '/content/CSE508_Winter2023_Dataset/cranfield1127', '/content/CSE508_Winter2023_Dataset/cranfield1145', '/content/CSE508_Winter2023_Dataset/cranfield1146', '/content/CSE508_Winter2023_Dataset/cranfield1151', '/content/CSE508_Winter2023_Dataset/cranfield1153', '/content/CSE508_Winter2023_Dataset/cranfield1155', '/content/CSE508_Winter2023_Dataset/cranfield1156', '/content/CSE508_Winter2023_Dataset/cranfield1158', '/content/CSE508_Winter2023_Dataset/cranfield1159', '/content/CSE508_Winter2023_Dataset/cranfield1160', '/content/CSE508_Winter2023_Dataset/cranfield1161', '/content/CSE508_Winter2023_Dataset/cranfield1167', '/content/CSE508_Winter2023_Dataset/cranfield1171', '/content/CSE508_Winter2023_Dataset/cranfield1177', '/content/CSE508_Winter2023_Dataset/cranfield1185', '/content/CSE508_Winter2023_Dataset/cranfield1186', '/content/CSE508_Winter2023_Dataset/cranfield1187', '/content/CSE508_Winter2023_Dataset/cranfield1192', '/content/CSE508_Winter2023_Dataset/cranfield1195', '/content/CSE508_Winter2023_Dataset/cranfield1196', '/content/CSE508_Winter2023_Dataset/cranfield1198', '/content/CSE508_Winter2023_Dataset/cranfield1199', '/content/CSE508_Winter2023_Dataset/cranfield1204', '/content/CSE508_Winter2023_Dataset/cranfield1205', '/content/CSE508_Winter2023_Dataset/cranfield1209', '/content/CSE508_Winter2023_Dataset/cranfield1212', '/content/CSE508_Winter2023_Dataset/cranfield1213', '/content/CSE508_Winter2023_Dataset/cranfield1214', '/content/CSE508_Winter2023_Dataset/cranfield1216', '/content/CSE508_Winter2023_Dataset/cranfield1218', '/content/CSE508_Winter2023_Dataset/cranfield1220', '/content/CSE508_Winter2023_Dataset/cranfield1222', '/content/CSE508_Winter2023_Dataset/cranfield1225', '/content/CSE508_Winter2023_Dataset/cranfield1227', '/content/CSE508_Winter2023_Dataset/cranfield1228', '/content/CSE508_Winter2023_Dataset/cranfield1230', '/content/CSE508_Winter2023_Dataset/cranfield1231', '/content/CSE508_Winter2023_Dataset/cranfield1234', '/content/CSE508_Winter2023_Dataset/cranfield1237', '/content/CSE508_Winter2023_Dataset/cranfield1261', '/content/CSE508_Winter2023_Dataset/cranfield1262', '/content/CSE508_Winter2023_Dataset/cranfield1263', '/content/CSE508_Winter2023_Dataset/cranfield1264', '/content/CSE508_Winter2023_Dataset/cranfield1268', '/content/CSE508_Winter2023_Dataset/cranfield1269', '/content/CSE508_Winter2023_Dataset/cranfield1277', '/content/CSE508_Winter2023_Dataset/cranfield1290', '/content/CSE508_Winter2023_Dataset/cranfield1298', '/content/CSE508_Winter2023_Dataset/cranfield1302', '/content/CSE508_Winter2023_Dataset/cranfield1310', '/content/CSE508_Winter2023_Dataset/cranfield1314', '/content/CSE508_Winter2023_Dataset/cranfield1337', '/content/CSE508_Winter2023_Dataset/cranfield1338', '/content/CSE508_Winter2023_Dataset/cranfield1339', '/content/CSE508_Winter2023_Dataset/cranfield1341', '/content/CSE508_Winter2023_Dataset/cranfield1352', '/content/CSE508_Winter2023_Dataset/cranfield1363', '/content/CSE508_Winter2023_Dataset/cranfield1364', '/content/CSE508_Winter2023_Dataset/cranfield1369', '/content/CSE508_Winter2023_Dataset/cranfield1372', '/content/CSE508_Winter2023_Dataset/cranfield1374', '/content/CSE508_Winter2023_Dataset/cranfield1384', '/content/CSE508_Winter2023_Dataset/cranfield1390', '/content/CSE508_Winter2023_Dataset/cranfield1392', '/content/CSE508_Winter2023_Dataset/cranfield1396', '/content/CSE508_Winter2023_Dataset/cranfield1397']\n",
            "Number of documents retrieved for query 1 using positional inverted index : 0\n",
            "Name of documents retrieved for query 1 using positional inverted index : []\n",
            "\n",
            "\n"
          ]
        }
      ]
    },
    {
      "cell_type": "code",
      "source": [
        "a = search_query()"
      ],
      "metadata": {
        "colab": {
          "base_uri": "https://localhost:8080/"
        },
        "id": "iaRO-obOUGI7",
        "outputId": "9a819c54-de8f-48d7-d902-36dc7c3cb663"
      },
      "execution_count": null,
      "outputs": [
        {
          "output_type": "stream",
          "name": "stdout",
          "text": [
            "Enter number of phrase queries : 1\n",
            "Enter query 1 : downstream locations along the jet\n",
            "\n",
            "\n",
            "Number of documents retrieved for query 1 using bigram inverted index : 1\n",
            "Name of documents retrieved for query 1 using bigram inverted index : ['/content/CSE508_Winter2023_Dataset/cranfield0721']\n",
            "Number of documents retrieved for query 1 using positional inverted index : 0\n",
            "Name of documents retrieved for query 1 using positional inverted index : []\n",
            "\n",
            "\n"
          ]
        }
      ]
    },
    {
      "cell_type": "code",
      "source": [
        "a = search_query()"
      ],
      "metadata": {
        "colab": {
          "base_uri": "https://localhost:8080/"
        },
        "id": "K__omo9gUrZA",
        "outputId": "826412a2-368b-420d-e834-441af71ab4ed"
      },
      "execution_count": null,
      "outputs": [
        {
          "output_type": "stream",
          "name": "stdout",
          "text": [
            "Enter number of phrase queries : 2\n",
            "Enter query 1 : incompressible friction coefficients\n",
            "Enter query 2 : friction coefficient\n",
            "\n",
            "\n",
            "Number of documents retrieved for query 1 using bigram inverted index : 1\n",
            "Name of documents retrieved for query 1 using bigram inverted index : ['/content/CSE508_Winter2023_Dataset/cranfield0016']\n",
            "Number of documents retrieved for query 1 using positional inverted index : 1\n",
            "Name of documents retrieved for query 1 using positional inverted index : ['/content/CSE508_Winter2023_Dataset/cranfield0016']\n",
            "\n",
            "\n",
            "Number of documents retrieved for query 2 using bigram inverted index : 5\n",
            "Name of documents retrieved for query 2 using bigram inverted index : ['/content/CSE508_Winter2023_Dataset/cranfield0140', '/content/CSE508_Winter2023_Dataset/cranfield0254', '/content/CSE508_Winter2023_Dataset/cranfield0305', '/content/CSE508_Winter2023_Dataset/cranfield0346', '/content/CSE508_Winter2023_Dataset/cranfield0962']\n",
            "Number of documents retrieved for query 2 using positional inverted index : 5\n",
            "Name of documents retrieved for query 2 using positional inverted index : ['/content/CSE508_Winter2023_Dataset/cranfield0140', '/content/CSE508_Winter2023_Dataset/cranfield0254', '/content/CSE508_Winter2023_Dataset/cranfield0305', '/content/CSE508_Winter2023_Dataset/cranfield0346', '/content/CSE508_Winter2023_Dataset/cranfield0962']\n",
            "\n",
            "\n"
          ]
        }
      ]
    },
    {
      "cell_type": "code",
      "source": [
        "print(positional_index['experimental'])"
      ],
      "metadata": {
        "colab": {
          "base_uri": "https://localhost:8080/"
        },
        "id": "9JUPxj4UqxgU",
        "outputId": "5c2430bc-3271-4799-995b-f198142f635e"
      },
      "execution_count": null,
      "outputs": [
        {
          "output_type": "stream",
          "name": "stdout",
          "text": [
            "{0: [0, 5], 10: [48], 11: [27], 16: [30], 18: [27], 24: [86], 28: [129], 29: [19], 34: [61], 40: [26], 46: [109], 51: [10], 52: [7], 57: [51], 68: [70], 69: [11], 73: [0], 77: [74], 83: [0, 11], 98: [93, 130], 100: [180], 102: [55], 111: [79], 114: [96], 120: [76], 122: [18, 44], 136: [7], 139: [99], 141: [18], 153: [33], 155: [7], 167: [89], 169: [129], 170: [60], 172: [11, 52], 175: [10], 178: [112, 122], 182: [64], 183: [50], 185: [33, 54], 186: [9], 187: [107], 188: [0], 190: [106], 194: [19, 74, 89], 196: [45, 113], 201: [115], 202: [32], 205: [123, 129], 206: [41, 87], 211: [206], 215: [122], 219: [37], 221: [70], 224: [172], 226: [74], 229: [94], 233: [80, 97, 125, 136], 244: [11], 250: [43], 255: [0, 9], 256: [100], 261: [104], 270: [0, 12], 272: [37], 276: [36], 281: [131], 282: [72], 285: [19], 293: [43], 294: [10], 303: [145], 306: [76], 328: [50, 350], 329: [35], 333: [110, 130], 337: [23], 338: [0], 343: [0, 175], 344: [22], 345: [54, 102], 346: [5], 353: [55], 359: [37], 368: [43], 369: [74], 371: [0, 11], 376: [45], 396: [31], 408: [48], 410: [9, 43], 412: [67, 71], 417: [7], 419: [0], 420: [76], 422: [0], 426: [73], 434: [66], 438: [93], 440: [84], 441: [13, 65], 452: [13], 454: [34, 37], 461: [32], 463: [8], 466: [106], 483: [15, 21, 125], 493: [76, 87], 495: [62], 496: [1], 497: [66], 500: [29], 502: [20], 503: [88], 504: [9], 510: [10], 517: [86], 519: [22, 85], 521: [10, 31, 164], 535: [119], 539: [63], 543: [1, 49], 548: [0], 551: [64, 98], 552: [88], 557: [0], 562: [63], 566: [41], 568: [0], 571: [33, 115, 198, 218], 575: [192], 587: [136], 594: [13], 599: [15], 605: [31], 609: [30], 631: [38], 633: [72], 634: [11], 635: [13], 643: [59], 644: [4], 648: [36], 661: [1], 662: [60, 69], 665: [68, 71], 669: [11], 674: [65], 677: [29], 678: [86], 684: [130, 155, 168], 687: [18, 57, 81], 688: [35, 100], 693: [20], 703: [161, 180], 711: [169], 712: [18], 716: [53], 719: [29], 727: [36], 728: [74], 738: [58], 739: [22], 742: [64], 752: [11], 759: [10, 46, 57], 765: [0, 64], 766: [96, 129, 133], 771: [0, 7], 780: [94, 106], 789: [111], 800: [0, 13], 801: [62], 805: [114], 815: [0], 819: [110], 822: [42, 57], 824: [17], 826: [157], 829: [98], 835: [1, 45, 67, 71], 843: [17], 844: [78], 845: [95], 846: [0], 855: [0, 7, 57], 856: [0, 19], 857: [0, 62], 862: [40, 55], 865: [6, 55], 866: [37], 868: [139], 877: [0], 880: [41], 886: [52], 890: [20, 24], 906: [114], 910: [0], 911: [73], 922: [56], 923: [86], 926: [53], 927: [34, 150, 218], 931: [7, 24], 934: [32, 37], 945: [65], 949: [2, 26, 55], 950: [41], 953: [7, 43], 954: [9], 958: [5], 960: [64], 963: [61], 964: [41], 973: [66], 983: [36, 66], 985: [6, 40, 156], 995: [12], 996: [0, 6, 86], 998: [124], 1005: [43], 1007: [5], 1015: [41], 1018: [44, 84, 105], 1027: [98], 1038: [6, 66, 109], 1039: [6], 1044: [7], 1045: [38], 1048: [42], 1050: [64], 1061: [0, 25], 1065: [142, 190], 1068: [7], 1069: [55], 1073: [1, 49], 1074: [0], 1075: [49], 1077: [41], 1079: [44], 1080: [65], 1081: [144], 1082: [40], 1091: [9], 1096: [0, 6], 1097: [0], 1111: [73], 1117: [24, 36], 1121: [72, 75], 1124: [71], 1126: [91], 1144: [57], 1145: [5], 1150: [21], 1152: [12], 1154: [0], 1155: [0, 12], 1157: [29], 1158: [0], 1159: [30, 61], 1160: [8, 39], 1166: [0], 1170: [43], 1176: [8], 1184: [86], 1185: [50], 1186: [60], 1191: [69], 1194: [155], 1195: [6, 19], 1197: [107], 1198: [107], 1203: [0, 126], 1204: [10], 1208: [5, 75, 143], 1211: [9], 1212: [64, 94], 1213: [25, 31, 47], 1215: [76], 1217: [0], 1219: [7], 1221: [107], 1224: [72, 122, 136], 1226: [8], 1227: [62], 1229: [7], 1230: [44], 1233: [48], 1236: [59], 1260: [137], 1261: [63], 1262: [79], 1263: [7], 1267: [78], 1268: [28, 35], 1276: [117], 1289: [26], 1297: [60], 1301: [73, 82], 1309: [141], 1313: [18, 25], 1336: [6, 81], 1337: [12, 75], 1338: [112], 1340: [45], 1351: [90, 107], 1362: [56, 92], 1363: [0], 1368: [37], 1371: [10], 1373: [62], 1383: [81], 1389: [88], 1391: [127], 1395: [56], 1396: [40]}\n"
          ]
        }
      ]
    },
    {
      "cell_type": "code",
      "source": [
        "print(positional_index['investigation'])"
      ],
      "metadata": {
        "colab": {
          "base_uri": "https://localhost:8080/"
        },
        "id": "bnatU2rAq5hy",
        "outputId": "16ee6477-086d-403d-9c93-cf92d803522c"
      },
      "execution_count": null,
      "outputs": [
        {
          "output_type": "stream",
          "name": "stdout",
          "text": [
            "{0: [1], 7: [58], 8: [11, 175], 18: [0], 28: [130], 29: [1], 43: [83], 44: [0], 49: [0, 10], 55: [42], 72: [0], 73: [21], 77: [7], 78: [7], 79: [14], 81: [1, 97], 83: [1, 12], 88: [0, 9], 89: [6], 125: [0, 5], 127: [9], 128: [0], 134: [25], 164: [137], 169: [130], 172: [12], 173: [0, 16], 175: [11], 178: [9, 84], 183: [4], 186: [0], 187: [9, 76], 188: [1], 196: [16], 197: [0, 9, 33], 201: [49], 204: [13], 206: [8], 211: [31], 212: [4], 213: [10], 215: [4, 38], 221: [10, 68], 224: [84], 227: [9], 242: [0, 17], 244: [12], 245: [12], 250: [44], 251: [0], 259: [18], 264: [36], 279: [28], 293: [0], 311: [14], 338: [24], 341: [96], 364: [24], 371: [1, 12, 54], 373: [0], 389: [18], 422: [1], 426: [34], 432: [16], 433: [11, 65], 435: [8], 441: [14, 66, 69], 461: [68], 462: [4], 473: [5], 496: [2], 504: [10], 512: [34], 521: [11, 39], 526: [26], 548: [25, 38], 551: [99], 565: [0], 566: [81], 568: [1], 570: [11], 633: [17], 634: [12], 635: [14, 112], 637: [13], 642: [0], 650: [35], 654: [18], 661: [2, 44], 664: [21], 672: [0, 12, 32, 74], 688: [0], 691: [0, 14, 54], 692: [0, 14, 58], 693: [21], 694: [16, 152], 695: [17, 115], 699: [30], 708: [19], 709: [7, 110], 710: [0, 16], 711: [12, 79, 165, 174], 712: [19, 41, 56], 738: [61], 746: [12, 29], 756: [0], 758: [1], 765: [1], 771: [8], 779: [13, 34], 781: [49, 82, 101], 795: [0], 796: [11], 800: [14, 70], 803: [2], 807: [0, 15], 808: [0, 18], 810: [0, 9], 811: [0], 814: [0], 815: [1], 825: [90], 835: [2], 840: [23], 843: [18], 854: [28], 857: [1], 858: [13], 874: [2], 886: [53], 891: [16], 904: [47], 906: [37, 76], 926: [0], 931: [8], 932: [70], 945: [1], 951: [30], 952: [19], 958: [7], 959: [0], 969: [30], 970: [12], 971: [16], 985: [41], 991: [10, 143], 992: [20], 993: [0], 995: [13], 996: [27], 1000: [2], 1018: [85], 1038: [7], 1061: [2], 1062: [39], 1064: [1], 1065: [104], 1071: [6], 1073: [2], 1074: [2], 1077: [38], 1082: [0], 1090: [3], 1091: [10], 1093: [0, 18], 1094: [0, 13], 1096: [7], 1097: [1], 1099: [1], 1113: [30], 1115: [28], 1118: [66], 1129: [64], 1143: [149], 1155: [1, 13], 1158: [1], 1160: [9], 1161: [1, 14, 43], 1162: [1, 13, 42], 1163: [16, 72], 1164: [0], 1165: [0, 13], 1204: [11], 1212: [19], 1219: [8], 1224: [68, 73], 1226: [9], 1229: [8], 1230: [45], 1238: [3], 1246: [56], 1270: [71], 1271: [8], 1273: [48], 1308: [84], 1312: [344, 358], 1316: [4], 1318: [50], 1319: [13], 1322: [0], 1336: [8], 1337: [0, 13], 1340: [0, 11], 1342: [42], 1348: [15], 1351: [1, 16], 1352: [0], 1353: [0], 1363: [1, 9, 70], 1366: [1], 1372: [61], 1376: [1], 1380: [129], 1382: [16], 1386: [13], 1394: [41]}\n"
          ]
        }
      ]
    },
    {
      "cell_type": "code",
      "source": [],
      "metadata": {
        "id": "sESX3_Kf6eI4"
      },
      "execution_count": null,
      "outputs": []
    },
    {
      "cell_type": "code",
      "source": [],
      "metadata": {
        "id": "Ua3o23Jd6eMq"
      },
      "execution_count": null,
      "outputs": []
    },
    {
      "cell_type": "code",
      "source": [],
      "metadata": {
        "id": "u-KAp4b36eOF"
      },
      "execution_count": null,
      "outputs": []
    },
    {
      "cell_type": "code",
      "source": [],
      "metadata": {
        "id": "jmcO2Atk6eRe"
      },
      "execution_count": null,
      "outputs": []
    },
    {
      "cell_type": "code",
      "source": [],
      "metadata": {
        "id": "0_SeXgOU6eUA"
      },
      "execution_count": null,
      "outputs": []
    },
    {
      "cell_type": "code",
      "source": [],
      "metadata": {
        "id": "kzRS2EVn6eWP"
      },
      "execution_count": null,
      "outputs": []
    },
    {
      "cell_type": "code",
      "source": [],
      "metadata": {
        "id": "1uSqAjYz6eYO"
      },
      "execution_count": null,
      "outputs": []
    },
    {
      "cell_type": "code",
      "source": [],
      "metadata": {
        "id": "TaHsxQ5l6e_5"
      },
      "execution_count": null,
      "outputs": []
    },
    {
      "cell_type": "code",
      "source": [],
      "metadata": {
        "id": "hrP8i74M6fCo"
      },
      "execution_count": null,
      "outputs": []
    },
    {
      "cell_type": "code",
      "source": [],
      "metadata": {
        "id": "XbuyxKNM6fEz"
      },
      "execution_count": null,
      "outputs": []
    },
    {
      "cell_type": "code",
      "source": [],
      "metadata": {
        "id": "UgZddSlU6fGU"
      },
      "execution_count": null,
      "outputs": []
    },
    {
      "cell_type": "code",
      "source": [],
      "metadata": {
        "id": "3dyK2gvQ6fJ6"
      },
      "execution_count": null,
      "outputs": []
    },
    {
      "cell_type": "code",
      "source": [],
      "metadata": {
        "id": "jZWLr-XY6fLj"
      },
      "execution_count": null,
      "outputs": []
    },
    {
      "cell_type": "code",
      "source": [],
      "metadata": {
        "id": "UUeXP-mM6fOl"
      },
      "execution_count": null,
      "outputs": []
    },
    {
      "cell_type": "code",
      "source": [],
      "metadata": {
        "id": "iGIPwHHM6fQX"
      },
      "execution_count": null,
      "outputs": []
    },
    {
      "cell_type": "code",
      "source": [],
      "metadata": {
        "id": "BYpHvoPb6fTr"
      },
      "execution_count": null,
      "outputs": []
    },
    {
      "cell_type": "code",
      "source": [],
      "metadata": {
        "id": "TwBHErQG6fVH"
      },
      "execution_count": null,
      "outputs": []
    },
    {
      "cell_type": "code",
      "source": [],
      "metadata": {
        "id": "klFKfnUz6fYy"
      },
      "execution_count": null,
      "outputs": []
    },
    {
      "cell_type": "code",
      "source": [],
      "metadata": {
        "id": "_whtCOPL6faP"
      },
      "execution_count": null,
      "outputs": []
    }
  ]
}